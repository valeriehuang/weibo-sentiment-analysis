{
 "cells": [
  {
   "cell_type": "markdown",
   "metadata": {},
   "source": [
    "# Weibo Hot Topics"
   ]
  },
  {
   "cell_type": "markdown",
   "metadata": {},
   "source": [
    "## Preprocessing"
   ]
  },
  {
   "cell_type": "code",
   "execution_count": 287,
   "metadata": {},
   "outputs": [
    {
     "data": {
      "text/html": [
       "<div>\n",
       "<style scoped>\n",
       "    .dataframe tbody tr th:only-of-type {\n",
       "        vertical-align: middle;\n",
       "    }\n",
       "\n",
       "    .dataframe tbody tr th {\n",
       "        vertical-align: top;\n",
       "    }\n",
       "\n",
       "    .dataframe thead th {\n",
       "        text-align: right;\n",
       "    }\n",
       "</style>\n",
       "<table border=\"1\" class=\"dataframe\">\n",
       "  <thead>\n",
       "    <tr style=\"text-align: right;\">\n",
       "      <th></th>\n",
       "      <th>content</th>\n",
       "      <th>end_time</th>\n",
       "      <th>start_time</th>\n",
       "      <th>count</th>\n",
       "      <th>alive_time</th>\n",
       "      <th>start_mnth_day</th>\n",
       "      <th>end_mnth_day</th>\n",
       "    </tr>\n",
       "  </thead>\n",
       "  <tbody>\n",
       "    <tr>\n",
       "      <td>6401</td>\n",
       "      <td>惊蛰</td>\n",
       "      <td>2020-03-05 15:40:01</td>\n",
       "      <td>2019-10-26 20:08:02</td>\n",
       "      <td>444127</td>\n",
       "      <td>3139.533056</td>\n",
       "      <td>2019-10-26</td>\n",
       "      <td>2020-03-05</td>\n",
       "    </tr>\n",
       "    <tr>\n",
       "      <td>6036</td>\n",
       "      <td>天天向上</td>\n",
       "      <td>2020-03-02 10:38:02</td>\n",
       "      <td>2019-10-27 23:08:02</td>\n",
       "      <td>1750818</td>\n",
       "      <td>3035.500000</td>\n",
       "      <td>2019-10-27</td>\n",
       "      <td>2020-03-02</td>\n",
       "    </tr>\n",
       "    <tr>\n",
       "      <td>5240</td>\n",
       "      <td>快乐大本营</td>\n",
       "      <td>2020-02-29 22:22:01</td>\n",
       "      <td>2019-10-26 20:08:02</td>\n",
       "      <td>1655857</td>\n",
       "      <td>3026.233056</td>\n",
       "      <td>2019-10-26</td>\n",
       "      <td>2020-02-29</td>\n",
       "    </tr>\n",
       "    <tr>\n",
       "      <td>6121</td>\n",
       "      <td>詹姆斯三双</td>\n",
       "      <td>2020-03-02 12:38:02</td>\n",
       "      <td>2019-11-02 12:28:02</td>\n",
       "      <td>250208</td>\n",
       "      <td>2904.166667</td>\n",
       "      <td>2019-11-02</td>\n",
       "      <td>2020-03-02</td>\n",
       "    </tr>\n",
       "    <tr>\n",
       "      <td>5996</td>\n",
       "      <td>粉笔模考</td>\n",
       "      <td>2020-03-01 14:00:02</td>\n",
       "      <td>2019-11-03 11:28:01</td>\n",
       "      <td>1122536</td>\n",
       "      <td>2858.533611</td>\n",
       "      <td>2019-11-03</td>\n",
       "      <td>2020-03-01</td>\n",
       "    </tr>\n",
       "    <tr>\n",
       "      <td>...</td>\n",
       "      <td>...</td>\n",
       "      <td>...</td>\n",
       "      <td>...</td>\n",
       "      <td>...</td>\n",
       "      <td>...</td>\n",
       "      <td>...</td>\n",
       "      <td>...</td>\n",
       "    </tr>\n",
       "    <tr>\n",
       "      <td>5031</td>\n",
       "      <td>多家车企转产医疗物资</td>\n",
       "      <td>2020-02-20 12:18:02</td>\n",
       "      <td>2020-02-20 12:00:01</td>\n",
       "      <td>253686</td>\n",
       "      <td>0.300278</td>\n",
       "      <td>2020-02-20</td>\n",
       "      <td>2020-02-20</td>\n",
       "    </tr>\n",
       "    <tr>\n",
       "      <td>5233</td>\n",
       "      <td>疫情期间你的改变</td>\n",
       "      <td>2020-02-22 12:16:02</td>\n",
       "      <td>2020-02-22 11:58:01</td>\n",
       "      <td>255777</td>\n",
       "      <td>0.300278</td>\n",
       "      <td>2020-02-22</td>\n",
       "      <td>2020-02-22</td>\n",
       "    </tr>\n",
       "    <tr>\n",
       "      <td>281</td>\n",
       "      <td>税务师成绩</td>\n",
       "      <td>2020-01-03 12:08:01</td>\n",
       "      <td>2020-01-03 11:50:02</td>\n",
       "      <td>144489</td>\n",
       "      <td>0.299722</td>\n",
       "      <td>2020-01-03</td>\n",
       "      <td>2020-01-03</td>\n",
       "    </tr>\n",
       "    <tr>\n",
       "      <td>6514</td>\n",
       "      <td>陕西抗疫补贴超一线医护院长被免职</td>\n",
       "      <td>2020-03-06 08:50:01</td>\n",
       "      <td>2020-03-06 08:42:02</td>\n",
       "      <td>159699</td>\n",
       "      <td>0.133056</td>\n",
       "      <td>2020-03-06</td>\n",
       "      <td>2020-03-06</td>\n",
       "    </tr>\n",
       "    <tr>\n",
       "      <td>2345</td>\n",
       "      <td>春碗</td>\n",
       "      <td>2020-01-24 12:08:02</td>\n",
       "      <td>2020-01-24 12:04:01</td>\n",
       "      <td>271345</td>\n",
       "      <td>0.066944</td>\n",
       "      <td>2020-01-24</td>\n",
       "      <td>2020-01-24</td>\n",
       "    </tr>\n",
       "  </tbody>\n",
       "</table>\n",
       "<p>5806 rows × 7 columns</p>\n",
       "</div>"
      ],
      "text/plain": [
       "               content            end_time          start_time    count  \\\n",
       "6401                惊蛰 2020-03-05 15:40:01 2019-10-26 20:08:02   444127   \n",
       "6036              天天向上 2020-03-02 10:38:02 2019-10-27 23:08:02  1750818   \n",
       "5240             快乐大本营 2020-02-29 22:22:01 2019-10-26 20:08:02  1655857   \n",
       "6121             詹姆斯三双 2020-03-02 12:38:02 2019-11-02 12:28:02   250208   \n",
       "5996              粉笔模考 2020-03-01 14:00:02 2019-11-03 11:28:01  1122536   \n",
       "...                ...                 ...                 ...      ...   \n",
       "5031        多家车企转产医疗物资 2020-02-20 12:18:02 2020-02-20 12:00:01   253686   \n",
       "5233          疫情期间你的改变 2020-02-22 12:16:02 2020-02-22 11:58:01   255777   \n",
       "281              税务师成绩 2020-01-03 12:08:01 2020-01-03 11:50:02   144489   \n",
       "6514  陕西抗疫补贴超一线医护院长被免职 2020-03-06 08:50:01 2020-03-06 08:42:02   159699   \n",
       "2345                春碗 2020-01-24 12:08:02 2020-01-24 12:04:01   271345   \n",
       "\n",
       "       alive_time start_mnth_day end_mnth_day  \n",
       "6401  3139.533056     2019-10-26   2020-03-05  \n",
       "6036  3035.500000     2019-10-27   2020-03-02  \n",
       "5240  3026.233056     2019-10-26   2020-02-29  \n",
       "6121  2904.166667     2019-11-02   2020-03-02  \n",
       "5996  2858.533611     2019-11-03   2020-03-01  \n",
       "...           ...            ...          ...  \n",
       "5031     0.300278     2020-02-20   2020-02-20  \n",
       "5233     0.300278     2020-02-22   2020-02-22  \n",
       "281      0.299722     2020-01-03   2020-01-03  \n",
       "6514     0.133056     2020-03-06   2020-03-06  \n",
       "2345     0.066944     2020-01-24   2020-01-24  \n",
       "\n",
       "[5806 rows x 7 columns]"
      ]
     },
     "execution_count": 287,
     "metadata": {},
     "output_type": "execute_result"
    }
   ],
   "source": [
    "import pandas as pd\n",
    "import datetime\n",
    "from datetime import datetime, date\n",
    "import numpy as np\n",
    "\n",
    "df = pd.read_csv(\"./hot_search_data/weibo_hot_topic.csv\", index_col=0)\n",
    "\n",
    "df['end_time'] = pd.to_datetime(df['end_time'])\n",
    "df['start_time'] = pd.to_datetime(df['start_time'])\n",
    "df['alive_time'] = (df['end_time'] - df['start_time']).values/np.timedelta64(1, 'h')\n",
    "\n",
    "df['start_mnth_day'] = df['start_time'].apply(lambda x: x.strftime('%Y-%m-%d')) \n",
    "df['end_mnth_day'] = df['end_time'].apply(lambda x: x.strftime('%Y-%m-%d')) \n",
    "\n",
    "df = df.sort_values('count', ascending=False).drop_duplicates('content').sort_index()\n",
    "result_df = df.drop_duplicates(subset=['content'], keep='first')\n",
    "result_df = result_df.sort_values(by=['alive_time'], ascending=False)\n",
    "result_df.to_csv('hot_with_live_time.csv')\n",
    "result_df"
   ]
  },
  {
   "cell_type": "markdown",
   "metadata": {},
   "source": [
    "## Top 20 hot topic"
   ]
  },
  {
   "cell_type": "code",
   "execution_count": 288,
   "metadata": {},
   "outputs": [
    {
     "data": {
      "text/html": [
       "<div>\n",
       "<style scoped>\n",
       "    .dataframe tbody tr th:only-of-type {\n",
       "        vertical-align: middle;\n",
       "    }\n",
       "\n",
       "    .dataframe tbody tr th {\n",
       "        vertical-align: top;\n",
       "    }\n",
       "\n",
       "    .dataframe thead th {\n",
       "        text-align: right;\n",
       "    }\n",
       "</style>\n",
       "<table border=\"1\" class=\"dataframe\">\n",
       "  <thead>\n",
       "    <tr style=\"text-align: right;\">\n",
       "      <th></th>\n",
       "      <th>content</th>\n",
       "      <th>end_time</th>\n",
       "      <th>start_time</th>\n",
       "      <th>count</th>\n",
       "      <th>alive_time</th>\n",
       "      <th>start_mnth_day</th>\n",
       "      <th>end_mnth_day</th>\n",
       "      <th>rank</th>\n",
       "      <th>inside_text</th>\n",
       "    </tr>\n",
       "  </thead>\n",
       "  <tbody>\n",
       "    <tr>\n",
       "      <td>2599</td>\n",
       "      <td>安徽出现聚集性疫情</td>\n",
       "      <td>2020-01-27 19:18:01</td>\n",
       "      <td>2020-01-27 10:42:02</td>\n",
       "      <td>16360270</td>\n",
       "      <td>8.599722</td>\n",
       "      <td>2020-01-27</td>\n",
       "      <td>2020-01-27</td>\n",
       "      <td>NO.1</td>\n",
       "      <td>安徽出现聚集性疫情   Search count:16360270</td>\n",
       "    </tr>\n",
       "    <tr>\n",
       "      <td>3048</td>\n",
       "      <td>双黄连可抑制新型冠状病毒</td>\n",
       "      <td>2020-02-01 14:22:02</td>\n",
       "      <td>2020-01-31 23:10:02</td>\n",
       "      <td>16134192</td>\n",
       "      <td>15.200000</td>\n",
       "      <td>2020-01-31</td>\n",
       "      <td>2020-02-01</td>\n",
       "      <td>NO.2</td>\n",
       "      <td>双黄连可抑制新型冠状病毒   Search count:16134192</td>\n",
       "    </tr>\n",
       "    <tr>\n",
       "      <td>3645</td>\n",
       "      <td>湖北副省长回应武汉市民网络求助</td>\n",
       "      <td>2020-02-07 14:44:01</td>\n",
       "      <td>2020-02-06 22:28:02</td>\n",
       "      <td>15248291</td>\n",
       "      <td>16.266389</td>\n",
       "      <td>2020-02-06</td>\n",
       "      <td>2020-02-07</td>\n",
       "      <td>NO.3</td>\n",
       "      <td>湖北副省长回应武汉市民网络求助   Search count:15248291</td>\n",
       "    </tr>\n",
       "    <tr>\n",
       "      <td>2351</td>\n",
       "      <td>全国确诊新型肺炎病例</td>\n",
       "      <td>2020-01-30 14:02:01</td>\n",
       "      <td>2020-01-22 23:26:02</td>\n",
       "      <td>14972975</td>\n",
       "      <td>182.599722</td>\n",
       "      <td>2020-01-22</td>\n",
       "      <td>2020-01-30</td>\n",
       "      <td>NO.4</td>\n",
       "      <td>全国确诊新型肺炎病例   Search count:14972975</td>\n",
       "    </tr>\n",
       "    <tr>\n",
       "      <td>2400</td>\n",
       "      <td>新加坡抵杭州一架航班所有乘客隔离</td>\n",
       "      <td>2020-01-25 18:00:02</td>\n",
       "      <td>2020-01-25 10:30:01</td>\n",
       "      <td>13061134</td>\n",
       "      <td>7.500278</td>\n",
       "      <td>2020-01-25</td>\n",
       "      <td>2020-01-25</td>\n",
       "      <td>NO.5</td>\n",
       "      <td>新加坡抵杭州一架航班所有乘客隔离   Search count:13061134</td>\n",
       "    </tr>\n",
       "    <tr>\n",
       "      <td>2549</td>\n",
       "      <td>500万人离开武汉</td>\n",
       "      <td>2020-01-27 12:48:01</td>\n",
       "      <td>2020-01-26 22:44:02</td>\n",
       "      <td>11412070</td>\n",
       "      <td>14.066389</td>\n",
       "      <td>2020-01-26</td>\n",
       "      <td>2020-01-27</td>\n",
       "      <td>NO.6</td>\n",
       "      <td>500万人离开武汉   Search count:11412070</td>\n",
       "    </tr>\n",
       "    <tr>\n",
       "      <td>3147</td>\n",
       "      <td>湖南禽流感</td>\n",
       "      <td>2020-02-02 13:06:01</td>\n",
       "      <td>2020-02-01 22:26:01</td>\n",
       "      <td>10822673</td>\n",
       "      <td>14.666667</td>\n",
       "      <td>2020-02-01</td>\n",
       "      <td>2020-02-02</td>\n",
       "      <td>NO.7</td>\n",
       "      <td>湖南禽流感   Search count:10822673</td>\n",
       "    </tr>\n",
       "    <tr>\n",
       "      <td>2301</td>\n",
       "      <td>湖北一家三口去山东过年被举报</td>\n",
       "      <td>2020-01-24 20:20:02</td>\n",
       "      <td>2020-01-24 10:54:02</td>\n",
       "      <td>10554971</td>\n",
       "      <td>9.433333</td>\n",
       "      <td>2020-01-24</td>\n",
       "      <td>2020-01-24</td>\n",
       "      <td>NO.8</td>\n",
       "      <td>湖北一家三口去山东过年被举报   Search count:10554971</td>\n",
       "    </tr>\n",
       "    <tr>\n",
       "      <td>2105</td>\n",
       "      <td>新型肺炎确诊440例死亡9例</td>\n",
       "      <td>2020-01-22 18:48:02</td>\n",
       "      <td>2020-01-22 10:30:01</td>\n",
       "      <td>10231631</td>\n",
       "      <td>8.300278</td>\n",
       "      <td>2020-01-22</td>\n",
       "      <td>2020-01-22</td>\n",
       "      <td>NO.9</td>\n",
       "      <td>新型肺炎确诊440例死亡9例   Search count:10231631</td>\n",
       "    </tr>\n",
       "    <tr>\n",
       "      <td>2600</td>\n",
       "      <td>浙江成功分离到新型冠状病毒毒株</td>\n",
       "      <td>2020-01-27 18:14:02</td>\n",
       "      <td>2020-01-27 09:22:01</td>\n",
       "      <td>10025927</td>\n",
       "      <td>8.866944</td>\n",
       "      <td>2020-01-27</td>\n",
       "      <td>2020-01-27</td>\n",
       "      <td>NO.10</td>\n",
       "      <td>浙江成功分离到新型冠状病毒毒株   Search count:10025927</td>\n",
       "    </tr>\n",
       "    <tr>\n",
       "      <td>2601</td>\n",
       "      <td>科比直升机失事原因</td>\n",
       "      <td>2020-01-28 03:20:02</td>\n",
       "      <td>2020-01-27 11:18:02</td>\n",
       "      <td>8824066</td>\n",
       "      <td>16.033333</td>\n",
       "      <td>2020-01-27</td>\n",
       "      <td>2020-01-28</td>\n",
       "      <td>NO.11</td>\n",
       "      <td>科比直升机失事原因   Search count:8824066</td>\n",
       "    </tr>\n",
       "    <tr>\n",
       "      <td>2153</td>\n",
       "      <td>新型肺炎已致湖北17人死亡</td>\n",
       "      <td>2020-01-23 12:44:02</td>\n",
       "      <td>2020-01-22 22:46:02</td>\n",
       "      <td>8644255</td>\n",
       "      <td>13.966667</td>\n",
       "      <td>2020-01-22</td>\n",
       "      <td>2020-01-23</td>\n",
       "      <td>NO.12</td>\n",
       "      <td>新型肺炎已致湖北17人死亡   Search count:8644255</td>\n",
       "    </tr>\n",
       "    <tr>\n",
       "      <td>4293</td>\n",
       "      <td>湖北省委主要负责同志职务调整</td>\n",
       "      <td>2020-02-14 11:36:02</td>\n",
       "      <td>2020-02-13 11:36:02</td>\n",
       "      <td>8559910</td>\n",
       "      <td>24.000000</td>\n",
       "      <td>2020-02-13</td>\n",
       "      <td>2020-02-14</td>\n",
       "      <td>NO.13</td>\n",
       "      <td>湖北省委主要负责同志职务调整   Search count:8559910</td>\n",
       "    </tr>\n",
       "    <tr>\n",
       "      <td>2251</td>\n",
       "      <td>广东启动重大突发公共卫生事件一级响应</td>\n",
       "      <td>2020-01-24 10:46:01</td>\n",
       "      <td>2020-01-23 22:44:02</td>\n",
       "      <td>8228748</td>\n",
       "      <td>12.033056</td>\n",
       "      <td>2020-01-23</td>\n",
       "      <td>2020-01-24</td>\n",
       "      <td>NO.14</td>\n",
       "      <td>广东启动重大突发公共卫生事件一级响应   Search count:8228748</td>\n",
       "    </tr>\n",
       "    <tr>\n",
       "      <td>2202</td>\n",
       "      <td>澳门取消所有春节庆祝活动</td>\n",
       "      <td>2020-01-23 22:52:01</td>\n",
       "      <td>2020-01-23 11:08:02</td>\n",
       "      <td>7879944</td>\n",
       "      <td>11.733056</td>\n",
       "      <td>2020-01-23</td>\n",
       "      <td>2020-01-23</td>\n",
       "      <td>NO.15</td>\n",
       "      <td>澳门取消所有春节庆祝活动   Search count:7879944</td>\n",
       "    </tr>\n",
       "    <tr>\n",
       "      <td>2302</td>\n",
       "      <td>囧妈初一上线免费播出</td>\n",
       "      <td>2020-01-24 12:38:02</td>\n",
       "      <td>2020-01-24 11:02:01</td>\n",
       "      <td>7768150</td>\n",
       "      <td>1.600278</td>\n",
       "      <td>2020-01-24</td>\n",
       "      <td>2020-01-24</td>\n",
       "      <td>NO.16</td>\n",
       "      <td>囧妈初一上线免费播出   Search count:7768150</td>\n",
       "    </tr>\n",
       "    <tr>\n",
       "      <td>2699</td>\n",
       "      <td>全国累计确诊病例4515例</td>\n",
       "      <td>2020-01-28 19:02:02</td>\n",
       "      <td>2020-01-28 10:40:02</td>\n",
       "      <td>7501900</td>\n",
       "      <td>8.366667</td>\n",
       "      <td>2020-01-28</td>\n",
       "      <td>2020-01-28</td>\n",
       "      <td>NO.17</td>\n",
       "      <td>全国累计确诊病例4515例   Search count:7501900</td>\n",
       "    </tr>\n",
       "    <tr>\n",
       "      <td>3197</td>\n",
       "      <td>最早发现疫情的武汉女医生</td>\n",
       "      <td>2020-02-02 20:50:01</td>\n",
       "      <td>2020-02-02 11:00:02</td>\n",
       "      <td>7102696</td>\n",
       "      <td>9.833056</td>\n",
       "      <td>2020-02-02</td>\n",
       "      <td>2020-02-02</td>\n",
       "      <td>NO.18</td>\n",
       "      <td>最早发现疫情的武汉女医生   Search count:7102696</td>\n",
       "    </tr>\n",
       "    <tr>\n",
       "      <td>6028</td>\n",
       "      <td>肖战工作室道歉</td>\n",
       "      <td>2020-03-02 14:00:02</td>\n",
       "      <td>2020-03-01 21:48:01</td>\n",
       "      <td>7102556</td>\n",
       "      <td>16.200278</td>\n",
       "      <td>2020-03-01</td>\n",
       "      <td>2020-03-02</td>\n",
       "      <td>NO.19</td>\n",
       "      <td>肖战工作室道歉   Search count:7102556</td>\n",
       "    </tr>\n",
       "    <tr>\n",
       "      <td>2203</td>\n",
       "      <td>广东发现6起家庭聚集性疫情</td>\n",
       "      <td>2020-01-23 21:00:02</td>\n",
       "      <td>2020-01-23 11:32:02</td>\n",
       "      <td>6760344</td>\n",
       "      <td>9.466667</td>\n",
       "      <td>2020-01-23</td>\n",
       "      <td>2020-01-23</td>\n",
       "      <td>NO.20</td>\n",
       "      <td>广东发现6起家庭聚集性疫情   Search count:6760344</td>\n",
       "    </tr>\n",
       "  </tbody>\n",
       "</table>\n",
       "</div>"
      ],
      "text/plain": [
       "                 content            end_time          start_time     count  \\\n",
       "2599           安徽出现聚集性疫情 2020-01-27 19:18:01 2020-01-27 10:42:02  16360270   \n",
       "3048        双黄连可抑制新型冠状病毒 2020-02-01 14:22:02 2020-01-31 23:10:02  16134192   \n",
       "3645     湖北副省长回应武汉市民网络求助 2020-02-07 14:44:01 2020-02-06 22:28:02  15248291   \n",
       "2351          全国确诊新型肺炎病例 2020-01-30 14:02:01 2020-01-22 23:26:02  14972975   \n",
       "2400    新加坡抵杭州一架航班所有乘客隔离 2020-01-25 18:00:02 2020-01-25 10:30:01  13061134   \n",
       "2549           500万人离开武汉 2020-01-27 12:48:01 2020-01-26 22:44:02  11412070   \n",
       "3147               湖南禽流感 2020-02-02 13:06:01 2020-02-01 22:26:01  10822673   \n",
       "2301      湖北一家三口去山东过年被举报 2020-01-24 20:20:02 2020-01-24 10:54:02  10554971   \n",
       "2105      新型肺炎确诊440例死亡9例 2020-01-22 18:48:02 2020-01-22 10:30:01  10231631   \n",
       "2600     浙江成功分离到新型冠状病毒毒株 2020-01-27 18:14:02 2020-01-27 09:22:01  10025927   \n",
       "2601           科比直升机失事原因 2020-01-28 03:20:02 2020-01-27 11:18:02   8824066   \n",
       "2153       新型肺炎已致湖北17人死亡 2020-01-23 12:44:02 2020-01-22 22:46:02   8644255   \n",
       "4293      湖北省委主要负责同志职务调整 2020-02-14 11:36:02 2020-02-13 11:36:02   8559910   \n",
       "2251  广东启动重大突发公共卫生事件一级响应 2020-01-24 10:46:01 2020-01-23 22:44:02   8228748   \n",
       "2202        澳门取消所有春节庆祝活动 2020-01-23 22:52:01 2020-01-23 11:08:02   7879944   \n",
       "2302          囧妈初一上线免费播出 2020-01-24 12:38:02 2020-01-24 11:02:01   7768150   \n",
       "2699       全国累计确诊病例4515例 2020-01-28 19:02:02 2020-01-28 10:40:02   7501900   \n",
       "3197        最早发现疫情的武汉女医生 2020-02-02 20:50:01 2020-02-02 11:00:02   7102696   \n",
       "6028             肖战工作室道歉 2020-03-02 14:00:02 2020-03-01 21:48:01   7102556   \n",
       "2203       广东发现6起家庭聚集性疫情 2020-01-23 21:00:02 2020-01-23 11:32:02   6760344   \n",
       "\n",
       "      alive_time start_mnth_day end_mnth_day   rank  \\\n",
       "2599    8.599722     2020-01-27   2020-01-27   NO.1   \n",
       "3048   15.200000     2020-01-31   2020-02-01   NO.2   \n",
       "3645   16.266389     2020-02-06   2020-02-07   NO.3   \n",
       "2351  182.599722     2020-01-22   2020-01-30   NO.4   \n",
       "2400    7.500278     2020-01-25   2020-01-25   NO.5   \n",
       "2549   14.066389     2020-01-26   2020-01-27   NO.6   \n",
       "3147   14.666667     2020-02-01   2020-02-02   NO.7   \n",
       "2301    9.433333     2020-01-24   2020-01-24   NO.8   \n",
       "2105    8.300278     2020-01-22   2020-01-22   NO.9   \n",
       "2600    8.866944     2020-01-27   2020-01-27  NO.10   \n",
       "2601   16.033333     2020-01-27   2020-01-28  NO.11   \n",
       "2153   13.966667     2020-01-22   2020-01-23  NO.12   \n",
       "4293   24.000000     2020-02-13   2020-02-14  NO.13   \n",
       "2251   12.033056     2020-01-23   2020-01-24  NO.14   \n",
       "2202   11.733056     2020-01-23   2020-01-23  NO.15   \n",
       "2302    1.600278     2020-01-24   2020-01-24  NO.16   \n",
       "2699    8.366667     2020-01-28   2020-01-28  NO.17   \n",
       "3197    9.833056     2020-02-02   2020-02-02  NO.18   \n",
       "6028   16.200278     2020-03-01   2020-03-02  NO.19   \n",
       "2203    9.466667     2020-01-23   2020-01-23  NO.20   \n",
       "\n",
       "                                    inside_text  \n",
       "2599          安徽出现聚集性疫情   Search count:16360270  \n",
       "3048       双黄连可抑制新型冠状病毒   Search count:16134192  \n",
       "3645    湖北副省长回应武汉市民网络求助   Search count:15248291  \n",
       "2351         全国确诊新型肺炎病例   Search count:14972975  \n",
       "2400   新加坡抵杭州一架航班所有乘客隔离   Search count:13061134  \n",
       "2549          500万人离开武汉   Search count:11412070  \n",
       "3147              湖南禽流感   Search count:10822673  \n",
       "2301     湖北一家三口去山东过年被举报   Search count:10554971  \n",
       "2105     新型肺炎确诊440例死亡9例   Search count:10231631  \n",
       "2600    浙江成功分离到新型冠状病毒毒株   Search count:10025927  \n",
       "2601           科比直升机失事原因   Search count:8824066  \n",
       "2153       新型肺炎已致湖北17人死亡   Search count:8644255  \n",
       "4293      湖北省委主要负责同志职务调整   Search count:8559910  \n",
       "2251  广东启动重大突发公共卫生事件一级响应   Search count:8228748  \n",
       "2202        澳门取消所有春节庆祝活动   Search count:7879944  \n",
       "2302          囧妈初一上线免费播出   Search count:7768150  \n",
       "2699       全国累计确诊病例4515例   Search count:7501900  \n",
       "3197        最早发现疫情的武汉女医生   Search count:7102696  \n",
       "6028             肖战工作室道歉   Search count:7102556  \n",
       "2203       广东发现6起家庭聚集性疫情   Search count:6760344  "
      ]
     },
     "execution_count": 288,
     "metadata": {},
     "output_type": "execute_result"
    }
   ],
   "source": [
    "top_20_df = result_df.sort_values(by=['count'], ascending=False)\n",
    "\n",
    "top_20_df = top_20_df.head(20)\n",
    "\n",
    "rank_list = [\"NO.\" + str(num) for num in [i for i in range(1, 21)]]\n",
    "top_20_df['rank'] = rank_list\n",
    "\n",
    "inside_text = []\n",
    "for i in range(len(rank_list)): \n",
    "    inside_text.append(\"{}   Search count:{}\".format(top_20_df['content'].iloc[i], \n",
    "                                                     top_20_df['count'].iloc[i]))\n",
    "top_20_df['inside_text'] = inside_text\n",
    "\n",
    "top_20_df.to_csv('top20_hot_topic.csv')\n",
    "top_20_df"
   ]
  },
  {
   "cell_type": "code",
   "execution_count": 223,
   "metadata": {},
   "outputs": [
    {
     "data": {
      "application/vnd.plotly.v1+json": {
       "config": {
        "plotlyServerURL": "https://plot.ly"
       },
       "data": [
        {
         "insidetextanchor": "middle",
         "marker": {
          "color": [
           "hsl(33, 100%, 30%)",
           "hsl(33, 100%, 33%)",
           "hsl(33, 100%, 36%)",
           "hsl(33, 100%, 39%)",
           "hsl(33, 100%, 42%)",
           "hsl(33, 100%, 45%)",
           "hsl(33, 100%, 48%)",
           "hsl(33, 100%, 51%)",
           "hsl(33, 100%, 54%)",
           "hsl(33, 100%, 57%)",
           "hsl(33, 100%, 60%)",
           "hsl(33, 100%, 63%)",
           "hsl(33, 100%, 66%)",
           "hsl(33, 100%, 69%)",
           "hsl(33, 100%, 72%)",
           "hsl(33, 100%, 75%)",
           "hsl(33, 100%, 78%)",
           "hsl(33, 100%, 81%)",
           "hsl(33, 100%, 84%)",
           "hsl(33, 100%, 87%)"
          ]
         },
         "orientation": "h",
         "text": [
          "广东发现6起家庭聚集性疫情   Search count:6760344",
          "肖战工作室道歉   Search count:7102556",
          "最早发现疫情的武汉女医生   Search count:7102696",
          "全国累计确诊病例4515例   Search count:7501900",
          "囧妈初一上线免费播出   Search count:7768150",
          "澳门取消所有春节庆祝活动   Search count:7879944",
          "广东启动重大突发公共卫生事件一级响应   Search count:8228748",
          "湖北省委主要负责同志职务调整   Search count:8559910",
          "新型肺炎已致湖北17人死亡   Search count:8644255",
          "科比直升机失事原因   Search count:8824066",
          "浙江成功分离到新型冠状病毒毒株   Search count:10025927",
          "新型肺炎确诊440例死亡9例   Search count:10231631",
          "湖北一家三口去山东过年被举报   Search count:10554971",
          "湖南禽流感   Search count:10822673",
          "500万人离开武汉   Search count:11412070",
          "新加坡抵杭州一架航班所有乘客隔离   Search count:13061134",
          "全国确诊新型肺炎病例   Search count:14972975",
          "湖北副省长回应武汉市民网络求助   Search count:15248291",
          "双黄连可抑制新型冠状病毒   Search count:16134192",
          "安徽出现聚集性疫情   Search count:16360270"
         ],
         "textfont": {
          "color": "#262626",
          "family": "Arial",
          "size": 20
         },
         "textposition": "inside",
         "type": "bar",
         "x": [
          6760344,
          7102556,
          7102696,
          7501900,
          7768150,
          7879944,
          8228748,
          8559910,
          8644255,
          8824066,
          10025927,
          10231631,
          10554971,
          10822673,
          11412070,
          13061134,
          14972975,
          15248291,
          16134192,
          16360270
         ],
         "y": [
          "NO.20",
          "NO.19",
          "NO.18",
          "NO.17",
          "NO.16",
          "NO.15",
          "NO.14",
          "NO.13",
          "NO.12",
          "NO.11",
          "NO.10",
          "NO.9",
          "NO.8",
          "NO.7",
          "NO.6",
          "NO.5",
          "NO.4",
          "NO.3",
          "NO.2",
          "NO.1"
         ]
        }
       ],
       "layout": {
        "autosize": false,
        "font": {
         "color": "#262626",
         "family": "Arial",
         "size": 18
        },
        "height": 800,
        "plot_bgcolor": "#ffffff",
        "template": {
         "data": {
          "bar": [
           {
            "error_x": {
             "color": "#2a3f5f"
            },
            "error_y": {
             "color": "#2a3f5f"
            },
            "marker": {
             "line": {
              "color": "#E5ECF6",
              "width": 0.5
             }
            },
            "type": "bar"
           }
          ],
          "barpolar": [
           {
            "marker": {
             "line": {
              "color": "#E5ECF6",
              "width": 0.5
             }
            },
            "type": "barpolar"
           }
          ],
          "carpet": [
           {
            "aaxis": {
             "endlinecolor": "#2a3f5f",
             "gridcolor": "white",
             "linecolor": "white",
             "minorgridcolor": "white",
             "startlinecolor": "#2a3f5f"
            },
            "baxis": {
             "endlinecolor": "#2a3f5f",
             "gridcolor": "white",
             "linecolor": "white",
             "minorgridcolor": "white",
             "startlinecolor": "#2a3f5f"
            },
            "type": "carpet"
           }
          ],
          "choropleth": [
           {
            "colorbar": {
             "outlinewidth": 0,
             "ticks": ""
            },
            "type": "choropleth"
           }
          ],
          "contour": [
           {
            "colorbar": {
             "outlinewidth": 0,
             "ticks": ""
            },
            "colorscale": [
             [
              0,
              "#0d0887"
             ],
             [
              0.1111111111111111,
              "#46039f"
             ],
             [
              0.2222222222222222,
              "#7201a8"
             ],
             [
              0.3333333333333333,
              "#9c179e"
             ],
             [
              0.4444444444444444,
              "#bd3786"
             ],
             [
              0.5555555555555556,
              "#d8576b"
             ],
             [
              0.6666666666666666,
              "#ed7953"
             ],
             [
              0.7777777777777778,
              "#fb9f3a"
             ],
             [
              0.8888888888888888,
              "#fdca26"
             ],
             [
              1,
              "#f0f921"
             ]
            ],
            "type": "contour"
           }
          ],
          "contourcarpet": [
           {
            "colorbar": {
             "outlinewidth": 0,
             "ticks": ""
            },
            "type": "contourcarpet"
           }
          ],
          "heatmap": [
           {
            "colorbar": {
             "outlinewidth": 0,
             "ticks": ""
            },
            "colorscale": [
             [
              0,
              "#0d0887"
             ],
             [
              0.1111111111111111,
              "#46039f"
             ],
             [
              0.2222222222222222,
              "#7201a8"
             ],
             [
              0.3333333333333333,
              "#9c179e"
             ],
             [
              0.4444444444444444,
              "#bd3786"
             ],
             [
              0.5555555555555556,
              "#d8576b"
             ],
             [
              0.6666666666666666,
              "#ed7953"
             ],
             [
              0.7777777777777778,
              "#fb9f3a"
             ],
             [
              0.8888888888888888,
              "#fdca26"
             ],
             [
              1,
              "#f0f921"
             ]
            ],
            "type": "heatmap"
           }
          ],
          "heatmapgl": [
           {
            "colorbar": {
             "outlinewidth": 0,
             "ticks": ""
            },
            "colorscale": [
             [
              0,
              "#0d0887"
             ],
             [
              0.1111111111111111,
              "#46039f"
             ],
             [
              0.2222222222222222,
              "#7201a8"
             ],
             [
              0.3333333333333333,
              "#9c179e"
             ],
             [
              0.4444444444444444,
              "#bd3786"
             ],
             [
              0.5555555555555556,
              "#d8576b"
             ],
             [
              0.6666666666666666,
              "#ed7953"
             ],
             [
              0.7777777777777778,
              "#fb9f3a"
             ],
             [
              0.8888888888888888,
              "#fdca26"
             ],
             [
              1,
              "#f0f921"
             ]
            ],
            "type": "heatmapgl"
           }
          ],
          "histogram": [
           {
            "marker": {
             "colorbar": {
              "outlinewidth": 0,
              "ticks": ""
             }
            },
            "type": "histogram"
           }
          ],
          "histogram2d": [
           {
            "colorbar": {
             "outlinewidth": 0,
             "ticks": ""
            },
            "colorscale": [
             [
              0,
              "#0d0887"
             ],
             [
              0.1111111111111111,
              "#46039f"
             ],
             [
              0.2222222222222222,
              "#7201a8"
             ],
             [
              0.3333333333333333,
              "#9c179e"
             ],
             [
              0.4444444444444444,
              "#bd3786"
             ],
             [
              0.5555555555555556,
              "#d8576b"
             ],
             [
              0.6666666666666666,
              "#ed7953"
             ],
             [
              0.7777777777777778,
              "#fb9f3a"
             ],
             [
              0.8888888888888888,
              "#fdca26"
             ],
             [
              1,
              "#f0f921"
             ]
            ],
            "type": "histogram2d"
           }
          ],
          "histogram2dcontour": [
           {
            "colorbar": {
             "outlinewidth": 0,
             "ticks": ""
            },
            "colorscale": [
             [
              0,
              "#0d0887"
             ],
             [
              0.1111111111111111,
              "#46039f"
             ],
             [
              0.2222222222222222,
              "#7201a8"
             ],
             [
              0.3333333333333333,
              "#9c179e"
             ],
             [
              0.4444444444444444,
              "#bd3786"
             ],
             [
              0.5555555555555556,
              "#d8576b"
             ],
             [
              0.6666666666666666,
              "#ed7953"
             ],
             [
              0.7777777777777778,
              "#fb9f3a"
             ],
             [
              0.8888888888888888,
              "#fdca26"
             ],
             [
              1,
              "#f0f921"
             ]
            ],
            "type": "histogram2dcontour"
           }
          ],
          "mesh3d": [
           {
            "colorbar": {
             "outlinewidth": 0,
             "ticks": ""
            },
            "type": "mesh3d"
           }
          ],
          "parcoords": [
           {
            "line": {
             "colorbar": {
              "outlinewidth": 0,
              "ticks": ""
             }
            },
            "type": "parcoords"
           }
          ],
          "pie": [
           {
            "automargin": true,
            "type": "pie"
           }
          ],
          "scatter": [
           {
            "marker": {
             "colorbar": {
              "outlinewidth": 0,
              "ticks": ""
             }
            },
            "type": "scatter"
           }
          ],
          "scatter3d": [
           {
            "line": {
             "colorbar": {
              "outlinewidth": 0,
              "ticks": ""
             }
            },
            "marker": {
             "colorbar": {
              "outlinewidth": 0,
              "ticks": ""
             }
            },
            "type": "scatter3d"
           }
          ],
          "scattercarpet": [
           {
            "marker": {
             "colorbar": {
              "outlinewidth": 0,
              "ticks": ""
             }
            },
            "type": "scattercarpet"
           }
          ],
          "scattergeo": [
           {
            "marker": {
             "colorbar": {
              "outlinewidth": 0,
              "ticks": ""
             }
            },
            "type": "scattergeo"
           }
          ],
          "scattergl": [
           {
            "marker": {
             "colorbar": {
              "outlinewidth": 0,
              "ticks": ""
             }
            },
            "type": "scattergl"
           }
          ],
          "scattermapbox": [
           {
            "marker": {
             "colorbar": {
              "outlinewidth": 0,
              "ticks": ""
             }
            },
            "type": "scattermapbox"
           }
          ],
          "scatterpolar": [
           {
            "marker": {
             "colorbar": {
              "outlinewidth": 0,
              "ticks": ""
             }
            },
            "type": "scatterpolar"
           }
          ],
          "scatterpolargl": [
           {
            "marker": {
             "colorbar": {
              "outlinewidth": 0,
              "ticks": ""
             }
            },
            "type": "scatterpolargl"
           }
          ],
          "scatterternary": [
           {
            "marker": {
             "colorbar": {
              "outlinewidth": 0,
              "ticks": ""
             }
            },
            "type": "scatterternary"
           }
          ],
          "surface": [
           {
            "colorbar": {
             "outlinewidth": 0,
             "ticks": ""
            },
            "colorscale": [
             [
              0,
              "#0d0887"
             ],
             [
              0.1111111111111111,
              "#46039f"
             ],
             [
              0.2222222222222222,
              "#7201a8"
             ],
             [
              0.3333333333333333,
              "#9c179e"
             ],
             [
              0.4444444444444444,
              "#bd3786"
             ],
             [
              0.5555555555555556,
              "#d8576b"
             ],
             [
              0.6666666666666666,
              "#ed7953"
             ],
             [
              0.7777777777777778,
              "#fb9f3a"
             ],
             [
              0.8888888888888888,
              "#fdca26"
             ],
             [
              1,
              "#f0f921"
             ]
            ],
            "type": "surface"
           }
          ],
          "table": [
           {
            "cells": {
             "fill": {
              "color": "#EBF0F8"
             },
             "line": {
              "color": "white"
             }
            },
            "header": {
             "fill": {
              "color": "#C8D4E3"
             },
             "line": {
              "color": "white"
             }
            },
            "type": "table"
           }
          ]
         },
         "layout": {
          "annotationdefaults": {
           "arrowcolor": "#2a3f5f",
           "arrowhead": 0,
           "arrowwidth": 1
          },
          "coloraxis": {
           "colorbar": {
            "outlinewidth": 0,
            "ticks": ""
           }
          },
          "colorscale": {
           "diverging": [
            [
             0,
             "#8e0152"
            ],
            [
             0.1,
             "#c51b7d"
            ],
            [
             0.2,
             "#de77ae"
            ],
            [
             0.3,
             "#f1b6da"
            ],
            [
             0.4,
             "#fde0ef"
            ],
            [
             0.5,
             "#f7f7f7"
            ],
            [
             0.6,
             "#e6f5d0"
            ],
            [
             0.7,
             "#b8e186"
            ],
            [
             0.8,
             "#7fbc41"
            ],
            [
             0.9,
             "#4d9221"
            ],
            [
             1,
             "#276419"
            ]
           ],
           "sequential": [
            [
             0,
             "#0d0887"
            ],
            [
             0.1111111111111111,
             "#46039f"
            ],
            [
             0.2222222222222222,
             "#7201a8"
            ],
            [
             0.3333333333333333,
             "#9c179e"
            ],
            [
             0.4444444444444444,
             "#bd3786"
            ],
            [
             0.5555555555555556,
             "#d8576b"
            ],
            [
             0.6666666666666666,
             "#ed7953"
            ],
            [
             0.7777777777777778,
             "#fb9f3a"
            ],
            [
             0.8888888888888888,
             "#fdca26"
            ],
            [
             1,
             "#f0f921"
            ]
           ],
           "sequentialminus": [
            [
             0,
             "#0d0887"
            ],
            [
             0.1111111111111111,
             "#46039f"
            ],
            [
             0.2222222222222222,
             "#7201a8"
            ],
            [
             0.3333333333333333,
             "#9c179e"
            ],
            [
             0.4444444444444444,
             "#bd3786"
            ],
            [
             0.5555555555555556,
             "#d8576b"
            ],
            [
             0.6666666666666666,
             "#ed7953"
            ],
            [
             0.7777777777777778,
             "#fb9f3a"
            ],
            [
             0.8888888888888888,
             "#fdca26"
            ],
            [
             1,
             "#f0f921"
            ]
           ]
          },
          "colorway": [
           "#636efa",
           "#EF553B",
           "#00cc96",
           "#ab63fa",
           "#FFA15A",
           "#19d3f3",
           "#FF6692",
           "#B6E880",
           "#FF97FF",
           "#FECB52"
          ],
          "font": {
           "color": "#2a3f5f"
          },
          "geo": {
           "bgcolor": "white",
           "lakecolor": "white",
           "landcolor": "#E5ECF6",
           "showlakes": true,
           "showland": true,
           "subunitcolor": "white"
          },
          "hoverlabel": {
           "align": "left"
          },
          "hovermode": "closest",
          "mapbox": {
           "style": "light"
          },
          "paper_bgcolor": "white",
          "plot_bgcolor": "#E5ECF6",
          "polar": {
           "angularaxis": {
            "gridcolor": "white",
            "linecolor": "white",
            "ticks": ""
           },
           "bgcolor": "#E5ECF6",
           "radialaxis": {
            "gridcolor": "white",
            "linecolor": "white",
            "ticks": ""
           }
          },
          "scene": {
           "xaxis": {
            "backgroundcolor": "#E5ECF6",
            "gridcolor": "white",
            "gridwidth": 2,
            "linecolor": "white",
            "showbackground": true,
            "ticks": "",
            "zerolinecolor": "white"
           },
           "yaxis": {
            "backgroundcolor": "#E5ECF6",
            "gridcolor": "white",
            "gridwidth": 2,
            "linecolor": "white",
            "showbackground": true,
            "ticks": "",
            "zerolinecolor": "white"
           },
           "zaxis": {
            "backgroundcolor": "#E5ECF6",
            "gridcolor": "white",
            "gridwidth": 2,
            "linecolor": "white",
            "showbackground": true,
            "ticks": "",
            "zerolinecolor": "white"
           }
          },
          "shapedefaults": {
           "line": {
            "color": "#2a3f5f"
           }
          },
          "ternary": {
           "aaxis": {
            "gridcolor": "white",
            "linecolor": "white",
            "ticks": ""
           },
           "baxis": {
            "gridcolor": "white",
            "linecolor": "white",
            "ticks": ""
           },
           "bgcolor": "#E5ECF6",
           "caxis": {
            "gridcolor": "white",
            "linecolor": "white",
            "ticks": ""
           }
          },
          "title": {
           "x": 0.05
          },
          "xaxis": {
           "automargin": true,
           "gridcolor": "white",
           "linecolor": "white",
           "ticks": "",
           "title": {
            "standoff": 15
           },
           "zerolinecolor": "white",
           "zerolinewidth": 2
          },
          "yaxis": {
           "automargin": true,
           "gridcolor": "white",
           "linecolor": "white",
           "ticks": "",
           "title": {
            "standoff": 15
           },
           "zerolinecolor": "white",
           "zerolinewidth": 2
          }
         }
        },
        "title": {
         "text": "Top 20 Hot Topic",
         "x": 0.5,
         "xanchor": "center",
         "y": 0.92,
         "yanchor": "top"
        },
        "width": 1300,
        "xaxis": {
         "showticklabels": false
        },
        "yaxis": {
         "tickfont": {
          "color": "#262626",
          "size": 18
         }
        }
       }
      },
      "text/html": [
       "<div>\n",
       "        \n",
       "        \n",
       "            <div id=\"60e2bac5-2bfb-4286-a824-35c9fa2082f1\" class=\"plotly-graph-div\" style=\"height:800px; width:1300px;\"></div>\n",
       "            <script type=\"text/javascript\">\n",
       "                require([\"plotly\"], function(Plotly) {\n",
       "                    window.PLOTLYENV=window.PLOTLYENV || {};\n",
       "                    \n",
       "                if (document.getElementById(\"60e2bac5-2bfb-4286-a824-35c9fa2082f1\")) {\n",
       "                    Plotly.newPlot(\n",
       "                        '60e2bac5-2bfb-4286-a824-35c9fa2082f1',\n",
       "                        [{\"insidetextanchor\": \"middle\", \"marker\": {\"color\": [\"hsl(33, 100%, 30%)\", \"hsl(33, 100%, 33%)\", \"hsl(33, 100%, 36%)\", \"hsl(33, 100%, 39%)\", \"hsl(33, 100%, 42%)\", \"hsl(33, 100%, 45%)\", \"hsl(33, 100%, 48%)\", \"hsl(33, 100%, 51%)\", \"hsl(33, 100%, 54%)\", \"hsl(33, 100%, 57%)\", \"hsl(33, 100%, 60%)\", \"hsl(33, 100%, 63%)\", \"hsl(33, 100%, 66%)\", \"hsl(33, 100%, 69%)\", \"hsl(33, 100%, 72%)\", \"hsl(33, 100%, 75%)\", \"hsl(33, 100%, 78%)\", \"hsl(33, 100%, 81%)\", \"hsl(33, 100%, 84%)\", \"hsl(33, 100%, 87%)\"]}, \"orientation\": \"h\", \"text\": [\"\\u5e7f\\u4e1c\\u53d1\\u73b06\\u8d77\\u5bb6\\u5ead\\u805a\\u96c6\\u6027\\u75ab\\u60c5   Search count:6760344\", \"\\u8096\\u6218\\u5de5\\u4f5c\\u5ba4\\u9053\\u6b49   Search count:7102556\", \"\\u6700\\u65e9\\u53d1\\u73b0\\u75ab\\u60c5\\u7684\\u6b66\\u6c49\\u5973\\u533b\\u751f   Search count:7102696\", \"\\u5168\\u56fd\\u7d2f\\u8ba1\\u786e\\u8bca\\u75c5\\u4f8b4515\\u4f8b   Search count:7501900\", \"\\u56e7\\u5988\\u521d\\u4e00\\u4e0a\\u7ebf\\u514d\\u8d39\\u64ad\\u51fa   Search count:7768150\", \"\\u6fb3\\u95e8\\u53d6\\u6d88\\u6240\\u6709\\u6625\\u8282\\u5e86\\u795d\\u6d3b\\u52a8   Search count:7879944\", \"\\u5e7f\\u4e1c\\u542f\\u52a8\\u91cd\\u5927\\u7a81\\u53d1\\u516c\\u5171\\u536b\\u751f\\u4e8b\\u4ef6\\u4e00\\u7ea7\\u54cd\\u5e94   Search count:8228748\", \"\\u6e56\\u5317\\u7701\\u59d4\\u4e3b\\u8981\\u8d1f\\u8d23\\u540c\\u5fd7\\u804c\\u52a1\\u8c03\\u6574   Search count:8559910\", \"\\u65b0\\u578b\\u80ba\\u708e\\u5df2\\u81f4\\u6e56\\u531717\\u4eba\\u6b7b\\u4ea1   Search count:8644255\", \"\\u79d1\\u6bd4\\u76f4\\u5347\\u673a\\u5931\\u4e8b\\u539f\\u56e0   Search count:8824066\", \"\\u6d59\\u6c5f\\u6210\\u529f\\u5206\\u79bb\\u5230\\u65b0\\u578b\\u51a0\\u72b6\\u75c5\\u6bd2\\u6bd2\\u682a   Search count:10025927\", \"\\u65b0\\u578b\\u80ba\\u708e\\u786e\\u8bca440\\u4f8b\\u6b7b\\u4ea19\\u4f8b   Search count:10231631\", \"\\u6e56\\u5317\\u4e00\\u5bb6\\u4e09\\u53e3\\u53bb\\u5c71\\u4e1c\\u8fc7\\u5e74\\u88ab\\u4e3e\\u62a5   Search count:10554971\", \"\\u6e56\\u5357\\u79bd\\u6d41\\u611f   Search count:10822673\", \"500\\u4e07\\u4eba\\u79bb\\u5f00\\u6b66\\u6c49   Search count:11412070\", \"\\u65b0\\u52a0\\u5761\\u62b5\\u676d\\u5dde\\u4e00\\u67b6\\u822a\\u73ed\\u6240\\u6709\\u4e58\\u5ba2\\u9694\\u79bb   Search count:13061134\", \"\\u5168\\u56fd\\u786e\\u8bca\\u65b0\\u578b\\u80ba\\u708e\\u75c5\\u4f8b   Search count:14972975\", \"\\u6e56\\u5317\\u526f\\u7701\\u957f\\u56de\\u5e94\\u6b66\\u6c49\\u5e02\\u6c11\\u7f51\\u7edc\\u6c42\\u52a9   Search count:15248291\", \"\\u53cc\\u9ec4\\u8fde\\u53ef\\u6291\\u5236\\u65b0\\u578b\\u51a0\\u72b6\\u75c5\\u6bd2   Search count:16134192\", \"\\u5b89\\u5fbd\\u51fa\\u73b0\\u805a\\u96c6\\u6027\\u75ab\\u60c5   Search count:16360270\"], \"textfont\": {\"color\": \"#262626\", \"family\": \"Arial\", \"size\": 20}, \"textposition\": \"inside\", \"type\": \"bar\", \"x\": [6760344, 7102556, 7102696, 7501900, 7768150, 7879944, 8228748, 8559910, 8644255, 8824066, 10025927, 10231631, 10554971, 10822673, 11412070, 13061134, 14972975, 15248291, 16134192, 16360270], \"y\": [\"NO.20\", \"NO.19\", \"NO.18\", \"NO.17\", \"NO.16\", \"NO.15\", \"NO.14\", \"NO.13\", \"NO.12\", \"NO.11\", \"NO.10\", \"NO.9\", \"NO.8\", \"NO.7\", \"NO.6\", \"NO.5\", \"NO.4\", \"NO.3\", \"NO.2\", \"NO.1\"]}],\n",
       "                        {\"autosize\": false, \"font\": {\"color\": \"#262626\", \"family\": \"Arial\", \"size\": 18}, \"height\": 800, \"plot_bgcolor\": \"#ffffff\", \"template\": {\"data\": {\"bar\": [{\"error_x\": {\"color\": \"#2a3f5f\"}, \"error_y\": {\"color\": \"#2a3f5f\"}, \"marker\": {\"line\": {\"color\": \"#E5ECF6\", \"width\": 0.5}}, \"type\": \"bar\"}], \"barpolar\": [{\"marker\": {\"line\": {\"color\": \"#E5ECF6\", \"width\": 0.5}}, \"type\": \"barpolar\"}], \"carpet\": [{\"aaxis\": {\"endlinecolor\": \"#2a3f5f\", \"gridcolor\": \"white\", \"linecolor\": \"white\", \"minorgridcolor\": \"white\", \"startlinecolor\": \"#2a3f5f\"}, \"baxis\": {\"endlinecolor\": \"#2a3f5f\", \"gridcolor\": \"white\", \"linecolor\": \"white\", \"minorgridcolor\": \"white\", \"startlinecolor\": \"#2a3f5f\"}, \"type\": \"carpet\"}], \"choropleth\": [{\"colorbar\": {\"outlinewidth\": 0, \"ticks\": \"\"}, \"type\": \"choropleth\"}], \"contour\": [{\"colorbar\": {\"outlinewidth\": 0, \"ticks\": \"\"}, \"colorscale\": [[0.0, \"#0d0887\"], [0.1111111111111111, \"#46039f\"], [0.2222222222222222, \"#7201a8\"], [0.3333333333333333, \"#9c179e\"], [0.4444444444444444, \"#bd3786\"], [0.5555555555555556, \"#d8576b\"], [0.6666666666666666, \"#ed7953\"], [0.7777777777777778, \"#fb9f3a\"], [0.8888888888888888, \"#fdca26\"], [1.0, \"#f0f921\"]], \"type\": \"contour\"}], \"contourcarpet\": [{\"colorbar\": {\"outlinewidth\": 0, \"ticks\": \"\"}, \"type\": \"contourcarpet\"}], \"heatmap\": [{\"colorbar\": {\"outlinewidth\": 0, \"ticks\": \"\"}, \"colorscale\": [[0.0, \"#0d0887\"], [0.1111111111111111, \"#46039f\"], [0.2222222222222222, \"#7201a8\"], [0.3333333333333333, \"#9c179e\"], [0.4444444444444444, \"#bd3786\"], [0.5555555555555556, \"#d8576b\"], [0.6666666666666666, \"#ed7953\"], [0.7777777777777778, \"#fb9f3a\"], [0.8888888888888888, \"#fdca26\"], [1.0, \"#f0f921\"]], \"type\": \"heatmap\"}], \"heatmapgl\": [{\"colorbar\": {\"outlinewidth\": 0, \"ticks\": \"\"}, \"colorscale\": [[0.0, \"#0d0887\"], [0.1111111111111111, \"#46039f\"], [0.2222222222222222, \"#7201a8\"], [0.3333333333333333, \"#9c179e\"], [0.4444444444444444, \"#bd3786\"], [0.5555555555555556, \"#d8576b\"], [0.6666666666666666, \"#ed7953\"], [0.7777777777777778, \"#fb9f3a\"], [0.8888888888888888, \"#fdca26\"], [1.0, \"#f0f921\"]], \"type\": \"heatmapgl\"}], \"histogram\": [{\"marker\": {\"colorbar\": {\"outlinewidth\": 0, \"ticks\": \"\"}}, \"type\": \"histogram\"}], \"histogram2d\": [{\"colorbar\": {\"outlinewidth\": 0, \"ticks\": \"\"}, \"colorscale\": [[0.0, \"#0d0887\"], [0.1111111111111111, \"#46039f\"], [0.2222222222222222, \"#7201a8\"], [0.3333333333333333, \"#9c179e\"], [0.4444444444444444, \"#bd3786\"], [0.5555555555555556, \"#d8576b\"], [0.6666666666666666, \"#ed7953\"], [0.7777777777777778, \"#fb9f3a\"], [0.8888888888888888, \"#fdca26\"], [1.0, \"#f0f921\"]], \"type\": \"histogram2d\"}], \"histogram2dcontour\": [{\"colorbar\": {\"outlinewidth\": 0, \"ticks\": \"\"}, \"colorscale\": [[0.0, \"#0d0887\"], [0.1111111111111111, \"#46039f\"], [0.2222222222222222, \"#7201a8\"], [0.3333333333333333, \"#9c179e\"], [0.4444444444444444, \"#bd3786\"], [0.5555555555555556, \"#d8576b\"], [0.6666666666666666, \"#ed7953\"], [0.7777777777777778, \"#fb9f3a\"], [0.8888888888888888, \"#fdca26\"], [1.0, \"#f0f921\"]], \"type\": \"histogram2dcontour\"}], \"mesh3d\": [{\"colorbar\": {\"outlinewidth\": 0, \"ticks\": \"\"}, \"type\": \"mesh3d\"}], \"parcoords\": [{\"line\": {\"colorbar\": {\"outlinewidth\": 0, \"ticks\": \"\"}}, \"type\": \"parcoords\"}], \"pie\": [{\"automargin\": true, \"type\": \"pie\"}], \"scatter\": [{\"marker\": {\"colorbar\": {\"outlinewidth\": 0, \"ticks\": \"\"}}, \"type\": \"scatter\"}], \"scatter3d\": [{\"line\": {\"colorbar\": {\"outlinewidth\": 0, \"ticks\": \"\"}}, \"marker\": {\"colorbar\": {\"outlinewidth\": 0, \"ticks\": \"\"}}, \"type\": \"scatter3d\"}], \"scattercarpet\": [{\"marker\": {\"colorbar\": {\"outlinewidth\": 0, \"ticks\": \"\"}}, \"type\": \"scattercarpet\"}], \"scattergeo\": [{\"marker\": {\"colorbar\": {\"outlinewidth\": 0, \"ticks\": \"\"}}, \"type\": \"scattergeo\"}], \"scattergl\": [{\"marker\": {\"colorbar\": {\"outlinewidth\": 0, \"ticks\": \"\"}}, \"type\": \"scattergl\"}], \"scattermapbox\": [{\"marker\": {\"colorbar\": {\"outlinewidth\": 0, \"ticks\": \"\"}}, \"type\": \"scattermapbox\"}], \"scatterpolar\": [{\"marker\": {\"colorbar\": {\"outlinewidth\": 0, \"ticks\": \"\"}}, \"type\": \"scatterpolar\"}], \"scatterpolargl\": [{\"marker\": {\"colorbar\": {\"outlinewidth\": 0, \"ticks\": \"\"}}, \"type\": \"scatterpolargl\"}], \"scatterternary\": [{\"marker\": {\"colorbar\": {\"outlinewidth\": 0, \"ticks\": \"\"}}, \"type\": \"scatterternary\"}], \"surface\": [{\"colorbar\": {\"outlinewidth\": 0, \"ticks\": \"\"}, \"colorscale\": [[0.0, \"#0d0887\"], [0.1111111111111111, \"#46039f\"], [0.2222222222222222, \"#7201a8\"], [0.3333333333333333, \"#9c179e\"], [0.4444444444444444, \"#bd3786\"], [0.5555555555555556, \"#d8576b\"], [0.6666666666666666, \"#ed7953\"], [0.7777777777777778, \"#fb9f3a\"], [0.8888888888888888, \"#fdca26\"], [1.0, \"#f0f921\"]], \"type\": \"surface\"}], \"table\": [{\"cells\": {\"fill\": {\"color\": \"#EBF0F8\"}, \"line\": {\"color\": \"white\"}}, \"header\": {\"fill\": {\"color\": \"#C8D4E3\"}, \"line\": {\"color\": \"white\"}}, \"type\": \"table\"}]}, \"layout\": {\"annotationdefaults\": {\"arrowcolor\": \"#2a3f5f\", \"arrowhead\": 0, \"arrowwidth\": 1}, \"coloraxis\": {\"colorbar\": {\"outlinewidth\": 0, \"ticks\": \"\"}}, \"colorscale\": {\"diverging\": [[0, \"#8e0152\"], [0.1, \"#c51b7d\"], [0.2, \"#de77ae\"], [0.3, \"#f1b6da\"], [0.4, \"#fde0ef\"], [0.5, \"#f7f7f7\"], [0.6, \"#e6f5d0\"], [0.7, \"#b8e186\"], [0.8, \"#7fbc41\"], [0.9, \"#4d9221\"], [1, \"#276419\"]], \"sequential\": [[0.0, \"#0d0887\"], [0.1111111111111111, \"#46039f\"], [0.2222222222222222, \"#7201a8\"], [0.3333333333333333, \"#9c179e\"], [0.4444444444444444, \"#bd3786\"], [0.5555555555555556, \"#d8576b\"], [0.6666666666666666, \"#ed7953\"], [0.7777777777777778, \"#fb9f3a\"], [0.8888888888888888, \"#fdca26\"], [1.0, \"#f0f921\"]], \"sequentialminus\": [[0.0, \"#0d0887\"], [0.1111111111111111, \"#46039f\"], [0.2222222222222222, \"#7201a8\"], [0.3333333333333333, \"#9c179e\"], [0.4444444444444444, \"#bd3786\"], [0.5555555555555556, \"#d8576b\"], [0.6666666666666666, \"#ed7953\"], [0.7777777777777778, \"#fb9f3a\"], [0.8888888888888888, \"#fdca26\"], [1.0, \"#f0f921\"]]}, \"colorway\": [\"#636efa\", \"#EF553B\", \"#00cc96\", \"#ab63fa\", \"#FFA15A\", \"#19d3f3\", \"#FF6692\", \"#B6E880\", \"#FF97FF\", \"#FECB52\"], \"font\": {\"color\": \"#2a3f5f\"}, \"geo\": {\"bgcolor\": \"white\", \"lakecolor\": \"white\", \"landcolor\": \"#E5ECF6\", \"showlakes\": true, \"showland\": true, \"subunitcolor\": \"white\"}, \"hoverlabel\": {\"align\": \"left\"}, \"hovermode\": \"closest\", \"mapbox\": {\"style\": \"light\"}, \"paper_bgcolor\": \"white\", \"plot_bgcolor\": \"#E5ECF6\", \"polar\": {\"angularaxis\": {\"gridcolor\": \"white\", \"linecolor\": \"white\", \"ticks\": \"\"}, \"bgcolor\": \"#E5ECF6\", \"radialaxis\": {\"gridcolor\": \"white\", \"linecolor\": \"white\", \"ticks\": \"\"}}, \"scene\": {\"xaxis\": {\"backgroundcolor\": \"#E5ECF6\", \"gridcolor\": \"white\", \"gridwidth\": 2, \"linecolor\": \"white\", \"showbackground\": true, \"ticks\": \"\", \"zerolinecolor\": \"white\"}, \"yaxis\": {\"backgroundcolor\": \"#E5ECF6\", \"gridcolor\": \"white\", \"gridwidth\": 2, \"linecolor\": \"white\", \"showbackground\": true, \"ticks\": \"\", \"zerolinecolor\": \"white\"}, \"zaxis\": {\"backgroundcolor\": \"#E5ECF6\", \"gridcolor\": \"white\", \"gridwidth\": 2, \"linecolor\": \"white\", \"showbackground\": true, \"ticks\": \"\", \"zerolinecolor\": \"white\"}}, \"shapedefaults\": {\"line\": {\"color\": \"#2a3f5f\"}}, \"ternary\": {\"aaxis\": {\"gridcolor\": \"white\", \"linecolor\": \"white\", \"ticks\": \"\"}, \"baxis\": {\"gridcolor\": \"white\", \"linecolor\": \"white\", \"ticks\": \"\"}, \"bgcolor\": \"#E5ECF6\", \"caxis\": {\"gridcolor\": \"white\", \"linecolor\": \"white\", \"ticks\": \"\"}}, \"title\": {\"x\": 0.05}, \"xaxis\": {\"automargin\": true, \"gridcolor\": \"white\", \"linecolor\": \"white\", \"ticks\": \"\", \"title\": {\"standoff\": 15}, \"zerolinecolor\": \"white\", \"zerolinewidth\": 2}, \"yaxis\": {\"automargin\": true, \"gridcolor\": \"white\", \"linecolor\": \"white\", \"ticks\": \"\", \"title\": {\"standoff\": 15}, \"zerolinecolor\": \"white\", \"zerolinewidth\": 2}}}, \"title\": {\"text\": \"Top 20 Hot Topic\", \"x\": 0.5, \"xanchor\": \"center\", \"y\": 0.92, \"yanchor\": \"top\"}, \"width\": 1300, \"xaxis\": {\"showticklabels\": false}, \"yaxis\": {\"tickfont\": {\"color\": \"#262626\", \"size\": 18}}},\n",
       "                        {\"responsive\": true}\n",
       "                    ).then(function(){\n",
       "                            \n",
       "var gd = document.getElementById('60e2bac5-2bfb-4286-a824-35c9fa2082f1');\n",
       "var x = new MutationObserver(function (mutations, observer) {{\n",
       "        var display = window.getComputedStyle(gd).display;\n",
       "        if (!display || display === 'none') {{\n",
       "            console.log([gd, 'removed!']);\n",
       "            Plotly.purge(gd);\n",
       "            observer.disconnect();\n",
       "        }}\n",
       "}});\n",
       "\n",
       "// Listen for the removal of the full notebook cells\n",
       "var notebookContainer = gd.closest('#notebook-container');\n",
       "if (notebookContainer) {{\n",
       "    x.observe(notebookContainer, {childList: true});\n",
       "}}\n",
       "\n",
       "// Listen for the clearing of the current output cell\n",
       "var outputEl = gd.closest('.output');\n",
       "if (outputEl) {{\n",
       "    x.observe(outputEl, {childList: true});\n",
       "}}\n",
       "\n",
       "                        })\n",
       "                };\n",
       "                });\n",
       "            </script>\n",
       "        </div>"
      ]
     },
     "metadata": {},
     "output_type": "display_data"
    }
   ],
   "source": [
    "import plotly as py\n",
    "import plotly.graph_objs as go\n",
    "import plotly.express as px\n",
    "import plotly.offline as py\n",
    "\n",
    "pyplt = py.offline.plot\n",
    "\n",
    "top_20_df = pd.read_csv(\"top20_hot_topic.csv\", sep=',')\n",
    "x_count = top_20_df['count'][::-1]\n",
    "inside_text = top_20_df['inside_text'][::-1]\n",
    "rank = top_20_df['rank'][::-1]\n",
    "  \n",
    "color_list =[]\n",
    "percent = 30\n",
    "for i in range(len(x_count)):\n",
    "    color_list.append('hsl(33, 100%, {}%)'.format(percent))\n",
    "    percent += 3\n",
    "\n",
    "data = [go.Bar(x = x_count, \n",
    "               y = rank,\n",
    "               orientation = 'h',\n",
    "               text = inside_text,\n",
    "               textposition='inside',\n",
    "               insidetextanchor='middle',\n",
    "               textfont={'family':'Arial', \n",
    "                         'size': 20,\n",
    "                         'color': '#262626'},\n",
    "               marker={ 'color':  color_list,},)]\n",
    "\n",
    "layout = go.Layout(title={'text': \"Top 20 Hot Topic\",\n",
    "                          'y':0.92,'x':0.5,\n",
    "                          'xanchor': 'center',\n",
    "                          'yanchor': 'top',},\n",
    "                   font=dict(family=\"Arial\",\n",
    "                             size=18,\n",
    "                             color=\"#262626\"),\n",
    "                   plot_bgcolor = '#ffffff',\n",
    "                   autosize=False,width=1300,height=800,\n",
    "                   xaxis=dict(showticklabels=False),\n",
    "                   yaxis=dict(tickfont=dict(color='#262626',\n",
    "                                            size = 18,),),)\n",
    "\n",
    "figure = go.Figure(data = data, layout = layout)\n",
    "figure.show()\n",
    "# pyplt(figure, filename='top20.html')\n",
    "# pyplt(figure, filename='top20.html', image='png')"
   ]
  },
  {
   "cell_type": "markdown",
   "metadata": {},
   "source": [
    "### Pick the day with total highest count"
   ]
  },
  {
   "cell_type": "code",
   "execution_count": 257,
   "metadata": {},
   "outputs": [
    {
     "data": {
      "text/html": [
       "<div>\n",
       "<style scoped>\n",
       "    .dataframe tbody tr th:only-of-type {\n",
       "        vertical-align: middle;\n",
       "    }\n",
       "\n",
       "    .dataframe tbody tr th {\n",
       "        vertical-align: top;\n",
       "    }\n",
       "\n",
       "    .dataframe thead th {\n",
       "        text-align: right;\n",
       "    }\n",
       "</style>\n",
       "<table border=\"1\" class=\"dataframe\">\n",
       "  <thead>\n",
       "    <tr style=\"text-align: right;\">\n",
       "      <th></th>\n",
       "      <th>start_mnth_day</th>\n",
       "      <th>count</th>\n",
       "      <th>alive_time</th>\n",
       "    </tr>\n",
       "  </thead>\n",
       "  <tbody>\n",
       "    <tr>\n",
       "      <td>42</td>\n",
       "      <td>2020-01-01</td>\n",
       "      <td>62688746</td>\n",
       "      <td>5503.365833</td>\n",
       "    </tr>\n",
       "    <tr>\n",
       "      <td>43</td>\n",
       "      <td>2020-01-02</td>\n",
       "      <td>57096178</td>\n",
       "      <td>2052.200000</td>\n",
       "    </tr>\n",
       "    <tr>\n",
       "      <td>44</td>\n",
       "      <td>2020-01-03</td>\n",
       "      <td>39724062</td>\n",
       "      <td>854.832500</td>\n",
       "    </tr>\n",
       "    <tr>\n",
       "      <td>45</td>\n",
       "      <td>2020-01-04</td>\n",
       "      <td>41372963</td>\n",
       "      <td>2061.235278</td>\n",
       "    </tr>\n",
       "    <tr>\n",
       "      <td>46</td>\n",
       "      <td>2020-01-05</td>\n",
       "      <td>38648558</td>\n",
       "      <td>2769.266389</td>\n",
       "    </tr>\n",
       "    <tr>\n",
       "      <td>...</td>\n",
       "      <td>...</td>\n",
       "      <td>...</td>\n",
       "      <td>...</td>\n",
       "    </tr>\n",
       "    <tr>\n",
       "      <td>103</td>\n",
       "      <td>2020-03-02</td>\n",
       "      <td>69375035</td>\n",
       "      <td>731.796944</td>\n",
       "    </tr>\n",
       "    <tr>\n",
       "      <td>104</td>\n",
       "      <td>2020-03-03</td>\n",
       "      <td>58606329</td>\n",
       "      <td>734.235000</td>\n",
       "    </tr>\n",
       "    <tr>\n",
       "      <td>105</td>\n",
       "      <td>2020-03-04</td>\n",
       "      <td>49711651</td>\n",
       "      <td>800.698056</td>\n",
       "    </tr>\n",
       "    <tr>\n",
       "      <td>106</td>\n",
       "      <td>2020-03-05</td>\n",
       "      <td>56261281</td>\n",
       "      <td>803.263056</td>\n",
       "    </tr>\n",
       "    <tr>\n",
       "      <td>107</td>\n",
       "      <td>2020-03-06</td>\n",
       "      <td>18946151</td>\n",
       "      <td>26.162778</td>\n",
       "    </tr>\n",
       "  </tbody>\n",
       "</table>\n",
       "<p>66 rows × 3 columns</p>\n",
       "</div>"
      ],
      "text/plain": [
       "    start_mnth_day     count   alive_time\n",
       "42      2020-01-01  62688746  5503.365833\n",
       "43      2020-01-02  57096178  2052.200000\n",
       "44      2020-01-03  39724062   854.832500\n",
       "45      2020-01-04  41372963  2061.235278\n",
       "46      2020-01-05  38648558  2769.266389\n",
       "..             ...       ...          ...\n",
       "103     2020-03-02  69375035   731.796944\n",
       "104     2020-03-03  58606329   734.235000\n",
       "105     2020-03-04  49711651   800.698056\n",
       "106     2020-03-05  56261281   803.263056\n",
       "107     2020-03-06  18946151    26.162778\n",
       "\n",
       "[66 rows x 3 columns]"
      ]
     },
     "execution_count": 257,
     "metadata": {},
     "output_type": "execute_result"
    }
   ],
   "source": [
    "group_df = result_df.copy()\n",
    "group_df = group_df.groupby('start_mnth_day',as_index=False).sum()\n",
    "sort_df = group_df.sort_values(by=['start_mnth_day'], ascending=True)\n",
    "\n",
    "sort_df = sort_df[sort_df.start_mnth_day.between('2020-01-01', '2020-03-06')]\n",
    "sort_df"
   ]
  },
  {
   "cell_type": "code",
   "execution_count": 258,
   "metadata": {},
   "outputs": [
    {
     "data": {
      "text/html": [
       "<div>\n",
       "<style scoped>\n",
       "    .dataframe tbody tr th:only-of-type {\n",
       "        vertical-align: middle;\n",
       "    }\n",
       "\n",
       "    .dataframe tbody tr th {\n",
       "        vertical-align: top;\n",
       "    }\n",
       "\n",
       "    .dataframe thead th {\n",
       "        text-align: right;\n",
       "    }\n",
       "</style>\n",
       "<table border=\"1\" class=\"dataframe\">\n",
       "  <thead>\n",
       "    <tr style=\"text-align: right;\">\n",
       "      <th></th>\n",
       "      <th>start_mnth_day</th>\n",
       "      <th>count</th>\n",
       "      <th>alive_time</th>\n",
       "    </tr>\n",
       "  </thead>\n",
       "  <tbody>\n",
       "    <tr>\n",
       "      <td>42</td>\n",
       "      <td>2020-01-01</td>\n",
       "      <td>4.147188</td>\n",
       "      <td>10.000000</td>\n",
       "    </tr>\n",
       "    <tr>\n",
       "      <td>43</td>\n",
       "      <td>2020-01-02</td>\n",
       "      <td>3.616963</td>\n",
       "      <td>3.699036</td>\n",
       "    </tr>\n",
       "    <tr>\n",
       "      <td>44</td>\n",
       "      <td>2020-01-03</td>\n",
       "      <td>1.969931</td>\n",
       "      <td>1.512943</td>\n",
       "    </tr>\n",
       "    <tr>\n",
       "      <td>45</td>\n",
       "      <td>2020-01-04</td>\n",
       "      <td>2.126262</td>\n",
       "      <td>3.715532</td>\n",
       "    </tr>\n",
       "    <tr>\n",
       "      <td>46</td>\n",
       "      <td>2020-01-05</td>\n",
       "      <td>1.867964</td>\n",
       "      <td>5.008220</td>\n",
       "    </tr>\n",
       "    <tr>\n",
       "      <td>...</td>\n",
       "      <td>...</td>\n",
       "      <td>...</td>\n",
       "      <td>...</td>\n",
       "    </tr>\n",
       "    <tr>\n",
       "      <td>103</td>\n",
       "      <td>2020-03-02</td>\n",
       "      <td>4.781108</td>\n",
       "      <td>1.288311</td>\n",
       "    </tr>\n",
       "    <tr>\n",
       "      <td>104</td>\n",
       "      <td>2020-03-03</td>\n",
       "      <td>3.760139</td>\n",
       "      <td>1.292762</td>\n",
       "    </tr>\n",
       "    <tr>\n",
       "      <td>105</td>\n",
       "      <td>2020-03-04</td>\n",
       "      <td>2.916844</td>\n",
       "      <td>1.414107</td>\n",
       "    </tr>\n",
       "    <tr>\n",
       "      <td>106</td>\n",
       "      <td>2020-03-05</td>\n",
       "      <td>3.537807</td>\n",
       "      <td>1.418790</td>\n",
       "    </tr>\n",
       "    <tr>\n",
       "      <td>107</td>\n",
       "      <td>2020-03-06</td>\n",
       "      <td>0.000000</td>\n",
       "      <td>0.000000</td>\n",
       "    </tr>\n",
       "  </tbody>\n",
       "</table>\n",
       "<p>66 rows × 3 columns</p>\n",
       "</div>"
      ],
      "text/plain": [
       "    start_mnth_day     count  alive_time\n",
       "42      2020-01-01  4.147188   10.000000\n",
       "43      2020-01-02  3.616963    3.699036\n",
       "44      2020-01-03  1.969931    1.512943\n",
       "45      2020-01-04  2.126262    3.715532\n",
       "46      2020-01-05  1.867964    5.008220\n",
       "..             ...       ...         ...\n",
       "103     2020-03-02  4.781108    1.288311\n",
       "104     2020-03-03  3.760139    1.292762\n",
       "105     2020-03-04  2.916844    1.414107\n",
       "106     2020-03-05  3.537807    1.418790\n",
       "107     2020-03-06  0.000000    0.000000\n",
       "\n",
       "[66 rows x 3 columns]"
      ]
     },
     "execution_count": 258,
     "metadata": {},
     "output_type": "execute_result"
    }
   ],
   "source": [
    "import datetime\n",
    "\n",
    "# def dateRange(start, end, step=1, format=\"%Y-%m-%d\"):\n",
    "#     strptime, strftime = datetime.datetime.strptime, datetime.datetime.strftime\n",
    "#     days = (strptime(end, format) - strptime(start, format)).days\n",
    "#     return [strftime(strptime(start, format) + datetime.timedelta(i), format) for i in range(0, days, step)]\n",
    "\n",
    "def normalize(df, cols):\n",
    "    result = df.copy()\n",
    "    for feature_name in cols:\n",
    "        max_value = df[feature_name].max()\n",
    "        min_value = df[feature_name].min()\n",
    "        result[feature_name] = (df[feature_name] - min_value) / (max_value - min_value) *10\n",
    "    return result\n",
    "\n",
    "# datelist = dateRange(\"2019-10-25\", \"2020-03-06\")\n",
    "\n",
    "# date_df = pd.DataFrame(datelist, columns = ['start_mnth_day']) \n",
    "# merge_df = pd.merge(date_df, sort_df, on='start_mnth_day', how='outer')\n",
    "# merge_df = merge_df.fillna(0)\n",
    "\n",
    "norm_df = normalize(sort_df, ['count', 'alive_time'])\n",
    "norm_df.to_csv('hot_topic_heatmap.csv')\n",
    "norm_df"
   ]
  },
  {
   "cell_type": "code",
   "execution_count": 259,
   "metadata": {},
   "outputs": [
    {
     "data": {
      "application/vnd.plotly.v1+json": {
       "config": {
        "plotlyServerURL": "https://plot.ly"
       },
       "data": [
        {
         "colorscale": [
          [
           0,
           "rgb(247,251,255)"
          ],
          [
           0.125,
           "rgb(222,235,247)"
          ],
          [
           0.25,
           "rgb(198,219,239)"
          ],
          [
           0.375,
           "rgb(158,202,225)"
          ],
          [
           0.5,
           "rgb(107,174,214)"
          ],
          [
           0.625,
           "rgb(66,146,198)"
          ],
          [
           0.75,
           "rgb(33,113,181)"
          ],
          [
           0.875,
           "rgb(8,81,156)"
          ],
          [
           1,
           "rgb(8,48,107)"
          ]
         ],
         "type": "heatmap",
         "x": [
          "2020-01-01",
          "2020-01-02",
          "2020-01-03",
          "2020-01-04",
          "2020-01-05",
          "2020-01-06",
          "2020-01-07",
          "2020-01-08",
          "2020-01-09",
          "2020-01-10",
          "2020-01-11",
          "2020-01-12",
          "2020-01-13",
          "2020-01-14",
          "2020-01-15",
          "2020-01-16",
          "2020-01-17",
          "2020-01-18",
          "2020-01-19",
          "2020-01-20",
          "2020-01-21",
          "2020-01-22",
          "2020-01-23",
          "2020-01-24",
          "2020-01-25",
          "2020-01-26",
          "2020-01-27",
          "2020-01-28",
          "2020-01-29",
          "2020-01-30",
          "2020-01-31",
          "2020-02-01",
          "2020-02-02",
          "2020-02-03",
          "2020-02-04",
          "2020-02-05",
          "2020-02-06",
          "2020-02-07",
          "2020-02-08",
          "2020-02-09",
          "2020-02-10",
          "2020-02-11",
          "2020-02-12",
          "2020-02-13",
          "2020-02-14",
          "2020-02-15",
          "2020-02-16",
          "2020-02-17",
          "2020-02-18",
          "2020-02-19",
          "2020-02-20",
          "2020-02-21",
          "2020-02-22",
          "2020-02-23",
          "2020-02-24",
          "2020-02-25",
          "2020-02-26",
          "2020-02-27",
          "2020-02-28",
          "2020-02-29",
          "2020-03-01",
          "2020-03-02",
          "2020-03-03",
          "2020-03-04",
          "2020-03-05",
          "2020-03-06"
         ],
         "y": [
          "count",
          "alive_time"
         ],
         "z": [
          [
           4.147188449360292,
           3.616963084087335,
           1.969931424988301,
           2.126261957763932,
           1.867964045914408,
           2.5902817760150314,
           2.7463608755190942,
           2.4862674722302995,
           1.5454198134973798,
           2.4266266848577183,
           3.77680391734554,
           2.7178946851263315,
           2.130297689314013,
           2.1150758318291025,
           2.2955553357463283,
           3.864052684713362,
           1.5101265271572917,
           2.9745761047887416,
           2.2039166306811486,
           2.3763674303238065,
           3.2922803415370203,
           7.4330416938084864,
           7.235775700701723,
           8.519902493570509,
           9.013413955557237,
           10,
           9.77595105417144,
           6.127381518446675,
           5.329687847963572,
           5.562388487518987,
           5.81761866695218,
           5.685059481366164,
           6.0761950326171625,
           5.231561652523752,
           4.495608787122589,
           4.142879383676753,
           6.610080022431033,
           5.677997448900382,
           4.4830536202973255,
           4.279908336075762,
           5.363439256741254,
           4.580162041917283,
           5.243069844379965,
           5.02447791071011,
           7.208763499997027,
           5.149346859887132,
           5.754308205292535,
           3.171515670763528,
           3.7724992128725954,
           4.7235438560161125,
           4.759275349211849,
           5.1325026320617,
           5.4797719894632015,
           4.833233896151667,
           4.197095678352223,
           4.393026761781888,
           2.842715850604684,
           5.105708586695572,
           4.9530319899253,
           4.4514279224479285,
           5.846031100683942,
           4.781108327910816,
           3.7601388783901175,
           2.916844010712992,
           3.537807396254788,
           0
          ],
          [
           10,
           3.6990361716956985,
           1.5129432190426044,
           3.7155323243599927,
           5.008219675786466,
           3.351656418718571,
           1.6126864426090133,
           1.570824038282718,
           1.6740934938863503,
           1.6095877402147305,
           3.309237667988591,
           6.709268330434867,
           4.559449467593731,
           2.5084021239348053,
           1.543799904766883,
           4.866542539376977,
           1.589326993790574,
           2.9722124496733415,
           1.6610145354499917,
           3.689971326099069,
           1.973577755191453,
           2.2916253231639745,
           3.2528808423155544,
           3.09653837413266,
           2.2602787280267878,
           9.176216815040078,
           3.486824758642269,
           3.6202799370785863,
           3.755445234086676,
           3.1250880226733715,
           1.5808027728669891,
           2.2336293802833542,
           3.322752777662117,
           5.98705766847444,
           1.8849726170560173,
           3.2214830247656274,
           1.7141996287541517,
           1.5873714133597474,
           1.7089064770538034,
           2.4287426505346814,
           1.8016565734001184,
           1.5401996284498602,
           1.6605895415700545,
           1.331708179727375,
           1.420562329790077,
           3.5587040039850013,
           2.581797755555588,
           2.7921271253053868,
           2.243916970801856,
           1.9715770381791058,
           1.7956899230451706,
           2.43141280898082,
           1.924898205597736,
           1.6150614382411614,
           1.4997947806998615,
           1.5165363952232105,
           1.8037861071732104,
           2.127251079233413,
           1.233061420085099,
           1.336945544641574,
           1.3131494374333692,
           1.2883111316293765,
           1.2927624100114752,
           1.4141072914800237,
           1.4187903386009402,
           0
          ]
         ]
        }
       ],
       "layout": {
        "font": {
         "color": "#262626",
         "family": "Arial"
        },
        "template": {
         "data": {
          "bar": [
           {
            "error_x": {
             "color": "#2a3f5f"
            },
            "error_y": {
             "color": "#2a3f5f"
            },
            "marker": {
             "line": {
              "color": "#E5ECF6",
              "width": 0.5
             }
            },
            "type": "bar"
           }
          ],
          "barpolar": [
           {
            "marker": {
             "line": {
              "color": "#E5ECF6",
              "width": 0.5
             }
            },
            "type": "barpolar"
           }
          ],
          "carpet": [
           {
            "aaxis": {
             "endlinecolor": "#2a3f5f",
             "gridcolor": "white",
             "linecolor": "white",
             "minorgridcolor": "white",
             "startlinecolor": "#2a3f5f"
            },
            "baxis": {
             "endlinecolor": "#2a3f5f",
             "gridcolor": "white",
             "linecolor": "white",
             "minorgridcolor": "white",
             "startlinecolor": "#2a3f5f"
            },
            "type": "carpet"
           }
          ],
          "choropleth": [
           {
            "colorbar": {
             "outlinewidth": 0,
             "ticks": ""
            },
            "type": "choropleth"
           }
          ],
          "contour": [
           {
            "colorbar": {
             "outlinewidth": 0,
             "ticks": ""
            },
            "colorscale": [
             [
              0,
              "#0d0887"
             ],
             [
              0.1111111111111111,
              "#46039f"
             ],
             [
              0.2222222222222222,
              "#7201a8"
             ],
             [
              0.3333333333333333,
              "#9c179e"
             ],
             [
              0.4444444444444444,
              "#bd3786"
             ],
             [
              0.5555555555555556,
              "#d8576b"
             ],
             [
              0.6666666666666666,
              "#ed7953"
             ],
             [
              0.7777777777777778,
              "#fb9f3a"
             ],
             [
              0.8888888888888888,
              "#fdca26"
             ],
             [
              1,
              "#f0f921"
             ]
            ],
            "type": "contour"
           }
          ],
          "contourcarpet": [
           {
            "colorbar": {
             "outlinewidth": 0,
             "ticks": ""
            },
            "type": "contourcarpet"
           }
          ],
          "heatmap": [
           {
            "colorbar": {
             "outlinewidth": 0,
             "ticks": ""
            },
            "colorscale": [
             [
              0,
              "#0d0887"
             ],
             [
              0.1111111111111111,
              "#46039f"
             ],
             [
              0.2222222222222222,
              "#7201a8"
             ],
             [
              0.3333333333333333,
              "#9c179e"
             ],
             [
              0.4444444444444444,
              "#bd3786"
             ],
             [
              0.5555555555555556,
              "#d8576b"
             ],
             [
              0.6666666666666666,
              "#ed7953"
             ],
             [
              0.7777777777777778,
              "#fb9f3a"
             ],
             [
              0.8888888888888888,
              "#fdca26"
             ],
             [
              1,
              "#f0f921"
             ]
            ],
            "type": "heatmap"
           }
          ],
          "heatmapgl": [
           {
            "colorbar": {
             "outlinewidth": 0,
             "ticks": ""
            },
            "colorscale": [
             [
              0,
              "#0d0887"
             ],
             [
              0.1111111111111111,
              "#46039f"
             ],
             [
              0.2222222222222222,
              "#7201a8"
             ],
             [
              0.3333333333333333,
              "#9c179e"
             ],
             [
              0.4444444444444444,
              "#bd3786"
             ],
             [
              0.5555555555555556,
              "#d8576b"
             ],
             [
              0.6666666666666666,
              "#ed7953"
             ],
             [
              0.7777777777777778,
              "#fb9f3a"
             ],
             [
              0.8888888888888888,
              "#fdca26"
             ],
             [
              1,
              "#f0f921"
             ]
            ],
            "type": "heatmapgl"
           }
          ],
          "histogram": [
           {
            "marker": {
             "colorbar": {
              "outlinewidth": 0,
              "ticks": ""
             }
            },
            "type": "histogram"
           }
          ],
          "histogram2d": [
           {
            "colorbar": {
             "outlinewidth": 0,
             "ticks": ""
            },
            "colorscale": [
             [
              0,
              "#0d0887"
             ],
             [
              0.1111111111111111,
              "#46039f"
             ],
             [
              0.2222222222222222,
              "#7201a8"
             ],
             [
              0.3333333333333333,
              "#9c179e"
             ],
             [
              0.4444444444444444,
              "#bd3786"
             ],
             [
              0.5555555555555556,
              "#d8576b"
             ],
             [
              0.6666666666666666,
              "#ed7953"
             ],
             [
              0.7777777777777778,
              "#fb9f3a"
             ],
             [
              0.8888888888888888,
              "#fdca26"
             ],
             [
              1,
              "#f0f921"
             ]
            ],
            "type": "histogram2d"
           }
          ],
          "histogram2dcontour": [
           {
            "colorbar": {
             "outlinewidth": 0,
             "ticks": ""
            },
            "colorscale": [
             [
              0,
              "#0d0887"
             ],
             [
              0.1111111111111111,
              "#46039f"
             ],
             [
              0.2222222222222222,
              "#7201a8"
             ],
             [
              0.3333333333333333,
              "#9c179e"
             ],
             [
              0.4444444444444444,
              "#bd3786"
             ],
             [
              0.5555555555555556,
              "#d8576b"
             ],
             [
              0.6666666666666666,
              "#ed7953"
             ],
             [
              0.7777777777777778,
              "#fb9f3a"
             ],
             [
              0.8888888888888888,
              "#fdca26"
             ],
             [
              1,
              "#f0f921"
             ]
            ],
            "type": "histogram2dcontour"
           }
          ],
          "mesh3d": [
           {
            "colorbar": {
             "outlinewidth": 0,
             "ticks": ""
            },
            "type": "mesh3d"
           }
          ],
          "parcoords": [
           {
            "line": {
             "colorbar": {
              "outlinewidth": 0,
              "ticks": ""
             }
            },
            "type": "parcoords"
           }
          ],
          "pie": [
           {
            "automargin": true,
            "type": "pie"
           }
          ],
          "scatter": [
           {
            "marker": {
             "colorbar": {
              "outlinewidth": 0,
              "ticks": ""
             }
            },
            "type": "scatter"
           }
          ],
          "scatter3d": [
           {
            "line": {
             "colorbar": {
              "outlinewidth": 0,
              "ticks": ""
             }
            },
            "marker": {
             "colorbar": {
              "outlinewidth": 0,
              "ticks": ""
             }
            },
            "type": "scatter3d"
           }
          ],
          "scattercarpet": [
           {
            "marker": {
             "colorbar": {
              "outlinewidth": 0,
              "ticks": ""
             }
            },
            "type": "scattercarpet"
           }
          ],
          "scattergeo": [
           {
            "marker": {
             "colorbar": {
              "outlinewidth": 0,
              "ticks": ""
             }
            },
            "type": "scattergeo"
           }
          ],
          "scattergl": [
           {
            "marker": {
             "colorbar": {
              "outlinewidth": 0,
              "ticks": ""
             }
            },
            "type": "scattergl"
           }
          ],
          "scattermapbox": [
           {
            "marker": {
             "colorbar": {
              "outlinewidth": 0,
              "ticks": ""
             }
            },
            "type": "scattermapbox"
           }
          ],
          "scatterpolar": [
           {
            "marker": {
             "colorbar": {
              "outlinewidth": 0,
              "ticks": ""
             }
            },
            "type": "scatterpolar"
           }
          ],
          "scatterpolargl": [
           {
            "marker": {
             "colorbar": {
              "outlinewidth": 0,
              "ticks": ""
             }
            },
            "type": "scatterpolargl"
           }
          ],
          "scatterternary": [
           {
            "marker": {
             "colorbar": {
              "outlinewidth": 0,
              "ticks": ""
             }
            },
            "type": "scatterternary"
           }
          ],
          "surface": [
           {
            "colorbar": {
             "outlinewidth": 0,
             "ticks": ""
            },
            "colorscale": [
             [
              0,
              "#0d0887"
             ],
             [
              0.1111111111111111,
              "#46039f"
             ],
             [
              0.2222222222222222,
              "#7201a8"
             ],
             [
              0.3333333333333333,
              "#9c179e"
             ],
             [
              0.4444444444444444,
              "#bd3786"
             ],
             [
              0.5555555555555556,
              "#d8576b"
             ],
             [
              0.6666666666666666,
              "#ed7953"
             ],
             [
              0.7777777777777778,
              "#fb9f3a"
             ],
             [
              0.8888888888888888,
              "#fdca26"
             ],
             [
              1,
              "#f0f921"
             ]
            ],
            "type": "surface"
           }
          ],
          "table": [
           {
            "cells": {
             "fill": {
              "color": "#EBF0F8"
             },
             "line": {
              "color": "white"
             }
            },
            "header": {
             "fill": {
              "color": "#C8D4E3"
             },
             "line": {
              "color": "white"
             }
            },
            "type": "table"
           }
          ]
         },
         "layout": {
          "annotationdefaults": {
           "arrowcolor": "#2a3f5f",
           "arrowhead": 0,
           "arrowwidth": 1
          },
          "coloraxis": {
           "colorbar": {
            "outlinewidth": 0,
            "ticks": ""
           }
          },
          "colorscale": {
           "diverging": [
            [
             0,
             "#8e0152"
            ],
            [
             0.1,
             "#c51b7d"
            ],
            [
             0.2,
             "#de77ae"
            ],
            [
             0.3,
             "#f1b6da"
            ],
            [
             0.4,
             "#fde0ef"
            ],
            [
             0.5,
             "#f7f7f7"
            ],
            [
             0.6,
             "#e6f5d0"
            ],
            [
             0.7,
             "#b8e186"
            ],
            [
             0.8,
             "#7fbc41"
            ],
            [
             0.9,
             "#4d9221"
            ],
            [
             1,
             "#276419"
            ]
           ],
           "sequential": [
            [
             0,
             "#0d0887"
            ],
            [
             0.1111111111111111,
             "#46039f"
            ],
            [
             0.2222222222222222,
             "#7201a8"
            ],
            [
             0.3333333333333333,
             "#9c179e"
            ],
            [
             0.4444444444444444,
             "#bd3786"
            ],
            [
             0.5555555555555556,
             "#d8576b"
            ],
            [
             0.6666666666666666,
             "#ed7953"
            ],
            [
             0.7777777777777778,
             "#fb9f3a"
            ],
            [
             0.8888888888888888,
             "#fdca26"
            ],
            [
             1,
             "#f0f921"
            ]
           ],
           "sequentialminus": [
            [
             0,
             "#0d0887"
            ],
            [
             0.1111111111111111,
             "#46039f"
            ],
            [
             0.2222222222222222,
             "#7201a8"
            ],
            [
             0.3333333333333333,
             "#9c179e"
            ],
            [
             0.4444444444444444,
             "#bd3786"
            ],
            [
             0.5555555555555556,
             "#d8576b"
            ],
            [
             0.6666666666666666,
             "#ed7953"
            ],
            [
             0.7777777777777778,
             "#fb9f3a"
            ],
            [
             0.8888888888888888,
             "#fdca26"
            ],
            [
             1,
             "#f0f921"
            ]
           ]
          },
          "colorway": [
           "#636efa",
           "#EF553B",
           "#00cc96",
           "#ab63fa",
           "#FFA15A",
           "#19d3f3",
           "#FF6692",
           "#B6E880",
           "#FF97FF",
           "#FECB52"
          ],
          "font": {
           "color": "#2a3f5f"
          },
          "geo": {
           "bgcolor": "white",
           "lakecolor": "white",
           "landcolor": "#E5ECF6",
           "showlakes": true,
           "showland": true,
           "subunitcolor": "white"
          },
          "hoverlabel": {
           "align": "left"
          },
          "hovermode": "closest",
          "mapbox": {
           "style": "light"
          },
          "paper_bgcolor": "white",
          "plot_bgcolor": "#E5ECF6",
          "polar": {
           "angularaxis": {
            "gridcolor": "white",
            "linecolor": "white",
            "ticks": ""
           },
           "bgcolor": "#E5ECF6",
           "radialaxis": {
            "gridcolor": "white",
            "linecolor": "white",
            "ticks": ""
           }
          },
          "scene": {
           "xaxis": {
            "backgroundcolor": "#E5ECF6",
            "gridcolor": "white",
            "gridwidth": 2,
            "linecolor": "white",
            "showbackground": true,
            "ticks": "",
            "zerolinecolor": "white"
           },
           "yaxis": {
            "backgroundcolor": "#E5ECF6",
            "gridcolor": "white",
            "gridwidth": 2,
            "linecolor": "white",
            "showbackground": true,
            "ticks": "",
            "zerolinecolor": "white"
           },
           "zaxis": {
            "backgroundcolor": "#E5ECF6",
            "gridcolor": "white",
            "gridwidth": 2,
            "linecolor": "white",
            "showbackground": true,
            "ticks": "",
            "zerolinecolor": "white"
           }
          },
          "shapedefaults": {
           "line": {
            "color": "#2a3f5f"
           }
          },
          "ternary": {
           "aaxis": {
            "gridcolor": "white",
            "linecolor": "white",
            "ticks": ""
           },
           "baxis": {
            "gridcolor": "white",
            "linecolor": "white",
            "ticks": ""
           },
           "bgcolor": "#E5ECF6",
           "caxis": {
            "gridcolor": "white",
            "linecolor": "white",
            "ticks": ""
           }
          },
          "title": {
           "x": 0.05
          },
          "xaxis": {
           "automargin": true,
           "gridcolor": "white",
           "linecolor": "white",
           "ticks": "",
           "title": {
            "standoff": 15
           },
           "zerolinecolor": "white",
           "zerolinewidth": 2
          },
          "yaxis": {
           "automargin": true,
           "gridcolor": "white",
           "linecolor": "white",
           "ticks": "",
           "title": {
            "standoff": 15
           },
           "zerolinecolor": "white",
           "zerolinewidth": 2
          }
         }
        },
        "title": {
         "text": "Hot topic ",
         "x": 0.5,
         "xanchor": "center",
         "y": 0.92,
         "yanchor": "top"
        },
        "xaxis": {
         "nticks": 36
        }
       }
      },
      "text/html": [
       "<div>\n",
       "        \n",
       "        \n",
       "            <div id=\"e384c954-42de-49f1-8d41-1288739a31b1\" class=\"plotly-graph-div\" style=\"height:525px; width:100%;\"></div>\n",
       "            <script type=\"text/javascript\">\n",
       "                require([\"plotly\"], function(Plotly) {\n",
       "                    window.PLOTLYENV=window.PLOTLYENV || {};\n",
       "                    \n",
       "                if (document.getElementById(\"e384c954-42de-49f1-8d41-1288739a31b1\")) {\n",
       "                    Plotly.newPlot(\n",
       "                        'e384c954-42de-49f1-8d41-1288739a31b1',\n",
       "                        [{\"colorscale\": [[0.0, \"rgb(247,251,255)\"], [0.125, \"rgb(222,235,247)\"], [0.25, \"rgb(198,219,239)\"], [0.375, \"rgb(158,202,225)\"], [0.5, \"rgb(107,174,214)\"], [0.625, \"rgb(66,146,198)\"], [0.75, \"rgb(33,113,181)\"], [0.875, \"rgb(8,81,156)\"], [1.0, \"rgb(8,48,107)\"]], \"type\": \"heatmap\", \"x\": [\"2020-01-01\", \"2020-01-02\", \"2020-01-03\", \"2020-01-04\", \"2020-01-05\", \"2020-01-06\", \"2020-01-07\", \"2020-01-08\", \"2020-01-09\", \"2020-01-10\", \"2020-01-11\", \"2020-01-12\", \"2020-01-13\", \"2020-01-14\", \"2020-01-15\", \"2020-01-16\", \"2020-01-17\", \"2020-01-18\", \"2020-01-19\", \"2020-01-20\", \"2020-01-21\", \"2020-01-22\", \"2020-01-23\", \"2020-01-24\", \"2020-01-25\", \"2020-01-26\", \"2020-01-27\", \"2020-01-28\", \"2020-01-29\", \"2020-01-30\", \"2020-01-31\", \"2020-02-01\", \"2020-02-02\", \"2020-02-03\", \"2020-02-04\", \"2020-02-05\", \"2020-02-06\", \"2020-02-07\", \"2020-02-08\", \"2020-02-09\", \"2020-02-10\", \"2020-02-11\", \"2020-02-12\", \"2020-02-13\", \"2020-02-14\", \"2020-02-15\", \"2020-02-16\", \"2020-02-17\", \"2020-02-18\", \"2020-02-19\", \"2020-02-20\", \"2020-02-21\", \"2020-02-22\", \"2020-02-23\", \"2020-02-24\", \"2020-02-25\", \"2020-02-26\", \"2020-02-27\", \"2020-02-28\", \"2020-02-29\", \"2020-03-01\", \"2020-03-02\", \"2020-03-03\", \"2020-03-04\", \"2020-03-05\", \"2020-03-06\"], \"y\": [\"count\", \"alive_time\"], \"z\": [[4.147188449360292, 3.616963084087335, 1.969931424988301, 2.126261957763932, 1.867964045914408, 2.5902817760150314, 2.7463608755190942, 2.4862674722302995, 1.5454198134973798, 2.4266266848577183, 3.77680391734554, 2.7178946851263315, 2.130297689314013, 2.1150758318291025, 2.2955553357463283, 3.864052684713362, 1.5101265271572917, 2.9745761047887416, 2.2039166306811486, 2.3763674303238065, 3.2922803415370203, 7.4330416938084864, 7.235775700701723, 8.519902493570509, 9.013413955557237, 10.0, 9.77595105417144, 6.127381518446675, 5.329687847963572, 5.562388487518987, 5.81761866695218, 5.685059481366164, 6.0761950326171625, 5.231561652523752, 4.495608787122589, 4.142879383676753, 6.610080022431033, 5.677997448900382, 4.4830536202973255, 4.279908336075762, 5.363439256741254, 4.580162041917283, 5.243069844379965, 5.02447791071011, 7.208763499997027, 5.149346859887132, 5.754308205292535, 3.171515670763528, 3.7724992128725954, 4.7235438560161125, 4.759275349211849, 5.1325026320617, 5.4797719894632015, 4.833233896151667, 4.197095678352223, 4.393026761781888, 2.842715850604684, 5.105708586695572, 4.9530319899253, 4.4514279224479285, 5.846031100683942, 4.781108327910816, 3.7601388783901175, 2.916844010712992, 3.537807396254788, 0.0], [10.0, 3.6990361716956985, 1.5129432190426044, 3.7155323243599927, 5.008219675786466, 3.351656418718571, 1.6126864426090133, 1.570824038282718, 1.6740934938863503, 1.6095877402147305, 3.309237667988591, 6.709268330434867, 4.559449467593731, 2.5084021239348053, 1.543799904766883, 4.866542539376977, 1.589326993790574, 2.9722124496733415, 1.6610145354499917, 3.689971326099069, 1.973577755191453, 2.2916253231639745, 3.2528808423155544, 3.09653837413266, 2.2602787280267878, 9.176216815040078, 3.486824758642269, 3.6202799370785863, 3.755445234086676, 3.1250880226733715, 1.5808027728669891, 2.2336293802833542, 3.322752777662117, 5.98705766847444, 1.8849726170560173, 3.2214830247656274, 1.7141996287541517, 1.5873714133597474, 1.7089064770538034, 2.4287426505346814, 1.8016565734001184, 1.5401996284498602, 1.6605895415700545, 1.331708179727375, 1.420562329790077, 3.5587040039850013, 2.581797755555588, 2.7921271253053868, 2.243916970801856, 1.9715770381791058, 1.7956899230451706, 2.43141280898082, 1.924898205597736, 1.6150614382411614, 1.4997947806998615, 1.5165363952232105, 1.8037861071732104, 2.127251079233413, 1.233061420085099, 1.336945544641574, 1.3131494374333692, 1.2883111316293765, 1.2927624100114752, 1.4141072914800237, 1.4187903386009402, 0.0]]}],\n",
       "                        {\"font\": {\"color\": \"#262626\", \"family\": \"Arial\"}, \"template\": {\"data\": {\"bar\": [{\"error_x\": {\"color\": \"#2a3f5f\"}, \"error_y\": {\"color\": \"#2a3f5f\"}, \"marker\": {\"line\": {\"color\": \"#E5ECF6\", \"width\": 0.5}}, \"type\": \"bar\"}], \"barpolar\": [{\"marker\": {\"line\": {\"color\": \"#E5ECF6\", \"width\": 0.5}}, \"type\": \"barpolar\"}], \"carpet\": [{\"aaxis\": {\"endlinecolor\": \"#2a3f5f\", \"gridcolor\": \"white\", \"linecolor\": \"white\", \"minorgridcolor\": \"white\", \"startlinecolor\": \"#2a3f5f\"}, \"baxis\": {\"endlinecolor\": \"#2a3f5f\", \"gridcolor\": \"white\", \"linecolor\": \"white\", \"minorgridcolor\": \"white\", \"startlinecolor\": \"#2a3f5f\"}, \"type\": \"carpet\"}], \"choropleth\": [{\"colorbar\": {\"outlinewidth\": 0, \"ticks\": \"\"}, \"type\": \"choropleth\"}], \"contour\": [{\"colorbar\": {\"outlinewidth\": 0, \"ticks\": \"\"}, \"colorscale\": [[0.0, \"#0d0887\"], [0.1111111111111111, \"#46039f\"], [0.2222222222222222, \"#7201a8\"], [0.3333333333333333, \"#9c179e\"], [0.4444444444444444, \"#bd3786\"], [0.5555555555555556, \"#d8576b\"], [0.6666666666666666, \"#ed7953\"], [0.7777777777777778, \"#fb9f3a\"], [0.8888888888888888, \"#fdca26\"], [1.0, \"#f0f921\"]], \"type\": \"contour\"}], \"contourcarpet\": [{\"colorbar\": {\"outlinewidth\": 0, \"ticks\": \"\"}, \"type\": \"contourcarpet\"}], \"heatmap\": [{\"colorbar\": {\"outlinewidth\": 0, \"ticks\": \"\"}, \"colorscale\": [[0.0, \"#0d0887\"], [0.1111111111111111, \"#46039f\"], [0.2222222222222222, \"#7201a8\"], [0.3333333333333333, \"#9c179e\"], [0.4444444444444444, \"#bd3786\"], [0.5555555555555556, \"#d8576b\"], [0.6666666666666666, \"#ed7953\"], [0.7777777777777778, \"#fb9f3a\"], [0.8888888888888888, \"#fdca26\"], [1.0, \"#f0f921\"]], \"type\": \"heatmap\"}], \"heatmapgl\": [{\"colorbar\": {\"outlinewidth\": 0, \"ticks\": \"\"}, \"colorscale\": [[0.0, \"#0d0887\"], [0.1111111111111111, \"#46039f\"], [0.2222222222222222, \"#7201a8\"], [0.3333333333333333, \"#9c179e\"], [0.4444444444444444, \"#bd3786\"], [0.5555555555555556, \"#d8576b\"], [0.6666666666666666, \"#ed7953\"], [0.7777777777777778, \"#fb9f3a\"], [0.8888888888888888, \"#fdca26\"], [1.0, \"#f0f921\"]], \"type\": \"heatmapgl\"}], \"histogram\": [{\"marker\": {\"colorbar\": {\"outlinewidth\": 0, \"ticks\": \"\"}}, \"type\": \"histogram\"}], \"histogram2d\": [{\"colorbar\": {\"outlinewidth\": 0, \"ticks\": \"\"}, \"colorscale\": [[0.0, \"#0d0887\"], [0.1111111111111111, \"#46039f\"], [0.2222222222222222, \"#7201a8\"], [0.3333333333333333, \"#9c179e\"], [0.4444444444444444, \"#bd3786\"], [0.5555555555555556, \"#d8576b\"], [0.6666666666666666, \"#ed7953\"], [0.7777777777777778, \"#fb9f3a\"], [0.8888888888888888, \"#fdca26\"], [1.0, \"#f0f921\"]], \"type\": \"histogram2d\"}], \"histogram2dcontour\": [{\"colorbar\": {\"outlinewidth\": 0, \"ticks\": \"\"}, \"colorscale\": [[0.0, \"#0d0887\"], [0.1111111111111111, \"#46039f\"], [0.2222222222222222, \"#7201a8\"], [0.3333333333333333, \"#9c179e\"], [0.4444444444444444, \"#bd3786\"], [0.5555555555555556, \"#d8576b\"], [0.6666666666666666, \"#ed7953\"], [0.7777777777777778, \"#fb9f3a\"], [0.8888888888888888, \"#fdca26\"], [1.0, \"#f0f921\"]], \"type\": \"histogram2dcontour\"}], \"mesh3d\": [{\"colorbar\": {\"outlinewidth\": 0, \"ticks\": \"\"}, \"type\": \"mesh3d\"}], \"parcoords\": [{\"line\": {\"colorbar\": {\"outlinewidth\": 0, \"ticks\": \"\"}}, \"type\": \"parcoords\"}], \"pie\": [{\"automargin\": true, \"type\": \"pie\"}], \"scatter\": [{\"marker\": {\"colorbar\": {\"outlinewidth\": 0, \"ticks\": \"\"}}, \"type\": \"scatter\"}], \"scatter3d\": [{\"line\": {\"colorbar\": {\"outlinewidth\": 0, \"ticks\": \"\"}}, \"marker\": {\"colorbar\": {\"outlinewidth\": 0, \"ticks\": \"\"}}, \"type\": \"scatter3d\"}], \"scattercarpet\": [{\"marker\": {\"colorbar\": {\"outlinewidth\": 0, \"ticks\": \"\"}}, \"type\": \"scattercarpet\"}], \"scattergeo\": [{\"marker\": {\"colorbar\": {\"outlinewidth\": 0, \"ticks\": \"\"}}, \"type\": \"scattergeo\"}], \"scattergl\": [{\"marker\": {\"colorbar\": {\"outlinewidth\": 0, \"ticks\": \"\"}}, \"type\": \"scattergl\"}], \"scattermapbox\": [{\"marker\": {\"colorbar\": {\"outlinewidth\": 0, \"ticks\": \"\"}}, \"type\": \"scattermapbox\"}], \"scatterpolar\": [{\"marker\": {\"colorbar\": {\"outlinewidth\": 0, \"ticks\": \"\"}}, \"type\": \"scatterpolar\"}], \"scatterpolargl\": [{\"marker\": {\"colorbar\": {\"outlinewidth\": 0, \"ticks\": \"\"}}, \"type\": \"scatterpolargl\"}], \"scatterternary\": [{\"marker\": {\"colorbar\": {\"outlinewidth\": 0, \"ticks\": \"\"}}, \"type\": \"scatterternary\"}], \"surface\": [{\"colorbar\": {\"outlinewidth\": 0, \"ticks\": \"\"}, \"colorscale\": [[0.0, \"#0d0887\"], [0.1111111111111111, \"#46039f\"], [0.2222222222222222, \"#7201a8\"], [0.3333333333333333, \"#9c179e\"], [0.4444444444444444, \"#bd3786\"], [0.5555555555555556, \"#d8576b\"], [0.6666666666666666, \"#ed7953\"], [0.7777777777777778, \"#fb9f3a\"], [0.8888888888888888, \"#fdca26\"], [1.0, \"#f0f921\"]], \"type\": \"surface\"}], \"table\": [{\"cells\": {\"fill\": {\"color\": \"#EBF0F8\"}, \"line\": {\"color\": \"white\"}}, \"header\": {\"fill\": {\"color\": \"#C8D4E3\"}, \"line\": {\"color\": \"white\"}}, \"type\": \"table\"}]}, \"layout\": {\"annotationdefaults\": {\"arrowcolor\": \"#2a3f5f\", \"arrowhead\": 0, \"arrowwidth\": 1}, \"coloraxis\": {\"colorbar\": {\"outlinewidth\": 0, \"ticks\": \"\"}}, \"colorscale\": {\"diverging\": [[0, \"#8e0152\"], [0.1, \"#c51b7d\"], [0.2, \"#de77ae\"], [0.3, \"#f1b6da\"], [0.4, \"#fde0ef\"], [0.5, \"#f7f7f7\"], [0.6, \"#e6f5d0\"], [0.7, \"#b8e186\"], [0.8, \"#7fbc41\"], [0.9, \"#4d9221\"], [1, \"#276419\"]], \"sequential\": [[0.0, \"#0d0887\"], [0.1111111111111111, \"#46039f\"], [0.2222222222222222, \"#7201a8\"], [0.3333333333333333, \"#9c179e\"], [0.4444444444444444, \"#bd3786\"], [0.5555555555555556, \"#d8576b\"], [0.6666666666666666, \"#ed7953\"], [0.7777777777777778, \"#fb9f3a\"], [0.8888888888888888, \"#fdca26\"], [1.0, \"#f0f921\"]], \"sequentialminus\": [[0.0, \"#0d0887\"], [0.1111111111111111, \"#46039f\"], [0.2222222222222222, \"#7201a8\"], [0.3333333333333333, \"#9c179e\"], [0.4444444444444444, \"#bd3786\"], [0.5555555555555556, \"#d8576b\"], [0.6666666666666666, \"#ed7953\"], [0.7777777777777778, \"#fb9f3a\"], [0.8888888888888888, \"#fdca26\"], [1.0, \"#f0f921\"]]}, \"colorway\": [\"#636efa\", \"#EF553B\", \"#00cc96\", \"#ab63fa\", \"#FFA15A\", \"#19d3f3\", \"#FF6692\", \"#B6E880\", \"#FF97FF\", \"#FECB52\"], \"font\": {\"color\": \"#2a3f5f\"}, \"geo\": {\"bgcolor\": \"white\", \"lakecolor\": \"white\", \"landcolor\": \"#E5ECF6\", \"showlakes\": true, \"showland\": true, \"subunitcolor\": \"white\"}, \"hoverlabel\": {\"align\": \"left\"}, \"hovermode\": \"closest\", \"mapbox\": {\"style\": \"light\"}, \"paper_bgcolor\": \"white\", \"plot_bgcolor\": \"#E5ECF6\", \"polar\": {\"angularaxis\": {\"gridcolor\": \"white\", \"linecolor\": \"white\", \"ticks\": \"\"}, \"bgcolor\": \"#E5ECF6\", \"radialaxis\": {\"gridcolor\": \"white\", \"linecolor\": \"white\", \"ticks\": \"\"}}, \"scene\": {\"xaxis\": {\"backgroundcolor\": \"#E5ECF6\", \"gridcolor\": \"white\", \"gridwidth\": 2, \"linecolor\": \"white\", \"showbackground\": true, \"ticks\": \"\", \"zerolinecolor\": \"white\"}, \"yaxis\": {\"backgroundcolor\": \"#E5ECF6\", \"gridcolor\": \"white\", \"gridwidth\": 2, \"linecolor\": \"white\", \"showbackground\": true, \"ticks\": \"\", \"zerolinecolor\": \"white\"}, \"zaxis\": {\"backgroundcolor\": \"#E5ECF6\", \"gridcolor\": \"white\", \"gridwidth\": 2, \"linecolor\": \"white\", \"showbackground\": true, \"ticks\": \"\", \"zerolinecolor\": \"white\"}}, \"shapedefaults\": {\"line\": {\"color\": \"#2a3f5f\"}}, \"ternary\": {\"aaxis\": {\"gridcolor\": \"white\", \"linecolor\": \"white\", \"ticks\": \"\"}, \"baxis\": {\"gridcolor\": \"white\", \"linecolor\": \"white\", \"ticks\": \"\"}, \"bgcolor\": \"#E5ECF6\", \"caxis\": {\"gridcolor\": \"white\", \"linecolor\": \"white\", \"ticks\": \"\"}}, \"title\": {\"x\": 0.05}, \"xaxis\": {\"automargin\": true, \"gridcolor\": \"white\", \"linecolor\": \"white\", \"ticks\": \"\", \"title\": {\"standoff\": 15}, \"zerolinecolor\": \"white\", \"zerolinewidth\": 2}, \"yaxis\": {\"automargin\": true, \"gridcolor\": \"white\", \"linecolor\": \"white\", \"ticks\": \"\", \"title\": {\"standoff\": 15}, \"zerolinecolor\": \"white\", \"zerolinewidth\": 2}}}, \"title\": {\"text\": \"Hot topic \", \"x\": 0.5, \"xanchor\": \"center\", \"y\": 0.92, \"yanchor\": \"top\"}, \"xaxis\": {\"nticks\": 36}},\n",
       "                        {\"responsive\": true}\n",
       "                    ).then(function(){\n",
       "                            \n",
       "var gd = document.getElementById('e384c954-42de-49f1-8d41-1288739a31b1');\n",
       "var x = new MutationObserver(function (mutations, observer) {{\n",
       "        var display = window.getComputedStyle(gd).display;\n",
       "        if (!display || display === 'none') {{\n",
       "            console.log([gd, 'removed!']);\n",
       "            Plotly.purge(gd);\n",
       "            observer.disconnect();\n",
       "        }}\n",
       "}});\n",
       "\n",
       "// Listen for the removal of the full notebook cells\n",
       "var notebookContainer = gd.closest('#notebook-container');\n",
       "if (notebookContainer) {{\n",
       "    x.observe(notebookContainer, {childList: true});\n",
       "}}\n",
       "\n",
       "// Listen for the clearing of the current output cell\n",
       "var outputEl = gd.closest('.output');\n",
       "if (outputEl) {{\n",
       "    x.observe(outputEl, {childList: true});\n",
       "}}\n",
       "\n",
       "                        })\n",
       "                };\n",
       "                });\n",
       "            </script>\n",
       "        </div>"
      ]
     },
     "metadata": {},
     "output_type": "display_data"
    }
   ],
   "source": [
    "import plotly.graph_objects as go\n",
    "import datetime\n",
    "from datetime import date, timedelta\n",
    "import numpy as np\n",
    "\n",
    "map_df = pd.read_csv(\"hot_topic_heatmap.csv\", sep=',')\n",
    "\n",
    "y = list(map_df.columns)[2:]\n",
    "\n",
    "begin = datetime.date(2020,1,1)\n",
    "end = datetime.date(2020, 3, 6)\n",
    "delta = end - begin \n",
    "x = []\n",
    "for i in range(delta.days + 1):\n",
    "    x.append(begin + timedelta(days=i))\n",
    "\n",
    "z = []\n",
    "for i in range(len(y)):\n",
    "    z_part = map_df[y[i]].values.tolist()\n",
    "    z.append(z_part)\n",
    "\n",
    "fig = go.Figure(data=go.Heatmap(\n",
    "        z=z,\n",
    "        x=x,\n",
    "        y=y,\n",
    "        colorscale='Blues'))\n",
    "\n",
    "fig.update_layout(\n",
    "    title={'text': \"Hot topic \",\n",
    "           'y':0.92,'x':0.5,\n",
    "           'xanchor': 'center',\n",
    "           'yanchor': 'top',},\n",
    "    font=dict(family=\"Arial\",\n",
    "              color=\"#262626\"),\n",
    "    xaxis_nticks=36)\n",
    "\n",
    "fig.show()"
   ]
  },
  {
   "cell_type": "markdown",
   "metadata": {},
   "source": [
    "Conclusion: It seems that the most hot topic count is around Jan 26th. Let's see exactly."
   ]
  },
  {
   "cell_type": "code",
   "execution_count": 264,
   "metadata": {},
   "outputs": [
    {
     "data": {
      "text/html": [
       "<div>\n",
       "<style scoped>\n",
       "    .dataframe tbody tr th:only-of-type {\n",
       "        vertical-align: middle;\n",
       "    }\n",
       "\n",
       "    .dataframe tbody tr th {\n",
       "        vertical-align: top;\n",
       "    }\n",
       "\n",
       "    .dataframe thead th {\n",
       "        text-align: right;\n",
       "    }\n",
       "</style>\n",
       "<table border=\"1\" class=\"dataframe\">\n",
       "  <thead>\n",
       "    <tr style=\"text-align: right;\">\n",
       "      <th></th>\n",
       "      <th>start_mnth_day</th>\n",
       "      <th>count</th>\n",
       "      <th>alive_time</th>\n",
       "    </tr>\n",
       "  </thead>\n",
       "  <tbody>\n",
       "    <tr>\n",
       "      <td>67</td>\n",
       "      <td>2020-01-26</td>\n",
       "      <td>124421452</td>\n",
       "      <td>5052.163056</td>\n",
       "    </tr>\n",
       "    <tr>\n",
       "      <td>68</td>\n",
       "      <td>2020-01-27</td>\n",
       "      <td>122058289</td>\n",
       "      <td>1935.967500</td>\n",
       "    </tr>\n",
       "    <tr>\n",
       "      <td>66</td>\n",
       "      <td>2020-01-25</td>\n",
       "      <td>114015406</td>\n",
       "      <td>1264.163333</td>\n",
       "    </tr>\n",
       "    <tr>\n",
       "      <td>65</td>\n",
       "      <td>2020-01-24</td>\n",
       "      <td>108810079</td>\n",
       "      <td>1722.199722</td>\n",
       "    </tr>\n",
       "    <tr>\n",
       "      <td>63</td>\n",
       "      <td>2020-01-22</td>\n",
       "      <td>97346382</td>\n",
       "      <td>1281.332500</td>\n",
       "    </tr>\n",
       "    <tr>\n",
       "      <td>...</td>\n",
       "      <td>...</td>\n",
       "      <td>...</td>\n",
       "      <td>...</td>\n",
       "    </tr>\n",
       "    <tr>\n",
       "      <td>17</td>\n",
       "      <td>2019-11-20</td>\n",
       "      <td>271029</td>\n",
       "      <td>2287.600000</td>\n",
       "    </tr>\n",
       "    <tr>\n",
       "      <td>35</td>\n",
       "      <td>2019-12-22</td>\n",
       "      <td>270769</td>\n",
       "      <td>1440.133333</td>\n",
       "    </tr>\n",
       "    <tr>\n",
       "      <td>5</td>\n",
       "      <td>2019-10-31</td>\n",
       "      <td>243066</td>\n",
       "      <td>1859.066944</td>\n",
       "    </tr>\n",
       "    <tr>\n",
       "      <td>39</td>\n",
       "      <td>2019-12-29</td>\n",
       "      <td>220192</td>\n",
       "      <td>429.300000</td>\n",
       "    </tr>\n",
       "    <tr>\n",
       "      <td>19</td>\n",
       "      <td>2019-11-24</td>\n",
       "      <td>143403</td>\n",
       "      <td>1248.133333</td>\n",
       "    </tr>\n",
       "  </tbody>\n",
       "</table>\n",
       "<p>108 rows × 3 columns</p>\n",
       "</div>"
      ],
      "text/plain": [
       "   start_mnth_day      count   alive_time\n",
       "67     2020-01-26  124421452  5052.163056\n",
       "68     2020-01-27  122058289  1935.967500\n",
       "66     2020-01-25  114015406  1264.163333\n",
       "65     2020-01-24  108810079  1722.199722\n",
       "63     2020-01-22   97346382  1281.332500\n",
       "..            ...        ...          ...\n",
       "17     2019-11-20     271029  2287.600000\n",
       "35     2019-12-22     270769  1440.133333\n",
       "5      2019-10-31     243066  1859.066944\n",
       "39     2019-12-29     220192   429.300000\n",
       "19     2019-11-24     143403  1248.133333\n",
       "\n",
       "[108 rows x 3 columns]"
      ]
     },
     "execution_count": 264,
     "metadata": {},
     "output_type": "execute_result"
    }
   ],
   "source": [
    "group_df = group_df.sort_values(by=['count'], ascending=False)\n",
    "group_df\n"
   ]
  },
  {
   "cell_type": "markdown",
   "metadata": {},
   "source": [
    "### Let's see what happened on that day"
   ]
  },
  {
   "cell_type": "code",
   "execution_count": 218,
   "metadata": {
    "scrolled": true
   },
   "outputs": [
    {
     "data": {
      "text/html": [
       "<div>\n",
       "<style scoped>\n",
       "    .dataframe tbody tr th:only-of-type {\n",
       "        vertical-align: middle;\n",
       "    }\n",
       "\n",
       "    .dataframe tbody tr th {\n",
       "        vertical-align: top;\n",
       "    }\n",
       "\n",
       "    .dataframe thead th {\n",
       "        text-align: right;\n",
       "    }\n",
       "</style>\n",
       "<table border=\"1\" class=\"dataframe\">\n",
       "  <thead>\n",
       "    <tr style=\"text-align: right;\">\n",
       "      <th></th>\n",
       "      <th>content</th>\n",
       "      <th>end_time</th>\n",
       "      <th>start_time</th>\n",
       "      <th>count</th>\n",
       "      <th>alive_time</th>\n",
       "      <th>start_mnth_day</th>\n",
       "      <th>end_mnth_day</th>\n",
       "      <th>rank</th>\n",
       "      <th>inside_text</th>\n",
       "    </tr>\n",
       "  </thead>\n",
       "  <tbody>\n",
       "    <tr>\n",
       "      <td>2549</td>\n",
       "      <td>500万人离开武汉</td>\n",
       "      <td>2020-01-27 12:48:01</td>\n",
       "      <td>2020-01-26 22:44:02</td>\n",
       "      <td>11412070</td>\n",
       "      <td>14.066389</td>\n",
       "      <td>2020-01-26</td>\n",
       "      <td>2020-01-27</td>\n",
       "      <td>NO.1</td>\n",
       "      <td>500万人离开武汉   Search count:11412070</td>\n",
       "    </tr>\n",
       "    <tr>\n",
       "      <td>2499</td>\n",
       "      <td>传染病学专家表示疫情已刻不容缓</td>\n",
       "      <td>2020-01-26 15:38:02</td>\n",
       "      <td>2020-01-26 07:12:01</td>\n",
       "      <td>6317411</td>\n",
       "      <td>8.433611</td>\n",
       "      <td>2020-01-26</td>\n",
       "      <td>2020-01-26</td>\n",
       "      <td>NO.2</td>\n",
       "      <td>传染病学专家表示疫情已刻不容缓   Search count:6317411</td>\n",
       "    </tr>\n",
       "    <tr>\n",
       "      <td>2500</td>\n",
       "      <td>大年初一全国票房仅181万</td>\n",
       "      <td>2020-01-26 17:38:02</td>\n",
       "      <td>2020-01-26 11:06:02</td>\n",
       "      <td>5451178</td>\n",
       "      <td>6.533333</td>\n",
       "      <td>2020-01-26</td>\n",
       "      <td>2020-01-26</td>\n",
       "      <td>NO.3</td>\n",
       "      <td>大年初一全国票房仅181万   Search count:5451178</td>\n",
       "    </tr>\n",
       "    <tr>\n",
       "      <td>2550</td>\n",
       "      <td>湖北省长表示痛心内疚自责</td>\n",
       "      <td>2020-01-27 12:06:02</td>\n",
       "      <td>2020-01-26 23:06:01</td>\n",
       "      <td>5217833</td>\n",
       "      <td>13.000278</td>\n",
       "      <td>2020-01-26</td>\n",
       "      <td>2020-01-27</td>\n",
       "      <td>NO.4</td>\n",
       "      <td>湖北省长表示痛心内疚自责   Search count:5217833</td>\n",
       "    </tr>\n",
       "    <tr>\n",
       "      <td>2501</td>\n",
       "      <td>多所高校延期开学</td>\n",
       "      <td>2020-01-26 22:00:01</td>\n",
       "      <td>2020-01-26 10:02:02</td>\n",
       "      <td>4960564</td>\n",
       "      <td>11.966389</td>\n",
       "      <td>2020-01-26</td>\n",
       "      <td>2020-01-26</td>\n",
       "      <td>NO.5</td>\n",
       "      <td>多所高校延期开学   Search count:4960564</td>\n",
       "    </tr>\n",
       "    <tr>\n",
       "      <td>2502</td>\n",
       "      <td>明星捐款</td>\n",
       "      <td>2020-01-26 18:32:01</td>\n",
       "      <td>2020-01-26 10:28:02</td>\n",
       "      <td>4878384</td>\n",
       "      <td>8.066389</td>\n",
       "      <td>2020-01-26</td>\n",
       "      <td>2020-01-26</td>\n",
       "      <td>NO.6</td>\n",
       "      <td>明星捐款   Search count:4878384</td>\n",
       "    </tr>\n",
       "    <tr>\n",
       "      <td>2503</td>\n",
       "      <td>武汉现状</td>\n",
       "      <td>2020-01-26 18:16:01</td>\n",
       "      <td>2020-01-26 11:34:02</td>\n",
       "      <td>4179531</td>\n",
       "      <td>6.699722</td>\n",
       "      <td>2020-01-26</td>\n",
       "      <td>2020-01-26</td>\n",
       "      <td>NO.7</td>\n",
       "      <td>武汉现状   Search count:4179531</td>\n",
       "    </tr>\n",
       "    <tr>\n",
       "      <td>2551</td>\n",
       "      <td>华南海鲜市场存在大量新冠病毒</td>\n",
       "      <td>2020-01-27 09:54:01</td>\n",
       "      <td>2020-01-26 21:50:01</td>\n",
       "      <td>3843257</td>\n",
       "      <td>12.066667</td>\n",
       "      <td>2020-01-26</td>\n",
       "      <td>2020-01-27</td>\n",
       "      <td>NO.8</td>\n",
       "      <td>华南海鲜市场存在大量新冠病毒   Search count:3843257</td>\n",
       "    </tr>\n",
       "    <tr>\n",
       "      <td>2552</td>\n",
       "      <td>武汉确诊病例可能再增加约1000例</td>\n",
       "      <td>2020-01-27 10:22:01</td>\n",
       "      <td>2020-01-26 22:24:02</td>\n",
       "      <td>3711517</td>\n",
       "      <td>11.966389</td>\n",
       "      <td>2020-01-26</td>\n",
       "      <td>2020-01-27</td>\n",
       "      <td>NO.9</td>\n",
       "      <td>武汉确诊病例可能再增加约1000例   Search count:3711517</td>\n",
       "    </tr>\n",
       "    <tr>\n",
       "      <td>2553</td>\n",
       "      <td>9个月婴儿新型肺炎病例</td>\n",
       "      <td>2020-01-27 11:04:01</td>\n",
       "      <td>2020-01-26 23:20:02</td>\n",
       "      <td>3485076</td>\n",
       "      <td>11.733056</td>\n",
       "      <td>2020-01-26</td>\n",
       "      <td>2020-01-27</td>\n",
       "      <td>NO.10</td>\n",
       "      <td>9个月婴儿新型肺炎病例   Search count:3485076</td>\n",
       "    </tr>\n",
       "    <tr>\n",
       "      <td>2504</td>\n",
       "      <td>武汉病毒核酸日检测量预计可达2000份</td>\n",
       "      <td>2020-01-26 14:48:02</td>\n",
       "      <td>2020-01-26 09:58:01</td>\n",
       "      <td>2789472</td>\n",
       "      <td>4.833611</td>\n",
       "      <td>2020-01-26</td>\n",
       "      <td>2020-01-26</td>\n",
       "      <td>NO.11</td>\n",
       "      <td>武汉病毒核酸日检测量预计可达2000份   Search count:2789472</td>\n",
       "    </tr>\n",
       "    <tr>\n",
       "      <td>2506</td>\n",
       "      <td>野生动物有多少病毒</td>\n",
       "      <td>2020-01-26 16:50:01</td>\n",
       "      <td>2020-01-26 11:02:02</td>\n",
       "      <td>2272712</td>\n",
       "      <td>5.799722</td>\n",
       "      <td>2020-01-26</td>\n",
       "      <td>2020-01-26</td>\n",
       "      <td>NO.12</td>\n",
       "      <td>野生动物有多少病毒   Search count:2272712</td>\n",
       "    </tr>\n",
       "    <tr>\n",
       "      <td>2555</td>\n",
       "      <td>这19列车次车厢内有新型肺炎患者</td>\n",
       "      <td>2020-01-27 08:42:02</td>\n",
       "      <td>2020-01-26 19:16:02</td>\n",
       "      <td>2083072</td>\n",
       "      <td>13.433333</td>\n",
       "      <td>2020-01-26</td>\n",
       "      <td>2020-01-27</td>\n",
       "      <td>NO.13</td>\n",
       "      <td>这19列车次车厢内有新型肺炎患者   Search count:2083072</td>\n",
       "    </tr>\n",
       "    <tr>\n",
       "      <td>3651</td>\n",
       "      <td>下一站是幸福</td>\n",
       "      <td>2020-02-18 15:30:01</td>\n",
       "      <td>2020-01-26 20:24:02</td>\n",
       "      <td>1964380</td>\n",
       "      <td>547.099722</td>\n",
       "      <td>2020-01-26</td>\n",
       "      <td>2020-02-18</td>\n",
       "      <td>NO.14</td>\n",
       "      <td>下一站是幸福   Search count:1964380</td>\n",
       "    </tr>\n",
       "    <tr>\n",
       "      <td>2556</td>\n",
       "      <td>快乐大本营取消播出</td>\n",
       "      <td>2020-01-27 09:32:01</td>\n",
       "      <td>2020-01-26 19:54:02</td>\n",
       "      <td>1864519</td>\n",
       "      <td>13.633056</td>\n",
       "      <td>2020-01-26</td>\n",
       "      <td>2020-01-27</td>\n",
       "      <td>NO.15</td>\n",
       "      <td>快乐大本营取消播出   Search count:1864519</td>\n",
       "    </tr>\n",
       "    <tr>\n",
       "      <td>2507</td>\n",
       "      <td>北电中戏推迟艺考时间</td>\n",
       "      <td>2020-01-26 16:04:02</td>\n",
       "      <td>2020-01-26 11:08:01</td>\n",
       "      <td>1812106</td>\n",
       "      <td>4.933611</td>\n",
       "      <td>2020-01-26</td>\n",
       "      <td>2020-01-26</td>\n",
       "      <td>NO.16</td>\n",
       "      <td>北电中戏推迟艺考时间   Search count:1812106</td>\n",
       "    </tr>\n",
       "    <tr>\n",
       "      <td>2557</td>\n",
       "      <td>北京大中小学幼儿园延期开学</td>\n",
       "      <td>2020-01-27 05:08:01</td>\n",
       "      <td>2020-01-26 17:10:02</td>\n",
       "      <td>1788697</td>\n",
       "      <td>11.966389</td>\n",
       "      <td>2020-01-26</td>\n",
       "      <td>2020-01-27</td>\n",
       "      <td>NO.17</td>\n",
       "      <td>北京大中小学幼儿园延期开学   Search count:1788697</td>\n",
       "    </tr>\n",
       "    <tr>\n",
       "      <td>2558</td>\n",
       "      <td>万万没想到这个问题会成真</td>\n",
       "      <td>2020-01-27 09:44:01</td>\n",
       "      <td>2020-01-26 18:46:02</td>\n",
       "      <td>1758373</td>\n",
       "      <td>14.966389</td>\n",
       "      <td>2020-01-26</td>\n",
       "      <td>2020-01-27</td>\n",
       "      <td>NO.18</td>\n",
       "      <td>万万没想到这个问题会成真   Search count:1758373</td>\n",
       "    </tr>\n",
       "    <tr>\n",
       "      <td>2508</td>\n",
       "      <td>上海出现首例死亡病例</td>\n",
       "      <td>2020-01-26 15:06:01</td>\n",
       "      <td>2020-01-26 08:32:01</td>\n",
       "      <td>1728282</td>\n",
       "      <td>6.566667</td>\n",
       "      <td>2020-01-26</td>\n",
       "      <td>2020-01-26</td>\n",
       "      <td>NO.19</td>\n",
       "      <td>上海出现首例死亡病例   Search count:1728282</td>\n",
       "    </tr>\n",
       "    <tr>\n",
       "      <td>2509</td>\n",
       "      <td>广东汕头禁止车辆船只人员进入</td>\n",
       "      <td>2020-01-26 15:50:01</td>\n",
       "      <td>2020-01-26 11:28:02</td>\n",
       "      <td>1670374</td>\n",
       "      <td>4.366389</td>\n",
       "      <td>2020-01-26</td>\n",
       "      <td>2020-01-26</td>\n",
       "      <td>NO.20</td>\n",
       "      <td>广东汕头禁止车辆船只人员进入   Search count:1670374</td>\n",
       "    </tr>\n",
       "  </tbody>\n",
       "</table>\n",
       "</div>"
      ],
      "text/plain": [
       "                  content            end_time          start_time     count  \\\n",
       "2549            500万人离开武汉 2020-01-27 12:48:01 2020-01-26 22:44:02  11412070   \n",
       "2499      传染病学专家表示疫情已刻不容缓 2020-01-26 15:38:02 2020-01-26 07:12:01   6317411   \n",
       "2500        大年初一全国票房仅181万 2020-01-26 17:38:02 2020-01-26 11:06:02   5451178   \n",
       "2550         湖北省长表示痛心内疚自责 2020-01-27 12:06:02 2020-01-26 23:06:01   5217833   \n",
       "2501             多所高校延期开学 2020-01-26 22:00:01 2020-01-26 10:02:02   4960564   \n",
       "2502                 明星捐款 2020-01-26 18:32:01 2020-01-26 10:28:02   4878384   \n",
       "2503                 武汉现状 2020-01-26 18:16:01 2020-01-26 11:34:02   4179531   \n",
       "2551       华南海鲜市场存在大量新冠病毒 2020-01-27 09:54:01 2020-01-26 21:50:01   3843257   \n",
       "2552    武汉确诊病例可能再增加约1000例 2020-01-27 10:22:01 2020-01-26 22:24:02   3711517   \n",
       "2553          9个月婴儿新型肺炎病例 2020-01-27 11:04:01 2020-01-26 23:20:02   3485076   \n",
       "2504  武汉病毒核酸日检测量预计可达2000份 2020-01-26 14:48:02 2020-01-26 09:58:01   2789472   \n",
       "2506            野生动物有多少病毒 2020-01-26 16:50:01 2020-01-26 11:02:02   2272712   \n",
       "2555     这19列车次车厢内有新型肺炎患者 2020-01-27 08:42:02 2020-01-26 19:16:02   2083072   \n",
       "3651               下一站是幸福 2020-02-18 15:30:01 2020-01-26 20:24:02   1964380   \n",
       "2556            快乐大本营取消播出 2020-01-27 09:32:01 2020-01-26 19:54:02   1864519   \n",
       "2507           北电中戏推迟艺考时间 2020-01-26 16:04:02 2020-01-26 11:08:01   1812106   \n",
       "2557        北京大中小学幼儿园延期开学 2020-01-27 05:08:01 2020-01-26 17:10:02   1788697   \n",
       "2558         万万没想到这个问题会成真 2020-01-27 09:44:01 2020-01-26 18:46:02   1758373   \n",
       "2508           上海出现首例死亡病例 2020-01-26 15:06:01 2020-01-26 08:32:01   1728282   \n",
       "2509       广东汕头禁止车辆船只人员进入 2020-01-26 15:50:01 2020-01-26 11:28:02   1670374   \n",
       "\n",
       "      alive_time start_mnth_day end_mnth_day   rank  \\\n",
       "2549   14.066389     2020-01-26   2020-01-27   NO.1   \n",
       "2499    8.433611     2020-01-26   2020-01-26   NO.2   \n",
       "2500    6.533333     2020-01-26   2020-01-26   NO.3   \n",
       "2550   13.000278     2020-01-26   2020-01-27   NO.4   \n",
       "2501   11.966389     2020-01-26   2020-01-26   NO.5   \n",
       "2502    8.066389     2020-01-26   2020-01-26   NO.6   \n",
       "2503    6.699722     2020-01-26   2020-01-26   NO.7   \n",
       "2551   12.066667     2020-01-26   2020-01-27   NO.8   \n",
       "2552   11.966389     2020-01-26   2020-01-27   NO.9   \n",
       "2553   11.733056     2020-01-26   2020-01-27  NO.10   \n",
       "2504    4.833611     2020-01-26   2020-01-26  NO.11   \n",
       "2506    5.799722     2020-01-26   2020-01-26  NO.12   \n",
       "2555   13.433333     2020-01-26   2020-01-27  NO.13   \n",
       "3651  547.099722     2020-01-26   2020-02-18  NO.14   \n",
       "2556   13.633056     2020-01-26   2020-01-27  NO.15   \n",
       "2507    4.933611     2020-01-26   2020-01-26  NO.16   \n",
       "2557   11.966389     2020-01-26   2020-01-27  NO.17   \n",
       "2558   14.966389     2020-01-26   2020-01-27  NO.18   \n",
       "2508    6.566667     2020-01-26   2020-01-26  NO.19   \n",
       "2509    4.366389     2020-01-26   2020-01-26  NO.20   \n",
       "\n",
       "                                     inside_text  \n",
       "2549           500万人离开武汉   Search count:11412070  \n",
       "2499      传染病学专家表示疫情已刻不容缓   Search count:6317411  \n",
       "2500        大年初一全国票房仅181万   Search count:5451178  \n",
       "2550         湖北省长表示痛心内疚自责   Search count:5217833  \n",
       "2501             多所高校延期开学   Search count:4960564  \n",
       "2502                 明星捐款   Search count:4878384  \n",
       "2503                 武汉现状   Search count:4179531  \n",
       "2551       华南海鲜市场存在大量新冠病毒   Search count:3843257  \n",
       "2552    武汉确诊病例可能再增加约1000例   Search count:3711517  \n",
       "2553          9个月婴儿新型肺炎病例   Search count:3485076  \n",
       "2504  武汉病毒核酸日检测量预计可达2000份   Search count:2789472  \n",
       "2506            野生动物有多少病毒   Search count:2272712  \n",
       "2555     这19列车次车厢内有新型肺炎患者   Search count:2083072  \n",
       "3651               下一站是幸福   Search count:1964380  \n",
       "2556            快乐大本营取消播出   Search count:1864519  \n",
       "2507           北电中戏推迟艺考时间   Search count:1812106  \n",
       "2557        北京大中小学幼儿园延期开学   Search count:1788697  \n",
       "2558         万万没想到这个问题会成真   Search count:1758373  \n",
       "2508           上海出现首例死亡病例   Search count:1728282  \n",
       "2509       广东汕头禁止车辆船只人员进入   Search count:1670374  "
      ]
     },
     "execution_count": 218,
     "metadata": {},
     "output_type": "execute_result"
    }
   ],
   "source": [
    "hottest_day = group_df[['start_mnth_day']].iloc[0].values[0]\n",
    "highest_day_df = result_df[result_df['start_mnth_day'] == hottest_day]\n",
    "highest_day_df = highest_day_df.sort_values(by=['count'], ascending=False)\n",
    "\n",
    "length = highest_day_df.count()[0]\n",
    "rank_list = [\"NO.\" + str(num) for num in [i for i in range(1, length+1)]]\n",
    "highest_day_df['rank'] = rank_list\n",
    "\n",
    "inside_text = []\n",
    "for i in range(len(rank_list)): \n",
    "    inside_text.append(\"{}   Search count:{}\".format(highest_day_df['content'].iloc[i], \n",
    "                                                     highest_day_df['count'].iloc[i]))\n",
    "    \n",
    "highest_day_df['inside_text'] = inside_text\n",
    "highest_day_df.to_csv(\"highest_day.csv\")\n",
    "highest_day_df.head(20)\n"
   ]
  },
  {
   "cell_type": "code",
   "execution_count": 222,
   "metadata": {},
   "outputs": [
    {
     "data": {
      "application/vnd.plotly.v1+json": {
       "config": {
        "plotlyServerURL": "https://plot.ly"
       },
       "data": [
        {
         "insidetextanchor": "middle",
         "marker": {
          "color": [
           "hsl(38, 100%, 30%)",
           "hsl(38, 100%, 33%)",
           "hsl(38, 100%, 36%)",
           "hsl(38, 100%, 39%)",
           "hsl(38, 100%, 42%)",
           "hsl(38, 100%, 45%)",
           "hsl(38, 100%, 48%)",
           "hsl(38, 100%, 51%)",
           "hsl(38, 100%, 54%)",
           "hsl(38, 100%, 57%)",
           "hsl(38, 100%, 60%)",
           "hsl(38, 100%, 63%)",
           "hsl(38, 100%, 66%)",
           "hsl(38, 100%, 69%)",
           "hsl(38, 100%, 72%)",
           "hsl(38, 100%, 75%)",
           "hsl(38, 100%, 78%)",
           "hsl(38, 100%, 81%)",
           "hsl(38, 100%, 84%)",
           "hsl(38, 100%, 87%)"
          ]
         },
         "orientation": "h",
         "text": [
          "广东汕头禁止车辆船只人员进入   Search count:1670374",
          "上海出现首例死亡病例   Search count:1728282",
          "万万没想到这个问题会成真   Search count:1758373",
          "北京大中小学幼儿园延期开学   Search count:1788697",
          "北电中戏推迟艺考时间   Search count:1812106",
          "快乐大本营取消播出   Search count:1864519",
          "下一站是幸福   Search count:1964380",
          "这19列车次车厢内有新型肺炎患者   Search count:2083072",
          "野生动物有多少病毒   Search count:2272712",
          "武汉病毒核酸日检测量预计可达2000份   Search count:2789472",
          "9个月婴儿新型肺炎病例   Search count:3485076",
          "武汉确诊病例可能再增加约1000例   Search count:3711517",
          "华南海鲜市场存在大量新冠病毒   Search count:3843257",
          "武汉现状   Search count:4179531",
          "明星捐款   Search count:4878384",
          "多所高校延期开学   Search count:4960564",
          "湖北省长表示痛心内疚自责   Search count:5217833",
          "大年初一全国票房仅181万   Search count:5451178",
          "传染病学专家表示疫情已刻不容缓   Search count:6317411",
          "500万人离开武汉   Search count:11412070"
         ],
         "textfont": {
          "color": "#262626",
          "family": "Arial",
          "size": 20
         },
         "textposition": "inside",
         "type": "bar",
         "x": [
          1670374,
          1728282,
          1758373,
          1788697,
          1812106,
          1864519,
          1964380,
          2083072,
          2272712,
          2789472,
          3485076,
          3711517,
          3843257,
          4179531,
          4878384,
          4960564,
          5217833,
          5451178,
          6317411,
          11412070
         ],
         "y": [
          "NO.20",
          "NO.19",
          "NO.18",
          "NO.17",
          "NO.16",
          "NO.15",
          "NO.14",
          "NO.13",
          "NO.12",
          "NO.11",
          "NO.10",
          "NO.9",
          "NO.8",
          "NO.7",
          "NO.6",
          "NO.5",
          "NO.4",
          "NO.3",
          "NO.2",
          "NO.1"
         ]
        }
       ],
       "layout": {
        "autosize": false,
        "font": {
         "color": "#262626",
         "family": "Arial",
         "size": 18
        },
        "height": 800,
        "plot_bgcolor": "#ffffff",
        "template": {
         "data": {
          "bar": [
           {
            "error_x": {
             "color": "#2a3f5f"
            },
            "error_y": {
             "color": "#2a3f5f"
            },
            "marker": {
             "line": {
              "color": "#E5ECF6",
              "width": 0.5
             }
            },
            "type": "bar"
           }
          ],
          "barpolar": [
           {
            "marker": {
             "line": {
              "color": "#E5ECF6",
              "width": 0.5
             }
            },
            "type": "barpolar"
           }
          ],
          "carpet": [
           {
            "aaxis": {
             "endlinecolor": "#2a3f5f",
             "gridcolor": "white",
             "linecolor": "white",
             "minorgridcolor": "white",
             "startlinecolor": "#2a3f5f"
            },
            "baxis": {
             "endlinecolor": "#2a3f5f",
             "gridcolor": "white",
             "linecolor": "white",
             "minorgridcolor": "white",
             "startlinecolor": "#2a3f5f"
            },
            "type": "carpet"
           }
          ],
          "choropleth": [
           {
            "colorbar": {
             "outlinewidth": 0,
             "ticks": ""
            },
            "type": "choropleth"
           }
          ],
          "contour": [
           {
            "colorbar": {
             "outlinewidth": 0,
             "ticks": ""
            },
            "colorscale": [
             [
              0,
              "#0d0887"
             ],
             [
              0.1111111111111111,
              "#46039f"
             ],
             [
              0.2222222222222222,
              "#7201a8"
             ],
             [
              0.3333333333333333,
              "#9c179e"
             ],
             [
              0.4444444444444444,
              "#bd3786"
             ],
             [
              0.5555555555555556,
              "#d8576b"
             ],
             [
              0.6666666666666666,
              "#ed7953"
             ],
             [
              0.7777777777777778,
              "#fb9f3a"
             ],
             [
              0.8888888888888888,
              "#fdca26"
             ],
             [
              1,
              "#f0f921"
             ]
            ],
            "type": "contour"
           }
          ],
          "contourcarpet": [
           {
            "colorbar": {
             "outlinewidth": 0,
             "ticks": ""
            },
            "type": "contourcarpet"
           }
          ],
          "heatmap": [
           {
            "colorbar": {
             "outlinewidth": 0,
             "ticks": ""
            },
            "colorscale": [
             [
              0,
              "#0d0887"
             ],
             [
              0.1111111111111111,
              "#46039f"
             ],
             [
              0.2222222222222222,
              "#7201a8"
             ],
             [
              0.3333333333333333,
              "#9c179e"
             ],
             [
              0.4444444444444444,
              "#bd3786"
             ],
             [
              0.5555555555555556,
              "#d8576b"
             ],
             [
              0.6666666666666666,
              "#ed7953"
             ],
             [
              0.7777777777777778,
              "#fb9f3a"
             ],
             [
              0.8888888888888888,
              "#fdca26"
             ],
             [
              1,
              "#f0f921"
             ]
            ],
            "type": "heatmap"
           }
          ],
          "heatmapgl": [
           {
            "colorbar": {
             "outlinewidth": 0,
             "ticks": ""
            },
            "colorscale": [
             [
              0,
              "#0d0887"
             ],
             [
              0.1111111111111111,
              "#46039f"
             ],
             [
              0.2222222222222222,
              "#7201a8"
             ],
             [
              0.3333333333333333,
              "#9c179e"
             ],
             [
              0.4444444444444444,
              "#bd3786"
             ],
             [
              0.5555555555555556,
              "#d8576b"
             ],
             [
              0.6666666666666666,
              "#ed7953"
             ],
             [
              0.7777777777777778,
              "#fb9f3a"
             ],
             [
              0.8888888888888888,
              "#fdca26"
             ],
             [
              1,
              "#f0f921"
             ]
            ],
            "type": "heatmapgl"
           }
          ],
          "histogram": [
           {
            "marker": {
             "colorbar": {
              "outlinewidth": 0,
              "ticks": ""
             }
            },
            "type": "histogram"
           }
          ],
          "histogram2d": [
           {
            "colorbar": {
             "outlinewidth": 0,
             "ticks": ""
            },
            "colorscale": [
             [
              0,
              "#0d0887"
             ],
             [
              0.1111111111111111,
              "#46039f"
             ],
             [
              0.2222222222222222,
              "#7201a8"
             ],
             [
              0.3333333333333333,
              "#9c179e"
             ],
             [
              0.4444444444444444,
              "#bd3786"
             ],
             [
              0.5555555555555556,
              "#d8576b"
             ],
             [
              0.6666666666666666,
              "#ed7953"
             ],
             [
              0.7777777777777778,
              "#fb9f3a"
             ],
             [
              0.8888888888888888,
              "#fdca26"
             ],
             [
              1,
              "#f0f921"
             ]
            ],
            "type": "histogram2d"
           }
          ],
          "histogram2dcontour": [
           {
            "colorbar": {
             "outlinewidth": 0,
             "ticks": ""
            },
            "colorscale": [
             [
              0,
              "#0d0887"
             ],
             [
              0.1111111111111111,
              "#46039f"
             ],
             [
              0.2222222222222222,
              "#7201a8"
             ],
             [
              0.3333333333333333,
              "#9c179e"
             ],
             [
              0.4444444444444444,
              "#bd3786"
             ],
             [
              0.5555555555555556,
              "#d8576b"
             ],
             [
              0.6666666666666666,
              "#ed7953"
             ],
             [
              0.7777777777777778,
              "#fb9f3a"
             ],
             [
              0.8888888888888888,
              "#fdca26"
             ],
             [
              1,
              "#f0f921"
             ]
            ],
            "type": "histogram2dcontour"
           }
          ],
          "mesh3d": [
           {
            "colorbar": {
             "outlinewidth": 0,
             "ticks": ""
            },
            "type": "mesh3d"
           }
          ],
          "parcoords": [
           {
            "line": {
             "colorbar": {
              "outlinewidth": 0,
              "ticks": ""
             }
            },
            "type": "parcoords"
           }
          ],
          "pie": [
           {
            "automargin": true,
            "type": "pie"
           }
          ],
          "scatter": [
           {
            "marker": {
             "colorbar": {
              "outlinewidth": 0,
              "ticks": ""
             }
            },
            "type": "scatter"
           }
          ],
          "scatter3d": [
           {
            "line": {
             "colorbar": {
              "outlinewidth": 0,
              "ticks": ""
             }
            },
            "marker": {
             "colorbar": {
              "outlinewidth": 0,
              "ticks": ""
             }
            },
            "type": "scatter3d"
           }
          ],
          "scattercarpet": [
           {
            "marker": {
             "colorbar": {
              "outlinewidth": 0,
              "ticks": ""
             }
            },
            "type": "scattercarpet"
           }
          ],
          "scattergeo": [
           {
            "marker": {
             "colorbar": {
              "outlinewidth": 0,
              "ticks": ""
             }
            },
            "type": "scattergeo"
           }
          ],
          "scattergl": [
           {
            "marker": {
             "colorbar": {
              "outlinewidth": 0,
              "ticks": ""
             }
            },
            "type": "scattergl"
           }
          ],
          "scattermapbox": [
           {
            "marker": {
             "colorbar": {
              "outlinewidth": 0,
              "ticks": ""
             }
            },
            "type": "scattermapbox"
           }
          ],
          "scatterpolar": [
           {
            "marker": {
             "colorbar": {
              "outlinewidth": 0,
              "ticks": ""
             }
            },
            "type": "scatterpolar"
           }
          ],
          "scatterpolargl": [
           {
            "marker": {
             "colorbar": {
              "outlinewidth": 0,
              "ticks": ""
             }
            },
            "type": "scatterpolargl"
           }
          ],
          "scatterternary": [
           {
            "marker": {
             "colorbar": {
              "outlinewidth": 0,
              "ticks": ""
             }
            },
            "type": "scatterternary"
           }
          ],
          "surface": [
           {
            "colorbar": {
             "outlinewidth": 0,
             "ticks": ""
            },
            "colorscale": [
             [
              0,
              "#0d0887"
             ],
             [
              0.1111111111111111,
              "#46039f"
             ],
             [
              0.2222222222222222,
              "#7201a8"
             ],
             [
              0.3333333333333333,
              "#9c179e"
             ],
             [
              0.4444444444444444,
              "#bd3786"
             ],
             [
              0.5555555555555556,
              "#d8576b"
             ],
             [
              0.6666666666666666,
              "#ed7953"
             ],
             [
              0.7777777777777778,
              "#fb9f3a"
             ],
             [
              0.8888888888888888,
              "#fdca26"
             ],
             [
              1,
              "#f0f921"
             ]
            ],
            "type": "surface"
           }
          ],
          "table": [
           {
            "cells": {
             "fill": {
              "color": "#EBF0F8"
             },
             "line": {
              "color": "white"
             }
            },
            "header": {
             "fill": {
              "color": "#C8D4E3"
             },
             "line": {
              "color": "white"
             }
            },
            "type": "table"
           }
          ]
         },
         "layout": {
          "annotationdefaults": {
           "arrowcolor": "#2a3f5f",
           "arrowhead": 0,
           "arrowwidth": 1
          },
          "coloraxis": {
           "colorbar": {
            "outlinewidth": 0,
            "ticks": ""
           }
          },
          "colorscale": {
           "diverging": [
            [
             0,
             "#8e0152"
            ],
            [
             0.1,
             "#c51b7d"
            ],
            [
             0.2,
             "#de77ae"
            ],
            [
             0.3,
             "#f1b6da"
            ],
            [
             0.4,
             "#fde0ef"
            ],
            [
             0.5,
             "#f7f7f7"
            ],
            [
             0.6,
             "#e6f5d0"
            ],
            [
             0.7,
             "#b8e186"
            ],
            [
             0.8,
             "#7fbc41"
            ],
            [
             0.9,
             "#4d9221"
            ],
            [
             1,
             "#276419"
            ]
           ],
           "sequential": [
            [
             0,
             "#0d0887"
            ],
            [
             0.1111111111111111,
             "#46039f"
            ],
            [
             0.2222222222222222,
             "#7201a8"
            ],
            [
             0.3333333333333333,
             "#9c179e"
            ],
            [
             0.4444444444444444,
             "#bd3786"
            ],
            [
             0.5555555555555556,
             "#d8576b"
            ],
            [
             0.6666666666666666,
             "#ed7953"
            ],
            [
             0.7777777777777778,
             "#fb9f3a"
            ],
            [
             0.8888888888888888,
             "#fdca26"
            ],
            [
             1,
             "#f0f921"
            ]
           ],
           "sequentialminus": [
            [
             0,
             "#0d0887"
            ],
            [
             0.1111111111111111,
             "#46039f"
            ],
            [
             0.2222222222222222,
             "#7201a8"
            ],
            [
             0.3333333333333333,
             "#9c179e"
            ],
            [
             0.4444444444444444,
             "#bd3786"
            ],
            [
             0.5555555555555556,
             "#d8576b"
            ],
            [
             0.6666666666666666,
             "#ed7953"
            ],
            [
             0.7777777777777778,
             "#fb9f3a"
            ],
            [
             0.8888888888888888,
             "#fdca26"
            ],
            [
             1,
             "#f0f921"
            ]
           ]
          },
          "colorway": [
           "#636efa",
           "#EF553B",
           "#00cc96",
           "#ab63fa",
           "#FFA15A",
           "#19d3f3",
           "#FF6692",
           "#B6E880",
           "#FF97FF",
           "#FECB52"
          ],
          "font": {
           "color": "#2a3f5f"
          },
          "geo": {
           "bgcolor": "white",
           "lakecolor": "white",
           "landcolor": "#E5ECF6",
           "showlakes": true,
           "showland": true,
           "subunitcolor": "white"
          },
          "hoverlabel": {
           "align": "left"
          },
          "hovermode": "closest",
          "mapbox": {
           "style": "light"
          },
          "paper_bgcolor": "white",
          "plot_bgcolor": "#E5ECF6",
          "polar": {
           "angularaxis": {
            "gridcolor": "white",
            "linecolor": "white",
            "ticks": ""
           },
           "bgcolor": "#E5ECF6",
           "radialaxis": {
            "gridcolor": "white",
            "linecolor": "white",
            "ticks": ""
           }
          },
          "scene": {
           "xaxis": {
            "backgroundcolor": "#E5ECF6",
            "gridcolor": "white",
            "gridwidth": 2,
            "linecolor": "white",
            "showbackground": true,
            "ticks": "",
            "zerolinecolor": "white"
           },
           "yaxis": {
            "backgroundcolor": "#E5ECF6",
            "gridcolor": "white",
            "gridwidth": 2,
            "linecolor": "white",
            "showbackground": true,
            "ticks": "",
            "zerolinecolor": "white"
           },
           "zaxis": {
            "backgroundcolor": "#E5ECF6",
            "gridcolor": "white",
            "gridwidth": 2,
            "linecolor": "white",
            "showbackground": true,
            "ticks": "",
            "zerolinecolor": "white"
           }
          },
          "shapedefaults": {
           "line": {
            "color": "#2a3f5f"
           }
          },
          "ternary": {
           "aaxis": {
            "gridcolor": "white",
            "linecolor": "white",
            "ticks": ""
           },
           "baxis": {
            "gridcolor": "white",
            "linecolor": "white",
            "ticks": ""
           },
           "bgcolor": "#E5ECF6",
           "caxis": {
            "gridcolor": "white",
            "linecolor": "white",
            "ticks": ""
           }
          },
          "title": {
           "x": 0.05
          },
          "xaxis": {
           "automargin": true,
           "gridcolor": "white",
           "linecolor": "white",
           "ticks": "",
           "title": {
            "standoff": 15
           },
           "zerolinecolor": "white",
           "zerolinewidth": 2
          },
          "yaxis": {
           "automargin": true,
           "gridcolor": "white",
           "linecolor": "white",
           "ticks": "",
           "title": {
            "standoff": 15
           },
           "zerolinecolor": "white",
           "zerolinewidth": 2
          }
         }
        },
        "title": {
         "text": "Top 20 Hot Topic on",
         "x": 0.5,
         "xanchor": "center",
         "y": 0.92,
         "yanchor": "top"
        },
        "width": 1300,
        "xaxis": {
         "showticklabels": false
        },
        "yaxis": {
         "tickfont": {
          "color": "#262626",
          "size": 18
         }
        }
       }
      },
      "text/html": [
       "<div>\n",
       "        \n",
       "        \n",
       "            <div id=\"0eb5a1f3-9693-434d-b061-2ade2b4b6f60\" class=\"plotly-graph-div\" style=\"height:800px; width:1300px;\"></div>\n",
       "            <script type=\"text/javascript\">\n",
       "                require([\"plotly\"], function(Plotly) {\n",
       "                    window.PLOTLYENV=window.PLOTLYENV || {};\n",
       "                    \n",
       "                if (document.getElementById(\"0eb5a1f3-9693-434d-b061-2ade2b4b6f60\")) {\n",
       "                    Plotly.newPlot(\n",
       "                        '0eb5a1f3-9693-434d-b061-2ade2b4b6f60',\n",
       "                        [{\"insidetextanchor\": \"middle\", \"marker\": {\"color\": [\"hsl(38, 100%, 30%)\", \"hsl(38, 100%, 33%)\", \"hsl(38, 100%, 36%)\", \"hsl(38, 100%, 39%)\", \"hsl(38, 100%, 42%)\", \"hsl(38, 100%, 45%)\", \"hsl(38, 100%, 48%)\", \"hsl(38, 100%, 51%)\", \"hsl(38, 100%, 54%)\", \"hsl(38, 100%, 57%)\", \"hsl(38, 100%, 60%)\", \"hsl(38, 100%, 63%)\", \"hsl(38, 100%, 66%)\", \"hsl(38, 100%, 69%)\", \"hsl(38, 100%, 72%)\", \"hsl(38, 100%, 75%)\", \"hsl(38, 100%, 78%)\", \"hsl(38, 100%, 81%)\", \"hsl(38, 100%, 84%)\", \"hsl(38, 100%, 87%)\"]}, \"orientation\": \"h\", \"text\": [\"\\u5e7f\\u4e1c\\u6c55\\u5934\\u7981\\u6b62\\u8f66\\u8f86\\u8239\\u53ea\\u4eba\\u5458\\u8fdb\\u5165   Search count:1670374\", \"\\u4e0a\\u6d77\\u51fa\\u73b0\\u9996\\u4f8b\\u6b7b\\u4ea1\\u75c5\\u4f8b   Search count:1728282\", \"\\u4e07\\u4e07\\u6ca1\\u60f3\\u5230\\u8fd9\\u4e2a\\u95ee\\u9898\\u4f1a\\u6210\\u771f   Search count:1758373\", \"\\u5317\\u4eac\\u5927\\u4e2d\\u5c0f\\u5b66\\u5e7c\\u513f\\u56ed\\u5ef6\\u671f\\u5f00\\u5b66   Search count:1788697\", \"\\u5317\\u7535\\u4e2d\\u620f\\u63a8\\u8fdf\\u827a\\u8003\\u65f6\\u95f4   Search count:1812106\", \"\\u5feb\\u4e50\\u5927\\u672c\\u8425\\u53d6\\u6d88\\u64ad\\u51fa   Search count:1864519\", \"\\u4e0b\\u4e00\\u7ad9\\u662f\\u5e78\\u798f   Search count:1964380\", \"\\u8fd919\\u5217\\u8f66\\u6b21\\u8f66\\u53a2\\u5185\\u6709\\u65b0\\u578b\\u80ba\\u708e\\u60a3\\u8005   Search count:2083072\", \"\\u91ce\\u751f\\u52a8\\u7269\\u6709\\u591a\\u5c11\\u75c5\\u6bd2   Search count:2272712\", \"\\u6b66\\u6c49\\u75c5\\u6bd2\\u6838\\u9178\\u65e5\\u68c0\\u6d4b\\u91cf\\u9884\\u8ba1\\u53ef\\u8fbe2000\\u4efd   Search count:2789472\", \"9\\u4e2a\\u6708\\u5a74\\u513f\\u65b0\\u578b\\u80ba\\u708e\\u75c5\\u4f8b   Search count:3485076\", \"\\u6b66\\u6c49\\u786e\\u8bca\\u75c5\\u4f8b\\u53ef\\u80fd\\u518d\\u589e\\u52a0\\u7ea61000\\u4f8b   Search count:3711517\", \"\\u534e\\u5357\\u6d77\\u9c9c\\u5e02\\u573a\\u5b58\\u5728\\u5927\\u91cf\\u65b0\\u51a0\\u75c5\\u6bd2   Search count:3843257\", \"\\u6b66\\u6c49\\u73b0\\u72b6   Search count:4179531\", \"\\u660e\\u661f\\u6350\\u6b3e   Search count:4878384\", \"\\u591a\\u6240\\u9ad8\\u6821\\u5ef6\\u671f\\u5f00\\u5b66   Search count:4960564\", \"\\u6e56\\u5317\\u7701\\u957f\\u8868\\u793a\\u75db\\u5fc3\\u5185\\u759a\\u81ea\\u8d23   Search count:5217833\", \"\\u5927\\u5e74\\u521d\\u4e00\\u5168\\u56fd\\u7968\\u623f\\u4ec5181\\u4e07   Search count:5451178\", \"\\u4f20\\u67d3\\u75c5\\u5b66\\u4e13\\u5bb6\\u8868\\u793a\\u75ab\\u60c5\\u5df2\\u523b\\u4e0d\\u5bb9\\u7f13   Search count:6317411\", \"500\\u4e07\\u4eba\\u79bb\\u5f00\\u6b66\\u6c49   Search count:11412070\"], \"textfont\": {\"color\": \"#262626\", \"family\": \"Arial\", \"size\": 20}, \"textposition\": \"inside\", \"type\": \"bar\", \"x\": [1670374, 1728282, 1758373, 1788697, 1812106, 1864519, 1964380, 2083072, 2272712, 2789472, 3485076, 3711517, 3843257, 4179531, 4878384, 4960564, 5217833, 5451178, 6317411, 11412070], \"y\": [\"NO.20\", \"NO.19\", \"NO.18\", \"NO.17\", \"NO.16\", \"NO.15\", \"NO.14\", \"NO.13\", \"NO.12\", \"NO.11\", \"NO.10\", \"NO.9\", \"NO.8\", \"NO.7\", \"NO.6\", \"NO.5\", \"NO.4\", \"NO.3\", \"NO.2\", \"NO.1\"]}],\n",
       "                        {\"autosize\": false, \"font\": {\"color\": \"#262626\", \"family\": \"Arial\", \"size\": 18}, \"height\": 800, \"plot_bgcolor\": \"#ffffff\", \"template\": {\"data\": {\"bar\": [{\"error_x\": {\"color\": \"#2a3f5f\"}, \"error_y\": {\"color\": \"#2a3f5f\"}, \"marker\": {\"line\": {\"color\": \"#E5ECF6\", \"width\": 0.5}}, \"type\": \"bar\"}], \"barpolar\": [{\"marker\": {\"line\": {\"color\": \"#E5ECF6\", \"width\": 0.5}}, \"type\": \"barpolar\"}], \"carpet\": [{\"aaxis\": {\"endlinecolor\": \"#2a3f5f\", \"gridcolor\": \"white\", \"linecolor\": \"white\", \"minorgridcolor\": \"white\", \"startlinecolor\": \"#2a3f5f\"}, \"baxis\": {\"endlinecolor\": \"#2a3f5f\", \"gridcolor\": \"white\", \"linecolor\": \"white\", \"minorgridcolor\": \"white\", \"startlinecolor\": \"#2a3f5f\"}, \"type\": \"carpet\"}], \"choropleth\": [{\"colorbar\": {\"outlinewidth\": 0, \"ticks\": \"\"}, \"type\": \"choropleth\"}], \"contour\": [{\"colorbar\": {\"outlinewidth\": 0, \"ticks\": \"\"}, \"colorscale\": [[0.0, \"#0d0887\"], [0.1111111111111111, \"#46039f\"], [0.2222222222222222, \"#7201a8\"], [0.3333333333333333, \"#9c179e\"], [0.4444444444444444, \"#bd3786\"], [0.5555555555555556, \"#d8576b\"], [0.6666666666666666, \"#ed7953\"], [0.7777777777777778, \"#fb9f3a\"], [0.8888888888888888, \"#fdca26\"], [1.0, \"#f0f921\"]], \"type\": \"contour\"}], \"contourcarpet\": [{\"colorbar\": {\"outlinewidth\": 0, \"ticks\": \"\"}, \"type\": \"contourcarpet\"}], \"heatmap\": [{\"colorbar\": {\"outlinewidth\": 0, \"ticks\": \"\"}, \"colorscale\": [[0.0, \"#0d0887\"], [0.1111111111111111, \"#46039f\"], [0.2222222222222222, \"#7201a8\"], [0.3333333333333333, \"#9c179e\"], [0.4444444444444444, \"#bd3786\"], [0.5555555555555556, \"#d8576b\"], [0.6666666666666666, \"#ed7953\"], [0.7777777777777778, \"#fb9f3a\"], [0.8888888888888888, \"#fdca26\"], [1.0, \"#f0f921\"]], \"type\": \"heatmap\"}], \"heatmapgl\": [{\"colorbar\": {\"outlinewidth\": 0, \"ticks\": \"\"}, \"colorscale\": [[0.0, \"#0d0887\"], [0.1111111111111111, \"#46039f\"], [0.2222222222222222, \"#7201a8\"], [0.3333333333333333, \"#9c179e\"], [0.4444444444444444, \"#bd3786\"], [0.5555555555555556, \"#d8576b\"], [0.6666666666666666, \"#ed7953\"], [0.7777777777777778, \"#fb9f3a\"], [0.8888888888888888, \"#fdca26\"], [1.0, \"#f0f921\"]], \"type\": \"heatmapgl\"}], \"histogram\": [{\"marker\": {\"colorbar\": {\"outlinewidth\": 0, \"ticks\": \"\"}}, \"type\": \"histogram\"}], \"histogram2d\": [{\"colorbar\": {\"outlinewidth\": 0, \"ticks\": \"\"}, \"colorscale\": [[0.0, \"#0d0887\"], [0.1111111111111111, \"#46039f\"], [0.2222222222222222, \"#7201a8\"], [0.3333333333333333, \"#9c179e\"], [0.4444444444444444, \"#bd3786\"], [0.5555555555555556, \"#d8576b\"], [0.6666666666666666, \"#ed7953\"], [0.7777777777777778, \"#fb9f3a\"], [0.8888888888888888, \"#fdca26\"], [1.0, \"#f0f921\"]], \"type\": \"histogram2d\"}], \"histogram2dcontour\": [{\"colorbar\": {\"outlinewidth\": 0, \"ticks\": \"\"}, \"colorscale\": [[0.0, \"#0d0887\"], [0.1111111111111111, \"#46039f\"], [0.2222222222222222, \"#7201a8\"], [0.3333333333333333, \"#9c179e\"], [0.4444444444444444, \"#bd3786\"], [0.5555555555555556, \"#d8576b\"], [0.6666666666666666, \"#ed7953\"], [0.7777777777777778, \"#fb9f3a\"], [0.8888888888888888, \"#fdca26\"], [1.0, \"#f0f921\"]], \"type\": \"histogram2dcontour\"}], \"mesh3d\": [{\"colorbar\": {\"outlinewidth\": 0, \"ticks\": \"\"}, \"type\": \"mesh3d\"}], \"parcoords\": [{\"line\": {\"colorbar\": {\"outlinewidth\": 0, \"ticks\": \"\"}}, \"type\": \"parcoords\"}], \"pie\": [{\"automargin\": true, \"type\": \"pie\"}], \"scatter\": [{\"marker\": {\"colorbar\": {\"outlinewidth\": 0, \"ticks\": \"\"}}, \"type\": \"scatter\"}], \"scatter3d\": [{\"line\": {\"colorbar\": {\"outlinewidth\": 0, \"ticks\": \"\"}}, \"marker\": {\"colorbar\": {\"outlinewidth\": 0, \"ticks\": \"\"}}, \"type\": \"scatter3d\"}], \"scattercarpet\": [{\"marker\": {\"colorbar\": {\"outlinewidth\": 0, \"ticks\": \"\"}}, \"type\": \"scattercarpet\"}], \"scattergeo\": [{\"marker\": {\"colorbar\": {\"outlinewidth\": 0, \"ticks\": \"\"}}, \"type\": \"scattergeo\"}], \"scattergl\": [{\"marker\": {\"colorbar\": {\"outlinewidth\": 0, \"ticks\": \"\"}}, \"type\": \"scattergl\"}], \"scattermapbox\": [{\"marker\": {\"colorbar\": {\"outlinewidth\": 0, \"ticks\": \"\"}}, \"type\": \"scattermapbox\"}], \"scatterpolar\": [{\"marker\": {\"colorbar\": {\"outlinewidth\": 0, \"ticks\": \"\"}}, \"type\": \"scatterpolar\"}], \"scatterpolargl\": [{\"marker\": {\"colorbar\": {\"outlinewidth\": 0, \"ticks\": \"\"}}, \"type\": \"scatterpolargl\"}], \"scatterternary\": [{\"marker\": {\"colorbar\": {\"outlinewidth\": 0, \"ticks\": \"\"}}, \"type\": \"scatterternary\"}], \"surface\": [{\"colorbar\": {\"outlinewidth\": 0, \"ticks\": \"\"}, \"colorscale\": [[0.0, \"#0d0887\"], [0.1111111111111111, \"#46039f\"], [0.2222222222222222, \"#7201a8\"], [0.3333333333333333, \"#9c179e\"], [0.4444444444444444, \"#bd3786\"], [0.5555555555555556, \"#d8576b\"], [0.6666666666666666, \"#ed7953\"], [0.7777777777777778, \"#fb9f3a\"], [0.8888888888888888, \"#fdca26\"], [1.0, \"#f0f921\"]], \"type\": \"surface\"}], \"table\": [{\"cells\": {\"fill\": {\"color\": \"#EBF0F8\"}, \"line\": {\"color\": \"white\"}}, \"header\": {\"fill\": {\"color\": \"#C8D4E3\"}, \"line\": {\"color\": \"white\"}}, \"type\": \"table\"}]}, \"layout\": {\"annotationdefaults\": {\"arrowcolor\": \"#2a3f5f\", \"arrowhead\": 0, \"arrowwidth\": 1}, \"coloraxis\": {\"colorbar\": {\"outlinewidth\": 0, \"ticks\": \"\"}}, \"colorscale\": {\"diverging\": [[0, \"#8e0152\"], [0.1, \"#c51b7d\"], [0.2, \"#de77ae\"], [0.3, \"#f1b6da\"], [0.4, \"#fde0ef\"], [0.5, \"#f7f7f7\"], [0.6, \"#e6f5d0\"], [0.7, \"#b8e186\"], [0.8, \"#7fbc41\"], [0.9, \"#4d9221\"], [1, \"#276419\"]], \"sequential\": [[0.0, \"#0d0887\"], [0.1111111111111111, \"#46039f\"], [0.2222222222222222, \"#7201a8\"], [0.3333333333333333, \"#9c179e\"], [0.4444444444444444, \"#bd3786\"], [0.5555555555555556, \"#d8576b\"], [0.6666666666666666, \"#ed7953\"], [0.7777777777777778, \"#fb9f3a\"], [0.8888888888888888, \"#fdca26\"], [1.0, \"#f0f921\"]], \"sequentialminus\": [[0.0, \"#0d0887\"], [0.1111111111111111, \"#46039f\"], [0.2222222222222222, \"#7201a8\"], [0.3333333333333333, \"#9c179e\"], [0.4444444444444444, \"#bd3786\"], [0.5555555555555556, \"#d8576b\"], [0.6666666666666666, \"#ed7953\"], [0.7777777777777778, \"#fb9f3a\"], [0.8888888888888888, \"#fdca26\"], [1.0, \"#f0f921\"]]}, \"colorway\": [\"#636efa\", \"#EF553B\", \"#00cc96\", \"#ab63fa\", \"#FFA15A\", \"#19d3f3\", \"#FF6692\", \"#B6E880\", \"#FF97FF\", \"#FECB52\"], \"font\": {\"color\": \"#2a3f5f\"}, \"geo\": {\"bgcolor\": \"white\", \"lakecolor\": \"white\", \"landcolor\": \"#E5ECF6\", \"showlakes\": true, \"showland\": true, \"subunitcolor\": \"white\"}, \"hoverlabel\": {\"align\": \"left\"}, \"hovermode\": \"closest\", \"mapbox\": {\"style\": \"light\"}, \"paper_bgcolor\": \"white\", \"plot_bgcolor\": \"#E5ECF6\", \"polar\": {\"angularaxis\": {\"gridcolor\": \"white\", \"linecolor\": \"white\", \"ticks\": \"\"}, \"bgcolor\": \"#E5ECF6\", \"radialaxis\": {\"gridcolor\": \"white\", \"linecolor\": \"white\", \"ticks\": \"\"}}, \"scene\": {\"xaxis\": {\"backgroundcolor\": \"#E5ECF6\", \"gridcolor\": \"white\", \"gridwidth\": 2, \"linecolor\": \"white\", \"showbackground\": true, \"ticks\": \"\", \"zerolinecolor\": \"white\"}, \"yaxis\": {\"backgroundcolor\": \"#E5ECF6\", \"gridcolor\": \"white\", \"gridwidth\": 2, \"linecolor\": \"white\", \"showbackground\": true, \"ticks\": \"\", \"zerolinecolor\": \"white\"}, \"zaxis\": {\"backgroundcolor\": \"#E5ECF6\", \"gridcolor\": \"white\", \"gridwidth\": 2, \"linecolor\": \"white\", \"showbackground\": true, \"ticks\": \"\", \"zerolinecolor\": \"white\"}}, \"shapedefaults\": {\"line\": {\"color\": \"#2a3f5f\"}}, \"ternary\": {\"aaxis\": {\"gridcolor\": \"white\", \"linecolor\": \"white\", \"ticks\": \"\"}, \"baxis\": {\"gridcolor\": \"white\", \"linecolor\": \"white\", \"ticks\": \"\"}, \"bgcolor\": \"#E5ECF6\", \"caxis\": {\"gridcolor\": \"white\", \"linecolor\": \"white\", \"ticks\": \"\"}}, \"title\": {\"x\": 0.05}, \"xaxis\": {\"automargin\": true, \"gridcolor\": \"white\", \"linecolor\": \"white\", \"ticks\": \"\", \"title\": {\"standoff\": 15}, \"zerolinecolor\": \"white\", \"zerolinewidth\": 2}, \"yaxis\": {\"automargin\": true, \"gridcolor\": \"white\", \"linecolor\": \"white\", \"ticks\": \"\", \"title\": {\"standoff\": 15}, \"zerolinecolor\": \"white\", \"zerolinewidth\": 2}}}, \"title\": {\"text\": \"Top 20 Hot Topic on\", \"x\": 0.5, \"xanchor\": \"center\", \"y\": 0.92, \"yanchor\": \"top\"}, \"width\": 1300, \"xaxis\": {\"showticklabels\": false}, \"yaxis\": {\"tickfont\": {\"color\": \"#262626\", \"size\": 18}}},\n",
       "                        {\"responsive\": true}\n",
       "                    ).then(function(){\n",
       "                            \n",
       "var gd = document.getElementById('0eb5a1f3-9693-434d-b061-2ade2b4b6f60');\n",
       "var x = new MutationObserver(function (mutations, observer) {{\n",
       "        var display = window.getComputedStyle(gd).display;\n",
       "        if (!display || display === 'none') {{\n",
       "            console.log([gd, 'removed!']);\n",
       "            Plotly.purge(gd);\n",
       "            observer.disconnect();\n",
       "        }}\n",
       "}});\n",
       "\n",
       "// Listen for the removal of the full notebook cells\n",
       "var notebookContainer = gd.closest('#notebook-container');\n",
       "if (notebookContainer) {{\n",
       "    x.observe(notebookContainer, {childList: true});\n",
       "}}\n",
       "\n",
       "// Listen for the clearing of the current output cell\n",
       "var outputEl = gd.closest('.output');\n",
       "if (outputEl) {{\n",
       "    x.observe(outputEl, {childList: true});\n",
       "}}\n",
       "\n",
       "                        })\n",
       "                };\n",
       "                });\n",
       "            </script>\n",
       "        </div>"
      ]
     },
     "metadata": {},
     "output_type": "display_data"
    }
   ],
   "source": [
    "pyplt = py.offline.plot\n",
    "\n",
    "highest_day_df = pd.read_csv(\"highest_day.csv\", sep=',')\n",
    "highest_day_df = highest_day_df.iloc[:20]\n",
    "\n",
    "x_count = highest_day_df['count'][::-1]\n",
    "inside_text = highest_day_df['inside_text'][::-1]\n",
    "rank = highest_day_df['rank'][::-1]\n",
    "    \n",
    "color_list =[]\n",
    "percent = 30\n",
    "for i in range(len(x_count)):\n",
    "    color_list.append('hsl(38, 100%, {}%)'.format(percent))\n",
    "    percent += 3\n",
    "\n",
    "data = [go.Bar(x = x_count, \n",
    "               y = rank,\n",
    "               orientation = 'h',\n",
    "               text = inside_text,\n",
    "               textposition='inside',\n",
    "               insidetextanchor='middle',\n",
    "               textfont={'family':'Arial', \n",
    "                         'size': 20,\n",
    "                         'color': '#262626'},\n",
    "               marker={ 'color':  color_list,},)]\n",
    "\n",
    "layout = go.Layout(title={'text': \"Top 20 Hot Topic on\",\n",
    "                          'y':0.92,'x':0.5,\n",
    "                          'xanchor': 'center',\n",
    "                          'yanchor': 'top',},\n",
    "                   font=dict(family=\"Arial\",\n",
    "                             size=18,\n",
    "                             color=\"#262626\"),\n",
    "                   plot_bgcolor = '#ffffff',\n",
    "                   autosize=False,width=1300,height=800,\n",
    "                   xaxis=dict(showticklabels=False),\n",
    "                   yaxis=dict(tickfont=dict(color='#262626',\n",
    "                                            size = 18,),),)\n",
    "\n",
    "figure = go.Figure(data = data, layout = layout)\n",
    "figure.show()"
   ]
  },
  {
   "cell_type": "markdown",
   "metadata": {},
   "source": [
    "Conclusion: In top 20 hot topics on that day, there are 18 records related to \"wuhan\" or \"coronavirus\"."
   ]
  },
  {
   "cell_type": "markdown",
   "metadata": {},
   "source": [
    "## High frequency words"
   ]
  },
  {
   "cell_type": "code",
   "execution_count": 286,
   "metadata": {},
   "outputs": [
    {
     "data": {
      "text/html": [
       "<div>\n",
       "<style scoped>\n",
       "    .dataframe tbody tr th:only-of-type {\n",
       "        vertical-align: middle;\n",
       "    }\n",
       "\n",
       "    .dataframe tbody tr th {\n",
       "        vertical-align: top;\n",
       "    }\n",
       "\n",
       "    .dataframe thead th {\n",
       "        text-align: right;\n",
       "    }\n",
       "</style>\n",
       "<table border=\"1\" class=\"dataframe\">\n",
       "  <thead>\n",
       "    <tr style=\"text-align: right;\">\n",
       "      <th></th>\n",
       "      <th>flatten_words</th>\n",
       "      <th>number</th>\n",
       "      <th>count</th>\n",
       "      <th>alive_time</th>\n",
       "    </tr>\n",
       "  </thead>\n",
       "  <tbody>\n",
       "    <tr>\n",
       "      <td>439</td>\n",
       "      <td>下雪</td>\n",
       "      <td>13</td>\n",
       "      <td>4840230</td>\n",
       "      <td>8722.667222</td>\n",
       "    </tr>\n",
       "    <tr>\n",
       "      <td>4971</td>\n",
       "      <td>武汉</td>\n",
       "      <td>251</td>\n",
       "      <td>253055420</td>\n",
       "      <td>5469.628333</td>\n",
       "    </tr>\n",
       "    <tr>\n",
       "      <td>4713</td>\n",
       "      <td>李佳琦</td>\n",
       "      <td>8</td>\n",
       "      <td>8096933</td>\n",
       "      <td>5138.566667</td>\n",
       "    </tr>\n",
       "    <tr>\n",
       "      <td>4976</td>\n",
       "      <td>武磊</td>\n",
       "      <td>3</td>\n",
       "      <td>2363462</td>\n",
       "      <td>4309.000000</td>\n",
       "    </tr>\n",
       "    <tr>\n",
       "      <td>5839</td>\n",
       "      <td>直播</td>\n",
       "      <td>30</td>\n",
       "      <td>20429343</td>\n",
       "      <td>3653.198889</td>\n",
       "    </tr>\n",
       "    <tr>\n",
       "      <td>7478</td>\n",
       "      <td>造型</td>\n",
       "      <td>14</td>\n",
       "      <td>9832063</td>\n",
       "      <td>3394.166111</td>\n",
       "    </tr>\n",
       "    <tr>\n",
       "      <td>2399</td>\n",
       "      <td>地震</td>\n",
       "      <td>23</td>\n",
       "      <td>9914062</td>\n",
       "      <td>3283.431667</td>\n",
       "    </tr>\n",
       "    <tr>\n",
       "      <td>3677</td>\n",
       "      <td>惊蛰</td>\n",
       "      <td>1</td>\n",
       "      <td>444127</td>\n",
       "      <td>3139.533056</td>\n",
       "    </tr>\n",
       "    <tr>\n",
       "      <td>6496</td>\n",
       "      <td>肺炎</td>\n",
       "      <td>334</td>\n",
       "      <td>333333816</td>\n",
       "      <td>3135.830000</td>\n",
       "    </tr>\n",
       "    <tr>\n",
       "      <td>3598</td>\n",
       "      <td>快乐</td>\n",
       "      <td>11</td>\n",
       "      <td>7744922</td>\n",
       "      <td>3116.532222</td>\n",
       "    </tr>\n",
       "    <tr>\n",
       "      <td>408</td>\n",
       "      <td>上海</td>\n",
       "      <td>34</td>\n",
       "      <td>25172931</td>\n",
       "      <td>3098.566667</td>\n",
       "    </tr>\n",
       "    <tr>\n",
       "      <td>2633</td>\n",
       "      <td>天天向上</td>\n",
       "      <td>4</td>\n",
       "      <td>4290926</td>\n",
       "      <td>3068.399722</td>\n",
       "    </tr>\n",
       "    <tr>\n",
       "      <td>2589</td>\n",
       "      <td>大本营</td>\n",
       "      <td>4</td>\n",
       "      <td>4451926</td>\n",
       "      <td>3063.299444</td>\n",
       "    </tr>\n",
       "    <tr>\n",
       "      <td>6922</td>\n",
       "      <td>詹姆斯</td>\n",
       "      <td>9</td>\n",
       "      <td>10692708</td>\n",
       "      <td>3015.833611</td>\n",
       "    </tr>\n",
       "    <tr>\n",
       "      <td>363</td>\n",
       "      <td>三双</td>\n",
       "      <td>1</td>\n",
       "      <td>250208</td>\n",
       "      <td>2904.166667</td>\n",
       "    </tr>\n",
       "    <tr>\n",
       "      <td>2397</td>\n",
       "      <td>地铁</td>\n",
       "      <td>9</td>\n",
       "      <td>5094635</td>\n",
       "      <td>2887.400000</td>\n",
       "    </tr>\n",
       "    <tr>\n",
       "      <td>6188</td>\n",
       "      <td>粉笔</td>\n",
       "      <td>1</td>\n",
       "      <td>1122536</td>\n",
       "      <td>2858.533611</td>\n",
       "    </tr>\n",
       "    <tr>\n",
       "      <td>4917</td>\n",
       "      <td>模考</td>\n",
       "      <td>1</td>\n",
       "      <td>1122536</td>\n",
       "      <td>2858.533611</td>\n",
       "    </tr>\n",
       "    <tr>\n",
       "      <td>1665</td>\n",
       "      <td>北京地铁</td>\n",
       "      <td>4</td>\n",
       "      <td>2361973</td>\n",
       "      <td>2728.266667</td>\n",
       "    </tr>\n",
       "  </tbody>\n",
       "</table>\n",
       "</div>"
      ],
      "text/plain": [
       "     flatten_words  number      count   alive_time\n",
       "439             下雪      13    4840230  8722.667222\n",
       "4971            武汉     251  253055420  5469.628333\n",
       "4713           李佳琦       8    8096933  5138.566667\n",
       "4976            武磊       3    2363462  4309.000000\n",
       "5839            直播      30   20429343  3653.198889\n",
       "7478            造型      14    9832063  3394.166111\n",
       "2399            地震      23    9914062  3283.431667\n",
       "3677            惊蛰       1     444127  3139.533056\n",
       "6496            肺炎     334  333333816  3135.830000\n",
       "3598            快乐      11    7744922  3116.532222\n",
       "408             上海      34   25172931  3098.566667\n",
       "2633          天天向上       4    4290926  3068.399722\n",
       "2589           大本营       4    4451926  3063.299444\n",
       "6922           詹姆斯       9   10692708  3015.833611\n",
       "363             三双       1     250208  2904.166667\n",
       "2397            地铁       9    5094635  2887.400000\n",
       "6188            粉笔       1    1122536  2858.533611\n",
       "4917            模考       1    1122536  2858.533611\n",
       "1665          北京地铁       4    2361973  2728.266667"
      ]
     },
     "execution_count": 286,
     "metadata": {},
     "output_type": "execute_result"
    }
   ],
   "source": [
    "import nltk\n",
    "import jieba\n",
    "from itertools import chain\n",
    "\n",
    "\n",
    "# remove space\n",
    "def remove_space(col):\n",
    "    for item in col:\n",
    "        if item == ' ':\n",
    "            col.remove(item)\n",
    "    return col\n",
    "        \n",
    "# remove some specific column with nan\n",
    "def delete_nan(df, col):\n",
    "    df.replace(to_replace=r'^\\s*$',value=np.nan,regex=True,inplace=True)\n",
    "    df = df.dropna(subset=[col])\n",
    "    return df\n",
    "   \n",
    "# remove Chinese stop words\n",
    "def delete_stopwords(df, col, filepath):\n",
    "    stop_words = [line.strip() for line in open(filepath).readlines()]\n",
    "    df = df[~df[col].isin(stop_words)]\n",
    "    return df\n",
    "\n",
    "# remove single words\n",
    "def delete_single_words(df, col):\n",
    "    df = df[df[col].str.len() > 1]\n",
    "    return df\n",
    "\n",
    "# remove numbers\n",
    "def delete_numbers(col):\n",
    "    for item in col:\n",
    "        if item.isdigit():\n",
    "            col.remove(item)\n",
    "    return col\n",
    "   \n",
    "# segment words\n",
    "words_df = result_df.copy()\n",
    "words_df['words'] = [list(jieba.cut(topic)) for topic in words_df['content'].values]\n",
    "words_df['words'] = words_df['words'].apply(lambda x: remove_space(x))\n",
    "words_df['words'] = words_df['words'].apply(lambda x: delete_numbers(x))\n",
    "\n",
    "flatten_df = pd.DataFrame({\n",
    "    'flatten_words' : list(chain.from_iterable(words_df['words'].tolist())), \n",
    "    'count' : words_df['count'].values.repeat(words_df['words'].str.len()),\n",
    "    'content' : words_df['content'].values.repeat(words_df['words'].str.len()),\n",
    "    'alive_time': words_df['alive_time'].values.repeat(words_df['words'].str.len())\n",
    "})\n",
    "\n",
    "flatten_df.insert(1, 'number', 1)\n",
    "flatten_df = delete_nan(flatten_df, 'flatten_words')\n",
    "flatten_df = flatten_df.apply(lambda x: remove_space(x))\n",
    "flatten_df = delete_stopwords(flatten_df, 'flatten_words', 'cn_stopwords.txt')\n",
    "flatten_df = delete_single_words(flatten_df, 'flatten_words')\n",
    "\n",
    "group_word_df = flatten_df.groupby('flatten_words',as_index=False).sum()\n",
    "\n",
    "order_count_df = group_word_df.sort_values(by=['count'], ascending=False)\n",
    "order_count_df = order_count_df.iloc[0:19]\n",
    "\n",
    "order_time_df = group_word_df.sort_values(by=['alive_time'], ascending=False)\n",
    "order_time_df = order_time_df.iloc[0:19]\n",
    "# order_number_df = group_word_df.sort_values(by=['number'], ascending=False)\n",
    "\n",
    "order_count_df.to_csv('words_frequency_count.csv')\n",
    "order_time_df.to_csv('words_frequency_alivetime.csv')\n",
    "# order_number_df.to_csv('words_frequency_number.csv')\n",
    "order_time_df"
   ]
  },
  {
   "cell_type": "code",
   "execution_count": 326,
   "metadata": {},
   "outputs": [
    {
     "data": {
      "application/vnd.plotly.v1+json": {
       "config": {
        "plotlyServerURL": "https://plot.ly"
       },
       "data": [
        {
         "labels": [
          "肺炎",
          "确诊",
          "武汉",
          "新型",
          "病例",
          "疫情",
          "新冠",
          "湖北",
          "口罩",
          "新增",
          "全国",
          "患者",
          "回应",
          "中国",
          "病毒",
          "冠状病毒",
          "感染",
          "累计",
          "隔离"
         ],
         "textinfo": "label+percent",
         "type": "pie",
         "values": [
          333333816,
          270412364,
          253055420,
          224669305,
          214351303,
          162203976,
          161492930,
          153489639,
          141345300,
          121223031,
          111804529,
          101194331,
          95681410,
          93182898,
          82489369,
          79250247,
          75834754,
          71364488,
          66995522
         ]
        }
       ],
       "layout": {
        "template": {
         "data": {
          "bar": [
           {
            "error_x": {
             "color": "#2a3f5f"
            },
            "error_y": {
             "color": "#2a3f5f"
            },
            "marker": {
             "line": {
              "color": "#E5ECF6",
              "width": 0.5
             }
            },
            "type": "bar"
           }
          ],
          "barpolar": [
           {
            "marker": {
             "line": {
              "color": "#E5ECF6",
              "width": 0.5
             }
            },
            "type": "barpolar"
           }
          ],
          "carpet": [
           {
            "aaxis": {
             "endlinecolor": "#2a3f5f",
             "gridcolor": "white",
             "linecolor": "white",
             "minorgridcolor": "white",
             "startlinecolor": "#2a3f5f"
            },
            "baxis": {
             "endlinecolor": "#2a3f5f",
             "gridcolor": "white",
             "linecolor": "white",
             "minorgridcolor": "white",
             "startlinecolor": "#2a3f5f"
            },
            "type": "carpet"
           }
          ],
          "choropleth": [
           {
            "colorbar": {
             "outlinewidth": 0,
             "ticks": ""
            },
            "type": "choropleth"
           }
          ],
          "contour": [
           {
            "colorbar": {
             "outlinewidth": 0,
             "ticks": ""
            },
            "colorscale": [
             [
              0,
              "#0d0887"
             ],
             [
              0.1111111111111111,
              "#46039f"
             ],
             [
              0.2222222222222222,
              "#7201a8"
             ],
             [
              0.3333333333333333,
              "#9c179e"
             ],
             [
              0.4444444444444444,
              "#bd3786"
             ],
             [
              0.5555555555555556,
              "#d8576b"
             ],
             [
              0.6666666666666666,
              "#ed7953"
             ],
             [
              0.7777777777777778,
              "#fb9f3a"
             ],
             [
              0.8888888888888888,
              "#fdca26"
             ],
             [
              1,
              "#f0f921"
             ]
            ],
            "type": "contour"
           }
          ],
          "contourcarpet": [
           {
            "colorbar": {
             "outlinewidth": 0,
             "ticks": ""
            },
            "type": "contourcarpet"
           }
          ],
          "heatmap": [
           {
            "colorbar": {
             "outlinewidth": 0,
             "ticks": ""
            },
            "colorscale": [
             [
              0,
              "#0d0887"
             ],
             [
              0.1111111111111111,
              "#46039f"
             ],
             [
              0.2222222222222222,
              "#7201a8"
             ],
             [
              0.3333333333333333,
              "#9c179e"
             ],
             [
              0.4444444444444444,
              "#bd3786"
             ],
             [
              0.5555555555555556,
              "#d8576b"
             ],
             [
              0.6666666666666666,
              "#ed7953"
             ],
             [
              0.7777777777777778,
              "#fb9f3a"
             ],
             [
              0.8888888888888888,
              "#fdca26"
             ],
             [
              1,
              "#f0f921"
             ]
            ],
            "type": "heatmap"
           }
          ],
          "heatmapgl": [
           {
            "colorbar": {
             "outlinewidth": 0,
             "ticks": ""
            },
            "colorscale": [
             [
              0,
              "#0d0887"
             ],
             [
              0.1111111111111111,
              "#46039f"
             ],
             [
              0.2222222222222222,
              "#7201a8"
             ],
             [
              0.3333333333333333,
              "#9c179e"
             ],
             [
              0.4444444444444444,
              "#bd3786"
             ],
             [
              0.5555555555555556,
              "#d8576b"
             ],
             [
              0.6666666666666666,
              "#ed7953"
             ],
             [
              0.7777777777777778,
              "#fb9f3a"
             ],
             [
              0.8888888888888888,
              "#fdca26"
             ],
             [
              1,
              "#f0f921"
             ]
            ],
            "type": "heatmapgl"
           }
          ],
          "histogram": [
           {
            "marker": {
             "colorbar": {
              "outlinewidth": 0,
              "ticks": ""
             }
            },
            "type": "histogram"
           }
          ],
          "histogram2d": [
           {
            "colorbar": {
             "outlinewidth": 0,
             "ticks": ""
            },
            "colorscale": [
             [
              0,
              "#0d0887"
             ],
             [
              0.1111111111111111,
              "#46039f"
             ],
             [
              0.2222222222222222,
              "#7201a8"
             ],
             [
              0.3333333333333333,
              "#9c179e"
             ],
             [
              0.4444444444444444,
              "#bd3786"
             ],
             [
              0.5555555555555556,
              "#d8576b"
             ],
             [
              0.6666666666666666,
              "#ed7953"
             ],
             [
              0.7777777777777778,
              "#fb9f3a"
             ],
             [
              0.8888888888888888,
              "#fdca26"
             ],
             [
              1,
              "#f0f921"
             ]
            ],
            "type": "histogram2d"
           }
          ],
          "histogram2dcontour": [
           {
            "colorbar": {
             "outlinewidth": 0,
             "ticks": ""
            },
            "colorscale": [
             [
              0,
              "#0d0887"
             ],
             [
              0.1111111111111111,
              "#46039f"
             ],
             [
              0.2222222222222222,
              "#7201a8"
             ],
             [
              0.3333333333333333,
              "#9c179e"
             ],
             [
              0.4444444444444444,
              "#bd3786"
             ],
             [
              0.5555555555555556,
              "#d8576b"
             ],
             [
              0.6666666666666666,
              "#ed7953"
             ],
             [
              0.7777777777777778,
              "#fb9f3a"
             ],
             [
              0.8888888888888888,
              "#fdca26"
             ],
             [
              1,
              "#f0f921"
             ]
            ],
            "type": "histogram2dcontour"
           }
          ],
          "mesh3d": [
           {
            "colorbar": {
             "outlinewidth": 0,
             "ticks": ""
            },
            "type": "mesh3d"
           }
          ],
          "parcoords": [
           {
            "line": {
             "colorbar": {
              "outlinewidth": 0,
              "ticks": ""
             }
            },
            "type": "parcoords"
           }
          ],
          "pie": [
           {
            "automargin": true,
            "type": "pie"
           }
          ],
          "scatter": [
           {
            "marker": {
             "colorbar": {
              "outlinewidth": 0,
              "ticks": ""
             }
            },
            "type": "scatter"
           }
          ],
          "scatter3d": [
           {
            "line": {
             "colorbar": {
              "outlinewidth": 0,
              "ticks": ""
             }
            },
            "marker": {
             "colorbar": {
              "outlinewidth": 0,
              "ticks": ""
             }
            },
            "type": "scatter3d"
           }
          ],
          "scattercarpet": [
           {
            "marker": {
             "colorbar": {
              "outlinewidth": 0,
              "ticks": ""
             }
            },
            "type": "scattercarpet"
           }
          ],
          "scattergeo": [
           {
            "marker": {
             "colorbar": {
              "outlinewidth": 0,
              "ticks": ""
             }
            },
            "type": "scattergeo"
           }
          ],
          "scattergl": [
           {
            "marker": {
             "colorbar": {
              "outlinewidth": 0,
              "ticks": ""
             }
            },
            "type": "scattergl"
           }
          ],
          "scattermapbox": [
           {
            "marker": {
             "colorbar": {
              "outlinewidth": 0,
              "ticks": ""
             }
            },
            "type": "scattermapbox"
           }
          ],
          "scatterpolar": [
           {
            "marker": {
             "colorbar": {
              "outlinewidth": 0,
              "ticks": ""
             }
            },
            "type": "scatterpolar"
           }
          ],
          "scatterpolargl": [
           {
            "marker": {
             "colorbar": {
              "outlinewidth": 0,
              "ticks": ""
             }
            },
            "type": "scatterpolargl"
           }
          ],
          "scatterternary": [
           {
            "marker": {
             "colorbar": {
              "outlinewidth": 0,
              "ticks": ""
             }
            },
            "type": "scatterternary"
           }
          ],
          "surface": [
           {
            "colorbar": {
             "outlinewidth": 0,
             "ticks": ""
            },
            "colorscale": [
             [
              0,
              "#0d0887"
             ],
             [
              0.1111111111111111,
              "#46039f"
             ],
             [
              0.2222222222222222,
              "#7201a8"
             ],
             [
              0.3333333333333333,
              "#9c179e"
             ],
             [
              0.4444444444444444,
              "#bd3786"
             ],
             [
              0.5555555555555556,
              "#d8576b"
             ],
             [
              0.6666666666666666,
              "#ed7953"
             ],
             [
              0.7777777777777778,
              "#fb9f3a"
             ],
             [
              0.8888888888888888,
              "#fdca26"
             ],
             [
              1,
              "#f0f921"
             ]
            ],
            "type": "surface"
           }
          ],
          "table": [
           {
            "cells": {
             "fill": {
              "color": "#EBF0F8"
             },
             "line": {
              "color": "white"
             }
            },
            "header": {
             "fill": {
              "color": "#C8D4E3"
             },
             "line": {
              "color": "white"
             }
            },
            "type": "table"
           }
          ]
         },
         "layout": {
          "annotationdefaults": {
           "arrowcolor": "#2a3f5f",
           "arrowhead": 0,
           "arrowwidth": 1
          },
          "coloraxis": {
           "colorbar": {
            "outlinewidth": 0,
            "ticks": ""
           }
          },
          "colorscale": {
           "diverging": [
            [
             0,
             "#8e0152"
            ],
            [
             0.1,
             "#c51b7d"
            ],
            [
             0.2,
             "#de77ae"
            ],
            [
             0.3,
             "#f1b6da"
            ],
            [
             0.4,
             "#fde0ef"
            ],
            [
             0.5,
             "#f7f7f7"
            ],
            [
             0.6,
             "#e6f5d0"
            ],
            [
             0.7,
             "#b8e186"
            ],
            [
             0.8,
             "#7fbc41"
            ],
            [
             0.9,
             "#4d9221"
            ],
            [
             1,
             "#276419"
            ]
           ],
           "sequential": [
            [
             0,
             "#0d0887"
            ],
            [
             0.1111111111111111,
             "#46039f"
            ],
            [
             0.2222222222222222,
             "#7201a8"
            ],
            [
             0.3333333333333333,
             "#9c179e"
            ],
            [
             0.4444444444444444,
             "#bd3786"
            ],
            [
             0.5555555555555556,
             "#d8576b"
            ],
            [
             0.6666666666666666,
             "#ed7953"
            ],
            [
             0.7777777777777778,
             "#fb9f3a"
            ],
            [
             0.8888888888888888,
             "#fdca26"
            ],
            [
             1,
             "#f0f921"
            ]
           ],
           "sequentialminus": [
            [
             0,
             "#0d0887"
            ],
            [
             0.1111111111111111,
             "#46039f"
            ],
            [
             0.2222222222222222,
             "#7201a8"
            ],
            [
             0.3333333333333333,
             "#9c179e"
            ],
            [
             0.4444444444444444,
             "#bd3786"
            ],
            [
             0.5555555555555556,
             "#d8576b"
            ],
            [
             0.6666666666666666,
             "#ed7953"
            ],
            [
             0.7777777777777778,
             "#fb9f3a"
            ],
            [
             0.8888888888888888,
             "#fdca26"
            ],
            [
             1,
             "#f0f921"
            ]
           ]
          },
          "colorway": [
           "#636efa",
           "#EF553B",
           "#00cc96",
           "#ab63fa",
           "#FFA15A",
           "#19d3f3",
           "#FF6692",
           "#B6E880",
           "#FF97FF",
           "#FECB52"
          ],
          "font": {
           "color": "#2a3f5f"
          },
          "geo": {
           "bgcolor": "white",
           "lakecolor": "white",
           "landcolor": "#E5ECF6",
           "showlakes": true,
           "showland": true,
           "subunitcolor": "white"
          },
          "hoverlabel": {
           "align": "left"
          },
          "hovermode": "closest",
          "mapbox": {
           "style": "light"
          },
          "paper_bgcolor": "white",
          "plot_bgcolor": "#E5ECF6",
          "polar": {
           "angularaxis": {
            "gridcolor": "white",
            "linecolor": "white",
            "ticks": ""
           },
           "bgcolor": "#E5ECF6",
           "radialaxis": {
            "gridcolor": "white",
            "linecolor": "white",
            "ticks": ""
           }
          },
          "scene": {
           "xaxis": {
            "backgroundcolor": "#E5ECF6",
            "gridcolor": "white",
            "gridwidth": 2,
            "linecolor": "white",
            "showbackground": true,
            "ticks": "",
            "zerolinecolor": "white"
           },
           "yaxis": {
            "backgroundcolor": "#E5ECF6",
            "gridcolor": "white",
            "gridwidth": 2,
            "linecolor": "white",
            "showbackground": true,
            "ticks": "",
            "zerolinecolor": "white"
           },
           "zaxis": {
            "backgroundcolor": "#E5ECF6",
            "gridcolor": "white",
            "gridwidth": 2,
            "linecolor": "white",
            "showbackground": true,
            "ticks": "",
            "zerolinecolor": "white"
           }
          },
          "shapedefaults": {
           "line": {
            "color": "#2a3f5f"
           }
          },
          "ternary": {
           "aaxis": {
            "gridcolor": "white",
            "linecolor": "white",
            "ticks": ""
           },
           "baxis": {
            "gridcolor": "white",
            "linecolor": "white",
            "ticks": ""
           },
           "bgcolor": "#E5ECF6",
           "caxis": {
            "gridcolor": "white",
            "linecolor": "white",
            "ticks": ""
           }
          },
          "title": {
           "x": 0.05
          },
          "xaxis": {
           "automargin": true,
           "gridcolor": "white",
           "linecolor": "white",
           "ticks": "",
           "title": {
            "standoff": 15
           },
           "zerolinecolor": "white",
           "zerolinewidth": 2
          },
          "yaxis": {
           "automargin": true,
           "gridcolor": "white",
           "linecolor": "white",
           "ticks": "",
           "title": {
            "standoff": 15
           },
           "zerolinecolor": "white",
           "zerolinewidth": 2
          }
         }
        },
        "title": {
         "text": "Top 20 Words by Total Visitors",
         "x": 0.5,
         "xanchor": "center",
         "y": 0.92,
         "yanchor": "top"
        }
       }
      },
      "text/html": [
       "<div>\n",
       "        \n",
       "        \n",
       "            <div id=\"c1100e8f-1fb8-4981-b4a8-5ca97967bdb9\" class=\"plotly-graph-div\" style=\"height:525px; width:100%;\"></div>\n",
       "            <script type=\"text/javascript\">\n",
       "                require([\"plotly\"], function(Plotly) {\n",
       "                    window.PLOTLYENV=window.PLOTLYENV || {};\n",
       "                    \n",
       "                if (document.getElementById(\"c1100e8f-1fb8-4981-b4a8-5ca97967bdb9\")) {\n",
       "                    Plotly.newPlot(\n",
       "                        'c1100e8f-1fb8-4981-b4a8-5ca97967bdb9',\n",
       "                        [{\"labels\": [\"\\u80ba\\u708e\", \"\\u786e\\u8bca\", \"\\u6b66\\u6c49\", \"\\u65b0\\u578b\", \"\\u75c5\\u4f8b\", \"\\u75ab\\u60c5\", \"\\u65b0\\u51a0\", \"\\u6e56\\u5317\", \"\\u53e3\\u7f69\", \"\\u65b0\\u589e\", \"\\u5168\\u56fd\", \"\\u60a3\\u8005\", \"\\u56de\\u5e94\", \"\\u4e2d\\u56fd\", \"\\u75c5\\u6bd2\", \"\\u51a0\\u72b6\\u75c5\\u6bd2\", \"\\u611f\\u67d3\", \"\\u7d2f\\u8ba1\", \"\\u9694\\u79bb\"], \"textinfo\": \"label+percent\", \"type\": \"pie\", \"values\": [333333816, 270412364, 253055420, 224669305, 214351303, 162203976, 161492930, 153489639, 141345300, 121223031, 111804529, 101194331, 95681410, 93182898, 82489369, 79250247, 75834754, 71364488, 66995522]}],\n",
       "                        {\"template\": {\"data\": {\"bar\": [{\"error_x\": {\"color\": \"#2a3f5f\"}, \"error_y\": {\"color\": \"#2a3f5f\"}, \"marker\": {\"line\": {\"color\": \"#E5ECF6\", \"width\": 0.5}}, \"type\": \"bar\"}], \"barpolar\": [{\"marker\": {\"line\": {\"color\": \"#E5ECF6\", \"width\": 0.5}}, \"type\": \"barpolar\"}], \"carpet\": [{\"aaxis\": {\"endlinecolor\": \"#2a3f5f\", \"gridcolor\": \"white\", \"linecolor\": \"white\", \"minorgridcolor\": \"white\", \"startlinecolor\": \"#2a3f5f\"}, \"baxis\": {\"endlinecolor\": \"#2a3f5f\", \"gridcolor\": \"white\", \"linecolor\": \"white\", \"minorgridcolor\": \"white\", \"startlinecolor\": \"#2a3f5f\"}, \"type\": \"carpet\"}], \"choropleth\": [{\"colorbar\": {\"outlinewidth\": 0, \"ticks\": \"\"}, \"type\": \"choropleth\"}], \"contour\": [{\"colorbar\": {\"outlinewidth\": 0, \"ticks\": \"\"}, \"colorscale\": [[0.0, \"#0d0887\"], [0.1111111111111111, \"#46039f\"], [0.2222222222222222, \"#7201a8\"], [0.3333333333333333, \"#9c179e\"], [0.4444444444444444, \"#bd3786\"], [0.5555555555555556, \"#d8576b\"], [0.6666666666666666, \"#ed7953\"], [0.7777777777777778, \"#fb9f3a\"], [0.8888888888888888, \"#fdca26\"], [1.0, \"#f0f921\"]], \"type\": \"contour\"}], \"contourcarpet\": [{\"colorbar\": {\"outlinewidth\": 0, \"ticks\": \"\"}, \"type\": \"contourcarpet\"}], \"heatmap\": [{\"colorbar\": {\"outlinewidth\": 0, \"ticks\": \"\"}, \"colorscale\": [[0.0, \"#0d0887\"], [0.1111111111111111, \"#46039f\"], [0.2222222222222222, \"#7201a8\"], [0.3333333333333333, \"#9c179e\"], [0.4444444444444444, \"#bd3786\"], [0.5555555555555556, \"#d8576b\"], [0.6666666666666666, \"#ed7953\"], [0.7777777777777778, \"#fb9f3a\"], [0.8888888888888888, \"#fdca26\"], [1.0, \"#f0f921\"]], \"type\": \"heatmap\"}], \"heatmapgl\": [{\"colorbar\": {\"outlinewidth\": 0, \"ticks\": \"\"}, \"colorscale\": [[0.0, \"#0d0887\"], [0.1111111111111111, \"#46039f\"], [0.2222222222222222, \"#7201a8\"], [0.3333333333333333, \"#9c179e\"], [0.4444444444444444, \"#bd3786\"], [0.5555555555555556, \"#d8576b\"], [0.6666666666666666, \"#ed7953\"], [0.7777777777777778, \"#fb9f3a\"], [0.8888888888888888, \"#fdca26\"], [1.0, \"#f0f921\"]], \"type\": \"heatmapgl\"}], \"histogram\": [{\"marker\": {\"colorbar\": {\"outlinewidth\": 0, \"ticks\": \"\"}}, \"type\": \"histogram\"}], \"histogram2d\": [{\"colorbar\": {\"outlinewidth\": 0, \"ticks\": \"\"}, \"colorscale\": [[0.0, \"#0d0887\"], [0.1111111111111111, \"#46039f\"], [0.2222222222222222, \"#7201a8\"], [0.3333333333333333, \"#9c179e\"], [0.4444444444444444, \"#bd3786\"], [0.5555555555555556, \"#d8576b\"], [0.6666666666666666, \"#ed7953\"], [0.7777777777777778, \"#fb9f3a\"], [0.8888888888888888, \"#fdca26\"], [1.0, \"#f0f921\"]], \"type\": \"histogram2d\"}], \"histogram2dcontour\": [{\"colorbar\": {\"outlinewidth\": 0, \"ticks\": \"\"}, \"colorscale\": [[0.0, \"#0d0887\"], [0.1111111111111111, \"#46039f\"], [0.2222222222222222, \"#7201a8\"], [0.3333333333333333, \"#9c179e\"], [0.4444444444444444, \"#bd3786\"], [0.5555555555555556, \"#d8576b\"], [0.6666666666666666, \"#ed7953\"], [0.7777777777777778, \"#fb9f3a\"], [0.8888888888888888, \"#fdca26\"], [1.0, \"#f0f921\"]], \"type\": \"histogram2dcontour\"}], \"mesh3d\": [{\"colorbar\": {\"outlinewidth\": 0, \"ticks\": \"\"}, \"type\": \"mesh3d\"}], \"parcoords\": [{\"line\": {\"colorbar\": {\"outlinewidth\": 0, \"ticks\": \"\"}}, \"type\": \"parcoords\"}], \"pie\": [{\"automargin\": true, \"type\": \"pie\"}], \"scatter\": [{\"marker\": {\"colorbar\": {\"outlinewidth\": 0, \"ticks\": \"\"}}, \"type\": \"scatter\"}], \"scatter3d\": [{\"line\": {\"colorbar\": {\"outlinewidth\": 0, \"ticks\": \"\"}}, \"marker\": {\"colorbar\": {\"outlinewidth\": 0, \"ticks\": \"\"}}, \"type\": \"scatter3d\"}], \"scattercarpet\": [{\"marker\": {\"colorbar\": {\"outlinewidth\": 0, \"ticks\": \"\"}}, \"type\": \"scattercarpet\"}], \"scattergeo\": [{\"marker\": {\"colorbar\": {\"outlinewidth\": 0, \"ticks\": \"\"}}, \"type\": \"scattergeo\"}], \"scattergl\": [{\"marker\": {\"colorbar\": {\"outlinewidth\": 0, \"ticks\": \"\"}}, \"type\": \"scattergl\"}], \"scattermapbox\": [{\"marker\": {\"colorbar\": {\"outlinewidth\": 0, \"ticks\": \"\"}}, \"type\": \"scattermapbox\"}], \"scatterpolar\": [{\"marker\": {\"colorbar\": {\"outlinewidth\": 0, \"ticks\": \"\"}}, \"type\": \"scatterpolar\"}], \"scatterpolargl\": [{\"marker\": {\"colorbar\": {\"outlinewidth\": 0, \"ticks\": \"\"}}, \"type\": \"scatterpolargl\"}], \"scatterternary\": [{\"marker\": {\"colorbar\": {\"outlinewidth\": 0, \"ticks\": \"\"}}, \"type\": \"scatterternary\"}], \"surface\": [{\"colorbar\": {\"outlinewidth\": 0, \"ticks\": \"\"}, \"colorscale\": [[0.0, \"#0d0887\"], [0.1111111111111111, \"#46039f\"], [0.2222222222222222, \"#7201a8\"], [0.3333333333333333, \"#9c179e\"], [0.4444444444444444, \"#bd3786\"], [0.5555555555555556, \"#d8576b\"], [0.6666666666666666, \"#ed7953\"], [0.7777777777777778, \"#fb9f3a\"], [0.8888888888888888, \"#fdca26\"], [1.0, \"#f0f921\"]], \"type\": \"surface\"}], \"table\": [{\"cells\": {\"fill\": {\"color\": \"#EBF0F8\"}, \"line\": {\"color\": \"white\"}}, \"header\": {\"fill\": {\"color\": \"#C8D4E3\"}, \"line\": {\"color\": \"white\"}}, \"type\": \"table\"}]}, \"layout\": {\"annotationdefaults\": {\"arrowcolor\": \"#2a3f5f\", \"arrowhead\": 0, \"arrowwidth\": 1}, \"coloraxis\": {\"colorbar\": {\"outlinewidth\": 0, \"ticks\": \"\"}}, \"colorscale\": {\"diverging\": [[0, \"#8e0152\"], [0.1, \"#c51b7d\"], [0.2, \"#de77ae\"], [0.3, \"#f1b6da\"], [0.4, \"#fde0ef\"], [0.5, \"#f7f7f7\"], [0.6, \"#e6f5d0\"], [0.7, \"#b8e186\"], [0.8, \"#7fbc41\"], [0.9, \"#4d9221\"], [1, \"#276419\"]], \"sequential\": [[0.0, \"#0d0887\"], [0.1111111111111111, \"#46039f\"], [0.2222222222222222, \"#7201a8\"], [0.3333333333333333, \"#9c179e\"], [0.4444444444444444, \"#bd3786\"], [0.5555555555555556, \"#d8576b\"], [0.6666666666666666, \"#ed7953\"], [0.7777777777777778, \"#fb9f3a\"], [0.8888888888888888, \"#fdca26\"], [1.0, \"#f0f921\"]], \"sequentialminus\": [[0.0, \"#0d0887\"], [0.1111111111111111, \"#46039f\"], [0.2222222222222222, \"#7201a8\"], [0.3333333333333333, \"#9c179e\"], [0.4444444444444444, \"#bd3786\"], [0.5555555555555556, \"#d8576b\"], [0.6666666666666666, \"#ed7953\"], [0.7777777777777778, \"#fb9f3a\"], [0.8888888888888888, \"#fdca26\"], [1.0, \"#f0f921\"]]}, \"colorway\": [\"#636efa\", \"#EF553B\", \"#00cc96\", \"#ab63fa\", \"#FFA15A\", \"#19d3f3\", \"#FF6692\", \"#B6E880\", \"#FF97FF\", \"#FECB52\"], \"font\": {\"color\": \"#2a3f5f\"}, \"geo\": {\"bgcolor\": \"white\", \"lakecolor\": \"white\", \"landcolor\": \"#E5ECF6\", \"showlakes\": true, \"showland\": true, \"subunitcolor\": \"white\"}, \"hoverlabel\": {\"align\": \"left\"}, \"hovermode\": \"closest\", \"mapbox\": {\"style\": \"light\"}, \"paper_bgcolor\": \"white\", \"plot_bgcolor\": \"#E5ECF6\", \"polar\": {\"angularaxis\": {\"gridcolor\": \"white\", \"linecolor\": \"white\", \"ticks\": \"\"}, \"bgcolor\": \"#E5ECF6\", \"radialaxis\": {\"gridcolor\": \"white\", \"linecolor\": \"white\", \"ticks\": \"\"}}, \"scene\": {\"xaxis\": {\"backgroundcolor\": \"#E5ECF6\", \"gridcolor\": \"white\", \"gridwidth\": 2, \"linecolor\": \"white\", \"showbackground\": true, \"ticks\": \"\", \"zerolinecolor\": \"white\"}, \"yaxis\": {\"backgroundcolor\": \"#E5ECF6\", \"gridcolor\": \"white\", \"gridwidth\": 2, \"linecolor\": \"white\", \"showbackground\": true, \"ticks\": \"\", \"zerolinecolor\": \"white\"}, \"zaxis\": {\"backgroundcolor\": \"#E5ECF6\", \"gridcolor\": \"white\", \"gridwidth\": 2, \"linecolor\": \"white\", \"showbackground\": true, \"ticks\": \"\", \"zerolinecolor\": \"white\"}}, \"shapedefaults\": {\"line\": {\"color\": \"#2a3f5f\"}}, \"ternary\": {\"aaxis\": {\"gridcolor\": \"white\", \"linecolor\": \"white\", \"ticks\": \"\"}, \"baxis\": {\"gridcolor\": \"white\", \"linecolor\": \"white\", \"ticks\": \"\"}, \"bgcolor\": \"#E5ECF6\", \"caxis\": {\"gridcolor\": \"white\", \"linecolor\": \"white\", \"ticks\": \"\"}}, \"title\": {\"x\": 0.05}, \"xaxis\": {\"automargin\": true, \"gridcolor\": \"white\", \"linecolor\": \"white\", \"ticks\": \"\", \"title\": {\"standoff\": 15}, \"zerolinecolor\": \"white\", \"zerolinewidth\": 2}, \"yaxis\": {\"automargin\": true, \"gridcolor\": \"white\", \"linecolor\": \"white\", \"ticks\": \"\", \"title\": {\"standoff\": 15}, \"zerolinecolor\": \"white\", \"zerolinewidth\": 2}}}, \"title\": {\"text\": \"Top 20 Words by Total Visitors\", \"x\": 0.5, \"xanchor\": \"center\", \"y\": 0.92, \"yanchor\": \"top\"}},\n",
       "                        {\"responsive\": true}\n",
       "                    ).then(function(){\n",
       "                            \n",
       "var gd = document.getElementById('c1100e8f-1fb8-4981-b4a8-5ca97967bdb9');\n",
       "var x = new MutationObserver(function (mutations, observer) {{\n",
       "        var display = window.getComputedStyle(gd).display;\n",
       "        if (!display || display === 'none') {{\n",
       "            console.log([gd, 'removed!']);\n",
       "            Plotly.purge(gd);\n",
       "            observer.disconnect();\n",
       "        }}\n",
       "}});\n",
       "\n",
       "// Listen for the removal of the full notebook cells\n",
       "var notebookContainer = gd.closest('#notebook-container');\n",
       "if (notebookContainer) {{\n",
       "    x.observe(notebookContainer, {childList: true});\n",
       "}}\n",
       "\n",
       "// Listen for the clearing of the current output cell\n",
       "var outputEl = gd.closest('.output');\n",
       "if (outputEl) {{\n",
       "    x.observe(outputEl, {childList: true});\n",
       "}}\n",
       "\n",
       "                        })\n",
       "                };\n",
       "                });\n",
       "            </script>\n",
       "        </div>"
      ]
     },
     "metadata": {},
     "output_type": "display_data"
    },
    {
     "data": {
      "application/vnd.plotly.v1+json": {
       "config": {
        "plotlyServerURL": "https://plot.ly"
       },
       "data": [
        {
         "labels": [
          "下雪",
          "武汉",
          "李佳琦",
          "武磊",
          "直播",
          "造型",
          "地震",
          "惊蛰",
          "肺炎",
          "快乐",
          "上海",
          "天天向上",
          "大本营",
          "詹姆斯",
          "三双",
          "地铁",
          "粉笔",
          "模考",
          "北京地铁"
         ],
         "textinfo": "label+percent",
         "type": "pie",
         "values": [
          8722.66722222222,
          5469.628333333333,
          5138.566666666667,
          4309,
          3653.19888888889,
          3394.166111111112,
          3283.4316666666664,
          3139.533055555556,
          3135.8299999999995,
          3116.532222222222,
          3098.5666666666675,
          3068.3997222222224,
          3063.2994444444444,
          3015.8336111111103,
          2904.166666666666,
          2887.4,
          2858.533611111111,
          2858.533611111111,
          2728.2666666666664
         ]
        }
       ],
       "layout": {
        "template": {
         "data": {
          "bar": [
           {
            "error_x": {
             "color": "#2a3f5f"
            },
            "error_y": {
             "color": "#2a3f5f"
            },
            "marker": {
             "line": {
              "color": "#E5ECF6",
              "width": 0.5
             }
            },
            "type": "bar"
           }
          ],
          "barpolar": [
           {
            "marker": {
             "line": {
              "color": "#E5ECF6",
              "width": 0.5
             }
            },
            "type": "barpolar"
           }
          ],
          "carpet": [
           {
            "aaxis": {
             "endlinecolor": "#2a3f5f",
             "gridcolor": "white",
             "linecolor": "white",
             "minorgridcolor": "white",
             "startlinecolor": "#2a3f5f"
            },
            "baxis": {
             "endlinecolor": "#2a3f5f",
             "gridcolor": "white",
             "linecolor": "white",
             "minorgridcolor": "white",
             "startlinecolor": "#2a3f5f"
            },
            "type": "carpet"
           }
          ],
          "choropleth": [
           {
            "colorbar": {
             "outlinewidth": 0,
             "ticks": ""
            },
            "type": "choropleth"
           }
          ],
          "contour": [
           {
            "colorbar": {
             "outlinewidth": 0,
             "ticks": ""
            },
            "colorscale": [
             [
              0,
              "#0d0887"
             ],
             [
              0.1111111111111111,
              "#46039f"
             ],
             [
              0.2222222222222222,
              "#7201a8"
             ],
             [
              0.3333333333333333,
              "#9c179e"
             ],
             [
              0.4444444444444444,
              "#bd3786"
             ],
             [
              0.5555555555555556,
              "#d8576b"
             ],
             [
              0.6666666666666666,
              "#ed7953"
             ],
             [
              0.7777777777777778,
              "#fb9f3a"
             ],
             [
              0.8888888888888888,
              "#fdca26"
             ],
             [
              1,
              "#f0f921"
             ]
            ],
            "type": "contour"
           }
          ],
          "contourcarpet": [
           {
            "colorbar": {
             "outlinewidth": 0,
             "ticks": ""
            },
            "type": "contourcarpet"
           }
          ],
          "heatmap": [
           {
            "colorbar": {
             "outlinewidth": 0,
             "ticks": ""
            },
            "colorscale": [
             [
              0,
              "#0d0887"
             ],
             [
              0.1111111111111111,
              "#46039f"
             ],
             [
              0.2222222222222222,
              "#7201a8"
             ],
             [
              0.3333333333333333,
              "#9c179e"
             ],
             [
              0.4444444444444444,
              "#bd3786"
             ],
             [
              0.5555555555555556,
              "#d8576b"
             ],
             [
              0.6666666666666666,
              "#ed7953"
             ],
             [
              0.7777777777777778,
              "#fb9f3a"
             ],
             [
              0.8888888888888888,
              "#fdca26"
             ],
             [
              1,
              "#f0f921"
             ]
            ],
            "type": "heatmap"
           }
          ],
          "heatmapgl": [
           {
            "colorbar": {
             "outlinewidth": 0,
             "ticks": ""
            },
            "colorscale": [
             [
              0,
              "#0d0887"
             ],
             [
              0.1111111111111111,
              "#46039f"
             ],
             [
              0.2222222222222222,
              "#7201a8"
             ],
             [
              0.3333333333333333,
              "#9c179e"
             ],
             [
              0.4444444444444444,
              "#bd3786"
             ],
             [
              0.5555555555555556,
              "#d8576b"
             ],
             [
              0.6666666666666666,
              "#ed7953"
             ],
             [
              0.7777777777777778,
              "#fb9f3a"
             ],
             [
              0.8888888888888888,
              "#fdca26"
             ],
             [
              1,
              "#f0f921"
             ]
            ],
            "type": "heatmapgl"
           }
          ],
          "histogram": [
           {
            "marker": {
             "colorbar": {
              "outlinewidth": 0,
              "ticks": ""
             }
            },
            "type": "histogram"
           }
          ],
          "histogram2d": [
           {
            "colorbar": {
             "outlinewidth": 0,
             "ticks": ""
            },
            "colorscale": [
             [
              0,
              "#0d0887"
             ],
             [
              0.1111111111111111,
              "#46039f"
             ],
             [
              0.2222222222222222,
              "#7201a8"
             ],
             [
              0.3333333333333333,
              "#9c179e"
             ],
             [
              0.4444444444444444,
              "#bd3786"
             ],
             [
              0.5555555555555556,
              "#d8576b"
             ],
             [
              0.6666666666666666,
              "#ed7953"
             ],
             [
              0.7777777777777778,
              "#fb9f3a"
             ],
             [
              0.8888888888888888,
              "#fdca26"
             ],
             [
              1,
              "#f0f921"
             ]
            ],
            "type": "histogram2d"
           }
          ],
          "histogram2dcontour": [
           {
            "colorbar": {
             "outlinewidth": 0,
             "ticks": ""
            },
            "colorscale": [
             [
              0,
              "#0d0887"
             ],
             [
              0.1111111111111111,
              "#46039f"
             ],
             [
              0.2222222222222222,
              "#7201a8"
             ],
             [
              0.3333333333333333,
              "#9c179e"
             ],
             [
              0.4444444444444444,
              "#bd3786"
             ],
             [
              0.5555555555555556,
              "#d8576b"
             ],
             [
              0.6666666666666666,
              "#ed7953"
             ],
             [
              0.7777777777777778,
              "#fb9f3a"
             ],
             [
              0.8888888888888888,
              "#fdca26"
             ],
             [
              1,
              "#f0f921"
             ]
            ],
            "type": "histogram2dcontour"
           }
          ],
          "mesh3d": [
           {
            "colorbar": {
             "outlinewidth": 0,
             "ticks": ""
            },
            "type": "mesh3d"
           }
          ],
          "parcoords": [
           {
            "line": {
             "colorbar": {
              "outlinewidth": 0,
              "ticks": ""
             }
            },
            "type": "parcoords"
           }
          ],
          "pie": [
           {
            "automargin": true,
            "type": "pie"
           }
          ],
          "scatter": [
           {
            "marker": {
             "colorbar": {
              "outlinewidth": 0,
              "ticks": ""
             }
            },
            "type": "scatter"
           }
          ],
          "scatter3d": [
           {
            "line": {
             "colorbar": {
              "outlinewidth": 0,
              "ticks": ""
             }
            },
            "marker": {
             "colorbar": {
              "outlinewidth": 0,
              "ticks": ""
             }
            },
            "type": "scatter3d"
           }
          ],
          "scattercarpet": [
           {
            "marker": {
             "colorbar": {
              "outlinewidth": 0,
              "ticks": ""
             }
            },
            "type": "scattercarpet"
           }
          ],
          "scattergeo": [
           {
            "marker": {
             "colorbar": {
              "outlinewidth": 0,
              "ticks": ""
             }
            },
            "type": "scattergeo"
           }
          ],
          "scattergl": [
           {
            "marker": {
             "colorbar": {
              "outlinewidth": 0,
              "ticks": ""
             }
            },
            "type": "scattergl"
           }
          ],
          "scattermapbox": [
           {
            "marker": {
             "colorbar": {
              "outlinewidth": 0,
              "ticks": ""
             }
            },
            "type": "scattermapbox"
           }
          ],
          "scatterpolar": [
           {
            "marker": {
             "colorbar": {
              "outlinewidth": 0,
              "ticks": ""
             }
            },
            "type": "scatterpolar"
           }
          ],
          "scatterpolargl": [
           {
            "marker": {
             "colorbar": {
              "outlinewidth": 0,
              "ticks": ""
             }
            },
            "type": "scatterpolargl"
           }
          ],
          "scatterternary": [
           {
            "marker": {
             "colorbar": {
              "outlinewidth": 0,
              "ticks": ""
             }
            },
            "type": "scatterternary"
           }
          ],
          "surface": [
           {
            "colorbar": {
             "outlinewidth": 0,
             "ticks": ""
            },
            "colorscale": [
             [
              0,
              "#0d0887"
             ],
             [
              0.1111111111111111,
              "#46039f"
             ],
             [
              0.2222222222222222,
              "#7201a8"
             ],
             [
              0.3333333333333333,
              "#9c179e"
             ],
             [
              0.4444444444444444,
              "#bd3786"
             ],
             [
              0.5555555555555556,
              "#d8576b"
             ],
             [
              0.6666666666666666,
              "#ed7953"
             ],
             [
              0.7777777777777778,
              "#fb9f3a"
             ],
             [
              0.8888888888888888,
              "#fdca26"
             ],
             [
              1,
              "#f0f921"
             ]
            ],
            "type": "surface"
           }
          ],
          "table": [
           {
            "cells": {
             "fill": {
              "color": "#EBF0F8"
             },
             "line": {
              "color": "white"
             }
            },
            "header": {
             "fill": {
              "color": "#C8D4E3"
             },
             "line": {
              "color": "white"
             }
            },
            "type": "table"
           }
          ]
         },
         "layout": {
          "annotationdefaults": {
           "arrowcolor": "#2a3f5f",
           "arrowhead": 0,
           "arrowwidth": 1
          },
          "coloraxis": {
           "colorbar": {
            "outlinewidth": 0,
            "ticks": ""
           }
          },
          "colorscale": {
           "diverging": [
            [
             0,
             "#8e0152"
            ],
            [
             0.1,
             "#c51b7d"
            ],
            [
             0.2,
             "#de77ae"
            ],
            [
             0.3,
             "#f1b6da"
            ],
            [
             0.4,
             "#fde0ef"
            ],
            [
             0.5,
             "#f7f7f7"
            ],
            [
             0.6,
             "#e6f5d0"
            ],
            [
             0.7,
             "#b8e186"
            ],
            [
             0.8,
             "#7fbc41"
            ],
            [
             0.9,
             "#4d9221"
            ],
            [
             1,
             "#276419"
            ]
           ],
           "sequential": [
            [
             0,
             "#0d0887"
            ],
            [
             0.1111111111111111,
             "#46039f"
            ],
            [
             0.2222222222222222,
             "#7201a8"
            ],
            [
             0.3333333333333333,
             "#9c179e"
            ],
            [
             0.4444444444444444,
             "#bd3786"
            ],
            [
             0.5555555555555556,
             "#d8576b"
            ],
            [
             0.6666666666666666,
             "#ed7953"
            ],
            [
             0.7777777777777778,
             "#fb9f3a"
            ],
            [
             0.8888888888888888,
             "#fdca26"
            ],
            [
             1,
             "#f0f921"
            ]
           ],
           "sequentialminus": [
            [
             0,
             "#0d0887"
            ],
            [
             0.1111111111111111,
             "#46039f"
            ],
            [
             0.2222222222222222,
             "#7201a8"
            ],
            [
             0.3333333333333333,
             "#9c179e"
            ],
            [
             0.4444444444444444,
             "#bd3786"
            ],
            [
             0.5555555555555556,
             "#d8576b"
            ],
            [
             0.6666666666666666,
             "#ed7953"
            ],
            [
             0.7777777777777778,
             "#fb9f3a"
            ],
            [
             0.8888888888888888,
             "#fdca26"
            ],
            [
             1,
             "#f0f921"
            ]
           ]
          },
          "colorway": [
           "#636efa",
           "#EF553B",
           "#00cc96",
           "#ab63fa",
           "#FFA15A",
           "#19d3f3",
           "#FF6692",
           "#B6E880",
           "#FF97FF",
           "#FECB52"
          ],
          "font": {
           "color": "#2a3f5f"
          },
          "geo": {
           "bgcolor": "white",
           "lakecolor": "white",
           "landcolor": "#E5ECF6",
           "showlakes": true,
           "showland": true,
           "subunitcolor": "white"
          },
          "hoverlabel": {
           "align": "left"
          },
          "hovermode": "closest",
          "mapbox": {
           "style": "light"
          },
          "paper_bgcolor": "white",
          "plot_bgcolor": "#E5ECF6",
          "polar": {
           "angularaxis": {
            "gridcolor": "white",
            "linecolor": "white",
            "ticks": ""
           },
           "bgcolor": "#E5ECF6",
           "radialaxis": {
            "gridcolor": "white",
            "linecolor": "white",
            "ticks": ""
           }
          },
          "scene": {
           "xaxis": {
            "backgroundcolor": "#E5ECF6",
            "gridcolor": "white",
            "gridwidth": 2,
            "linecolor": "white",
            "showbackground": true,
            "ticks": "",
            "zerolinecolor": "white"
           },
           "yaxis": {
            "backgroundcolor": "#E5ECF6",
            "gridcolor": "white",
            "gridwidth": 2,
            "linecolor": "white",
            "showbackground": true,
            "ticks": "",
            "zerolinecolor": "white"
           },
           "zaxis": {
            "backgroundcolor": "#E5ECF6",
            "gridcolor": "white",
            "gridwidth": 2,
            "linecolor": "white",
            "showbackground": true,
            "ticks": "",
            "zerolinecolor": "white"
           }
          },
          "shapedefaults": {
           "line": {
            "color": "#2a3f5f"
           }
          },
          "ternary": {
           "aaxis": {
            "gridcolor": "white",
            "linecolor": "white",
            "ticks": ""
           },
           "baxis": {
            "gridcolor": "white",
            "linecolor": "white",
            "ticks": ""
           },
           "bgcolor": "#E5ECF6",
           "caxis": {
            "gridcolor": "white",
            "linecolor": "white",
            "ticks": ""
           }
          },
          "title": {
           "x": 0.05
          },
          "xaxis": {
           "automargin": true,
           "gridcolor": "white",
           "linecolor": "white",
           "ticks": "",
           "title": {
            "standoff": 15
           },
           "zerolinecolor": "white",
           "zerolinewidth": 2
          },
          "yaxis": {
           "automargin": true,
           "gridcolor": "white",
           "linecolor": "white",
           "ticks": "",
           "title": {
            "standoff": 15
           },
           "zerolinecolor": "white",
           "zerolinewidth": 2
          }
         }
        },
        "title": {
         "text": "Top 20 Words by Total Alive Time",
         "x": 0.5,
         "xanchor": "center",
         "y": 0.92,
         "yanchor": "top"
        }
       }
      },
      "text/html": [
       "<div>\n",
       "        \n",
       "        \n",
       "            <div id=\"6004be07-abbd-4838-906c-34afaff78239\" class=\"plotly-graph-div\" style=\"height:525px; width:100%;\"></div>\n",
       "            <script type=\"text/javascript\">\n",
       "                require([\"plotly\"], function(Plotly) {\n",
       "                    window.PLOTLYENV=window.PLOTLYENV || {};\n",
       "                    \n",
       "                if (document.getElementById(\"6004be07-abbd-4838-906c-34afaff78239\")) {\n",
       "                    Plotly.newPlot(\n",
       "                        '6004be07-abbd-4838-906c-34afaff78239',\n",
       "                        [{\"labels\": [\"\\u4e0b\\u96ea\", \"\\u6b66\\u6c49\", \"\\u674e\\u4f73\\u7426\", \"\\u6b66\\u78ca\", \"\\u76f4\\u64ad\", \"\\u9020\\u578b\", \"\\u5730\\u9707\", \"\\u60ca\\u86f0\", \"\\u80ba\\u708e\", \"\\u5feb\\u4e50\", \"\\u4e0a\\u6d77\", \"\\u5929\\u5929\\u5411\\u4e0a\", \"\\u5927\\u672c\\u8425\", \"\\u8a79\\u59c6\\u65af\", \"\\u4e09\\u53cc\", \"\\u5730\\u94c1\", \"\\u7c89\\u7b14\", \"\\u6a21\\u8003\", \"\\u5317\\u4eac\\u5730\\u94c1\"], \"textinfo\": \"label+percent\", \"type\": \"pie\", \"values\": [8722.66722222222, 5469.628333333333, 5138.566666666667, 4309.0, 3653.19888888889, 3394.166111111112, 3283.4316666666664, 3139.533055555556, 3135.8299999999995, 3116.532222222222, 3098.5666666666675, 3068.3997222222224, 3063.2994444444444, 3015.8336111111103, 2904.166666666666, 2887.4, 2858.533611111111, 2858.533611111111, 2728.2666666666664]}],\n",
       "                        {\"template\": {\"data\": {\"bar\": [{\"error_x\": {\"color\": \"#2a3f5f\"}, \"error_y\": {\"color\": \"#2a3f5f\"}, \"marker\": {\"line\": {\"color\": \"#E5ECF6\", \"width\": 0.5}}, \"type\": \"bar\"}], \"barpolar\": [{\"marker\": {\"line\": {\"color\": \"#E5ECF6\", \"width\": 0.5}}, \"type\": \"barpolar\"}], \"carpet\": [{\"aaxis\": {\"endlinecolor\": \"#2a3f5f\", \"gridcolor\": \"white\", \"linecolor\": \"white\", \"minorgridcolor\": \"white\", \"startlinecolor\": \"#2a3f5f\"}, \"baxis\": {\"endlinecolor\": \"#2a3f5f\", \"gridcolor\": \"white\", \"linecolor\": \"white\", \"minorgridcolor\": \"white\", \"startlinecolor\": \"#2a3f5f\"}, \"type\": \"carpet\"}], \"choropleth\": [{\"colorbar\": {\"outlinewidth\": 0, \"ticks\": \"\"}, \"type\": \"choropleth\"}], \"contour\": [{\"colorbar\": {\"outlinewidth\": 0, \"ticks\": \"\"}, \"colorscale\": [[0.0, \"#0d0887\"], [0.1111111111111111, \"#46039f\"], [0.2222222222222222, \"#7201a8\"], [0.3333333333333333, \"#9c179e\"], [0.4444444444444444, \"#bd3786\"], [0.5555555555555556, \"#d8576b\"], [0.6666666666666666, \"#ed7953\"], [0.7777777777777778, \"#fb9f3a\"], [0.8888888888888888, \"#fdca26\"], [1.0, \"#f0f921\"]], \"type\": \"contour\"}], \"contourcarpet\": [{\"colorbar\": {\"outlinewidth\": 0, \"ticks\": \"\"}, \"type\": \"contourcarpet\"}], \"heatmap\": [{\"colorbar\": {\"outlinewidth\": 0, \"ticks\": \"\"}, \"colorscale\": [[0.0, \"#0d0887\"], [0.1111111111111111, \"#46039f\"], [0.2222222222222222, \"#7201a8\"], [0.3333333333333333, \"#9c179e\"], [0.4444444444444444, \"#bd3786\"], [0.5555555555555556, \"#d8576b\"], [0.6666666666666666, \"#ed7953\"], [0.7777777777777778, \"#fb9f3a\"], [0.8888888888888888, \"#fdca26\"], [1.0, \"#f0f921\"]], \"type\": \"heatmap\"}], \"heatmapgl\": [{\"colorbar\": {\"outlinewidth\": 0, \"ticks\": \"\"}, \"colorscale\": [[0.0, \"#0d0887\"], [0.1111111111111111, \"#46039f\"], [0.2222222222222222, \"#7201a8\"], [0.3333333333333333, \"#9c179e\"], [0.4444444444444444, \"#bd3786\"], [0.5555555555555556, \"#d8576b\"], [0.6666666666666666, \"#ed7953\"], [0.7777777777777778, \"#fb9f3a\"], [0.8888888888888888, \"#fdca26\"], [1.0, \"#f0f921\"]], \"type\": \"heatmapgl\"}], \"histogram\": [{\"marker\": {\"colorbar\": {\"outlinewidth\": 0, \"ticks\": \"\"}}, \"type\": \"histogram\"}], \"histogram2d\": [{\"colorbar\": {\"outlinewidth\": 0, \"ticks\": \"\"}, \"colorscale\": [[0.0, \"#0d0887\"], [0.1111111111111111, \"#46039f\"], [0.2222222222222222, \"#7201a8\"], [0.3333333333333333, \"#9c179e\"], [0.4444444444444444, \"#bd3786\"], [0.5555555555555556, \"#d8576b\"], [0.6666666666666666, \"#ed7953\"], [0.7777777777777778, \"#fb9f3a\"], [0.8888888888888888, \"#fdca26\"], [1.0, \"#f0f921\"]], \"type\": \"histogram2d\"}], \"histogram2dcontour\": [{\"colorbar\": {\"outlinewidth\": 0, \"ticks\": \"\"}, \"colorscale\": [[0.0, \"#0d0887\"], [0.1111111111111111, \"#46039f\"], [0.2222222222222222, \"#7201a8\"], [0.3333333333333333, \"#9c179e\"], [0.4444444444444444, \"#bd3786\"], [0.5555555555555556, \"#d8576b\"], [0.6666666666666666, \"#ed7953\"], [0.7777777777777778, \"#fb9f3a\"], [0.8888888888888888, \"#fdca26\"], [1.0, \"#f0f921\"]], \"type\": \"histogram2dcontour\"}], \"mesh3d\": [{\"colorbar\": {\"outlinewidth\": 0, \"ticks\": \"\"}, \"type\": \"mesh3d\"}], \"parcoords\": [{\"line\": {\"colorbar\": {\"outlinewidth\": 0, \"ticks\": \"\"}}, \"type\": \"parcoords\"}], \"pie\": [{\"automargin\": true, \"type\": \"pie\"}], \"scatter\": [{\"marker\": {\"colorbar\": {\"outlinewidth\": 0, \"ticks\": \"\"}}, \"type\": \"scatter\"}], \"scatter3d\": [{\"line\": {\"colorbar\": {\"outlinewidth\": 0, \"ticks\": \"\"}}, \"marker\": {\"colorbar\": {\"outlinewidth\": 0, \"ticks\": \"\"}}, \"type\": \"scatter3d\"}], \"scattercarpet\": [{\"marker\": {\"colorbar\": {\"outlinewidth\": 0, \"ticks\": \"\"}}, \"type\": \"scattercarpet\"}], \"scattergeo\": [{\"marker\": {\"colorbar\": {\"outlinewidth\": 0, \"ticks\": \"\"}}, \"type\": \"scattergeo\"}], \"scattergl\": [{\"marker\": {\"colorbar\": {\"outlinewidth\": 0, \"ticks\": \"\"}}, \"type\": \"scattergl\"}], \"scattermapbox\": [{\"marker\": {\"colorbar\": {\"outlinewidth\": 0, \"ticks\": \"\"}}, \"type\": \"scattermapbox\"}], \"scatterpolar\": [{\"marker\": {\"colorbar\": {\"outlinewidth\": 0, \"ticks\": \"\"}}, \"type\": \"scatterpolar\"}], \"scatterpolargl\": [{\"marker\": {\"colorbar\": {\"outlinewidth\": 0, \"ticks\": \"\"}}, \"type\": \"scatterpolargl\"}], \"scatterternary\": [{\"marker\": {\"colorbar\": {\"outlinewidth\": 0, \"ticks\": \"\"}}, \"type\": \"scatterternary\"}], \"surface\": [{\"colorbar\": {\"outlinewidth\": 0, \"ticks\": \"\"}, \"colorscale\": [[0.0, \"#0d0887\"], [0.1111111111111111, \"#46039f\"], [0.2222222222222222, \"#7201a8\"], [0.3333333333333333, \"#9c179e\"], [0.4444444444444444, \"#bd3786\"], [0.5555555555555556, \"#d8576b\"], [0.6666666666666666, \"#ed7953\"], [0.7777777777777778, \"#fb9f3a\"], [0.8888888888888888, \"#fdca26\"], [1.0, \"#f0f921\"]], \"type\": \"surface\"}], \"table\": [{\"cells\": {\"fill\": {\"color\": \"#EBF0F8\"}, \"line\": {\"color\": \"white\"}}, \"header\": {\"fill\": {\"color\": \"#C8D4E3\"}, \"line\": {\"color\": \"white\"}}, \"type\": \"table\"}]}, \"layout\": {\"annotationdefaults\": {\"arrowcolor\": \"#2a3f5f\", \"arrowhead\": 0, \"arrowwidth\": 1}, \"coloraxis\": {\"colorbar\": {\"outlinewidth\": 0, \"ticks\": \"\"}}, \"colorscale\": {\"diverging\": [[0, \"#8e0152\"], [0.1, \"#c51b7d\"], [0.2, \"#de77ae\"], [0.3, \"#f1b6da\"], [0.4, \"#fde0ef\"], [0.5, \"#f7f7f7\"], [0.6, \"#e6f5d0\"], [0.7, \"#b8e186\"], [0.8, \"#7fbc41\"], [0.9, \"#4d9221\"], [1, \"#276419\"]], \"sequential\": [[0.0, \"#0d0887\"], [0.1111111111111111, \"#46039f\"], [0.2222222222222222, \"#7201a8\"], [0.3333333333333333, \"#9c179e\"], [0.4444444444444444, \"#bd3786\"], [0.5555555555555556, \"#d8576b\"], [0.6666666666666666, \"#ed7953\"], [0.7777777777777778, \"#fb9f3a\"], [0.8888888888888888, \"#fdca26\"], [1.0, \"#f0f921\"]], \"sequentialminus\": [[0.0, \"#0d0887\"], [0.1111111111111111, \"#46039f\"], [0.2222222222222222, \"#7201a8\"], [0.3333333333333333, \"#9c179e\"], [0.4444444444444444, \"#bd3786\"], [0.5555555555555556, \"#d8576b\"], [0.6666666666666666, \"#ed7953\"], [0.7777777777777778, \"#fb9f3a\"], [0.8888888888888888, \"#fdca26\"], [1.0, \"#f0f921\"]]}, \"colorway\": [\"#636efa\", \"#EF553B\", \"#00cc96\", \"#ab63fa\", \"#FFA15A\", \"#19d3f3\", \"#FF6692\", \"#B6E880\", \"#FF97FF\", \"#FECB52\"], \"font\": {\"color\": \"#2a3f5f\"}, \"geo\": {\"bgcolor\": \"white\", \"lakecolor\": \"white\", \"landcolor\": \"#E5ECF6\", \"showlakes\": true, \"showland\": true, \"subunitcolor\": \"white\"}, \"hoverlabel\": {\"align\": \"left\"}, \"hovermode\": \"closest\", \"mapbox\": {\"style\": \"light\"}, \"paper_bgcolor\": \"white\", \"plot_bgcolor\": \"#E5ECF6\", \"polar\": {\"angularaxis\": {\"gridcolor\": \"white\", \"linecolor\": \"white\", \"ticks\": \"\"}, \"bgcolor\": \"#E5ECF6\", \"radialaxis\": {\"gridcolor\": \"white\", \"linecolor\": \"white\", \"ticks\": \"\"}}, \"scene\": {\"xaxis\": {\"backgroundcolor\": \"#E5ECF6\", \"gridcolor\": \"white\", \"gridwidth\": 2, \"linecolor\": \"white\", \"showbackground\": true, \"ticks\": \"\", \"zerolinecolor\": \"white\"}, \"yaxis\": {\"backgroundcolor\": \"#E5ECF6\", \"gridcolor\": \"white\", \"gridwidth\": 2, \"linecolor\": \"white\", \"showbackground\": true, \"ticks\": \"\", \"zerolinecolor\": \"white\"}, \"zaxis\": {\"backgroundcolor\": \"#E5ECF6\", \"gridcolor\": \"white\", \"gridwidth\": 2, \"linecolor\": \"white\", \"showbackground\": true, \"ticks\": \"\", \"zerolinecolor\": \"white\"}}, \"shapedefaults\": {\"line\": {\"color\": \"#2a3f5f\"}}, \"ternary\": {\"aaxis\": {\"gridcolor\": \"white\", \"linecolor\": \"white\", \"ticks\": \"\"}, \"baxis\": {\"gridcolor\": \"white\", \"linecolor\": \"white\", \"ticks\": \"\"}, \"bgcolor\": \"#E5ECF6\", \"caxis\": {\"gridcolor\": \"white\", \"linecolor\": \"white\", \"ticks\": \"\"}}, \"title\": {\"x\": 0.05}, \"xaxis\": {\"automargin\": true, \"gridcolor\": \"white\", \"linecolor\": \"white\", \"ticks\": \"\", \"title\": {\"standoff\": 15}, \"zerolinecolor\": \"white\", \"zerolinewidth\": 2}, \"yaxis\": {\"automargin\": true, \"gridcolor\": \"white\", \"linecolor\": \"white\", \"ticks\": \"\", \"title\": {\"standoff\": 15}, \"zerolinecolor\": \"white\", \"zerolinewidth\": 2}}}, \"title\": {\"text\": \"Top 20 Words by Total Alive Time\", \"x\": 0.5, \"xanchor\": \"center\", \"y\": 0.92, \"yanchor\": \"top\"}},\n",
       "                        {\"responsive\": true}\n",
       "                    ).then(function(){\n",
       "                            \n",
       "var gd = document.getElementById('6004be07-abbd-4838-906c-34afaff78239');\n",
       "var x = new MutationObserver(function (mutations, observer) {{\n",
       "        var display = window.getComputedStyle(gd).display;\n",
       "        if (!display || display === 'none') {{\n",
       "            console.log([gd, 'removed!']);\n",
       "            Plotly.purge(gd);\n",
       "            observer.disconnect();\n",
       "        }}\n",
       "}});\n",
       "\n",
       "// Listen for the removal of the full notebook cells\n",
       "var notebookContainer = gd.closest('#notebook-container');\n",
       "if (notebookContainer) {{\n",
       "    x.observe(notebookContainer, {childList: true});\n",
       "}}\n",
       "\n",
       "// Listen for the clearing of the current output cell\n",
       "var outputEl = gd.closest('.output');\n",
       "if (outputEl) {{\n",
       "    x.observe(outputEl, {childList: true});\n",
       "}}\n",
       "\n",
       "                        })\n",
       "                };\n",
       "                });\n",
       "            </script>\n",
       "        </div>"
      ]
     },
     "metadata": {},
     "output_type": "display_data"
    }
   ],
   "source": [
    "import plotly.graph_objects as go\n",
    "\n",
    "count_df = pd.read_csv(\"words_frequency_count.csv\", sep=',')\n",
    "labels1 = count_df['flatten_words'].values.tolist()\n",
    "values1 = count_df['count'].values.tolist()\n",
    "\n",
    "data = [go.Pie(labels=labels1,\n",
    "               values=values1,\n",
    "               textinfo='label+percent',)]\n",
    "layout = go.Layout(title={'text': \"Top 20 Words by Total Visitors\",\n",
    "                          'y':0.92,'x':0.5,\n",
    "                          'xanchor': 'center',\n",
    "                          'yanchor': 'top',}\n",
    "                   ,)\n",
    "fig1 = go.Figure(data=data, layout=layout)\n",
    "\n",
    "alivetime_df = pd.read_csv(\"words_frequency_alivetime.csv\", sep=',')\n",
    "labels2 = alivetime_df['flatten_words'].values.tolist()\n",
    "values2 = alivetime_df['alive_time'].values.tolist()\n",
    "\n",
    "data = [go.Pie(labels=labels2,\n",
    "               values=values2,\n",
    "               textinfo='label+percent',)]\n",
    "layout = go.Layout(title={'text': \"Top 20 Words by Total Alive Time\",\n",
    "                          'y':0.92,'x':0.5,\n",
    "                          'xanchor': 'center',\n",
    "                          'yanchor': 'top',}\n",
    "                   ,)\n",
    "fig2 = go.Figure(data=data, layout=layout)\n",
    "\n",
    "fig1.show()\n",
    "fig2.show()"
   ]
  },
  {
   "cell_type": "code",
   "execution_count": null,
   "metadata": {},
   "outputs": [],
   "source": []
  }
 ],
 "metadata": {
  "kernelspec": {
   "display_name": "Python 3",
   "language": "python",
   "name": "python3"
  },
  "language_info": {
   "codemirror_mode": {
    "name": "ipython",
    "version": 3
   },
   "file_extension": ".py",
   "mimetype": "text/x-python",
   "name": "python",
   "nbconvert_exporter": "python",
   "pygments_lexer": "ipython3",
   "version": "3.7.3"
  }
 },
 "nbformat": 4,
 "nbformat_minor": 2
}
